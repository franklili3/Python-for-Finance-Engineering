{
 "cells": [
  {
   "cell_type": "markdown",
   "metadata": {},
   "source": [
    "# Time-Weighted Average Price (TWAP) v1 using minute bar data"
   ]
  },
  {
   "cell_type": "markdown",
   "metadata": {},
   "source": [
    "## Parameters\n",
    "Parameters: &lt;side&gt; &lt;quantity&gt; [limit_px] \n",
    "\n",
    "side = \"b\" (buy) or \"s\" (sell)\n",
    "\n",
    "quantity = # of shares\n",
    "\n",
    "limit_px = limit price (optional)\n",
    "\n",
    "### Structure\n",
    "1. Get market data\n",
    "1. Read order parameters \n",
    "1. Calculate shares per bin to execute\n",
    "1. Initiate loop (reading market data)\n",
    "    1. Read each n bins of data\n",
    "    1. Record a trade at the bin price (last for now)\n",
    "    1. Accumulate the trade per bin\n",
    "1. Calculate and plot summary statistics (average price, slippage vs. vwap, vs. arrival, vs. interval vwap"
   ]
  },
  {
   "cell_type": "code",
   "execution_count": null,
   "metadata": {},
   "outputs": [],
   "source": [
    "%matplotlib inline\n",
    "\n",
    "import matplotlib\n",
    "import matplotlib.pyplot as plt\n",
    "import numpy as np\n",
    "import pandas as pd\n",
    "\n",
    "%run getstock.py"
   ]
  },
  {
   "cell_type": "code",
   "execution_count": null,
   "metadata": {},
   "outputs": [],
   "source": [
    "# get our market data, plot it to sanity check\n",
    "bars = getMinuteStockPrices(symbol='AAPL')\n",
    "bars.head()"
   ]
  },
  {
   "cell_type": "code",
   "execution_count": null,
   "metadata": {},
   "outputs": [],
   "source": [
    "day = bars['2019-04-11']"
   ]
  },
  {
   "cell_type": "code",
   "execution_count": null,
   "metadata": {},
   "outputs": [],
   "source": [
    "day['close'].plot(figsize=(16,9))"
   ]
  },
  {
   "cell_type": "markdown",
   "metadata": {},
   "source": [
    "## Time-Weighted Average Price (TWAP) v1.0"
   ]
  },
  {
   "cell_type": "code",
   "execution_count": null,
   "metadata": {},
   "outputs": [],
   "source": [
    "# order parameters\n",
    "quantity = 1000000\n",
    "quantity_remaining = quantity\n",
    "trades = pd.DataFrame( columns = ['price' , 'shares'], index=day.index )\n",
    "\n",
    "# v1.0 \n",
    "# assume this is a full day order\n",
    "# use 1 minute bins\n",
    "n_bins = 390\n",
    "slice_size = quantity / n_bins\n",
    "\n",
    "# main event loop\n",
    "for index, row in day.iterrows() :\n",
    "    # Read each bin of data\n",
    "    px = (row['high'] + row['low']) / 2 # calculate midpoint of that bar\n",
    "    volume = row['volume']\n",
    "    \n",
    "    # Calculate % of volume and bin price (last for now)\n",
    "    new_trade = slice_size\n",
    "    \n",
    "    # Accumulate the trade per bin\n",
    "    trades.loc[index] = [px, new_trade]\n",
    "    \n",
    "    # decrement the remaining qty, and bail out if it's zero\n",
    "    quantity_remaining -= new_trade\n",
    "    \n",
    "    # debug\n",
    "    #print( str(volume) + \" \" + str(new_trade) + \" \" + str(quantity_remaining) )\n",
    "    \n",
    "    if (quantity_remaining <= 0):\n",
    "        break"
   ]
  },
  {
   "cell_type": "code",
   "execution_count": null,
   "metadata": {},
   "outputs": [],
   "source": [
    "trades['shares'].sum()"
   ]
  },
  {
   "cell_type": "markdown",
   "metadata": {},
   "source": [
    "### Performance Analysis of TWAP"
   ]
  },
  {
   "cell_type": "code",
   "execution_count": null,
   "metadata": {},
   "outputs": [],
   "source": [
    "fig, ax1 = plt.subplots(figsize=(16,9))\n",
    "day['close'].plot(ax=ax1, color='k')\n",
    "trades['price'].plot(ax=ax1, color='r')\n",
    "plt.show()"
   ]
  },
  {
   "cell_type": "markdown",
   "metadata": {},
   "source": [
    "### Summary Statistics of TWAP Order"
   ]
  },
  {
   "cell_type": "code",
   "execution_count": null,
   "metadata": {},
   "outputs": [],
   "source": [
    "# average trade price\n",
    "pavg = (trades['price'] * trades['shares'] ).sum() /  trades['shares'].sum()\n",
    "\n",
    "# calculate VWAP\n",
    "vwap = (day['close'] * day['volume']).sum() / day['volume'].sum()\n",
    "\n",
    "slippage =  ((vwap - pavg) / vwap) * 10000\n",
    "\n",
    "print(\"VWAP: %.4f\" % vwap)\n",
    "print(\"Pavg: %.4f\" % pavg)\n",
    "print(\"Performance vs Day VWAP in bps: %.4f\" % slippage)"
   ]
  }
 ],
 "metadata": {
  "kernelspec": {
   "display_name": "Python 3",
   "language": "python",
   "name": "python3"
  },
  "language_info": {
   "codemirror_mode": {
    "name": "ipython",
    "version": 3
   },
   "file_extension": ".py",
   "mimetype": "text/x-python",
   "name": "python",
   "nbconvert_exporter": "python",
   "pygments_lexer": "ipython3",
   "version": "3.7.1"
  }
 },
 "nbformat": 4,
 "nbformat_minor": 2
}
