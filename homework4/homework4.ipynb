{
 "cells": [
  {
   "cell_type": "markdown",
   "metadata": {},
   "source": [
    "## 1.Load and process the trade and quote data as in class"
   ]
  },
  {
   "cell_type": "code",
   "execution_count": 1,
   "metadata": {},
   "outputs": [],
   "source": [
    "%matplotlib inline\n",
    "\n",
    "import matplotlib\n",
    "import matplotlib.pyplot as plt\n",
    "import numpy as np\n",
    "from scipy.ndimage.interpolation import shift\n",
    "import pandas as pd\n",
    "import time\n",
    "import datetime\n",
    "from sklearn import linear_model as linear_model\n",
    "matplotlib.rcParams[ 'figure.figsize' ] = ( 14, 6 )\n",
    "from pandas.plotting import register_matplotlib_converters\n",
    "\n",
    "register_matplotlib_converters()\n",
    "def show_time( label_string ):\n",
    "    ts = time.time()\n",
    "    st = datetime.datetime.fromtimestamp( ts ).strftime( '%Y-%m-%d %H:%M:%S:%f' )\n",
    "    print( label_string + ' : ' + st )"
   ]
  },
  {
   "cell_type": "code",
   "execution_count": 2,
   "metadata": {},
   "outputs": [
    {
     "name": "stdout",
     "output_type": "stream",
     "text": [
      "started loading trades : 2019-04-29 06:44:13:783029\n",
      "finished loading trades : 2019-04-29 06:44:17:166021\n",
      "started fixing trade index : 2019-04-29 06:44:17:166263\n",
      "finished fixing trade index : 2019-04-29 06:44:25:602842\n"
     ]
    }
   ],
   "source": [
    "# load trades\n",
    "show_time( 'started loading trades' )\n",
    "trades = pd.read_csv( 'SQ_trades_201902.zip' )\n",
    "show_time( 'finished loading trades')\n",
    "\n",
    "# index trades\n",
    "show_time( 'started fixing trade index')\n",
    "\n",
    "# fix column names\n",
    "trades = trades.rename( index=str, columns={ 'SIZE' : 'trade_qty', 'PRICE' : 'trade_price' } )\n",
    "\n",
    "# fix index\n",
    "times = trades[ 'DATE' ].astype( str ) + trades[ 'TIME_M' ].astype( str )\n",
    "formatStr = '%Y%m%d%H:%M:%S.%f'\n",
    "trades.index = pd.to_datetime( times, format = formatStr )\n",
    "\n",
    "# clean up unused columns\n",
    "trades = trades.drop( columns=[ 'DATE', 'TIME_M', 'SYM_ROOT', 'SYM_SUFFIX', 'TR_CORR', 'TR_SEQNUM', 'TR_RF' ] )\n",
    "show_time( 'finished fixing trade index' )"
   ]
  },
  {
   "cell_type": "code",
   "execution_count": 3,
   "metadata": {},
   "outputs": [
    {
     "name": "stdout",
     "output_type": "stream",
     "text": [
      "started loading quotes : 2019-04-29 06:44:25:618831\n",
      "finished loading quotes : 2019-04-29 06:44:27:570748\n",
      "started fixing quotes index : 2019-04-29 06:44:27:570946\n",
      "finished fixing quotes index : 2019-04-29 06:44:30:610828\n"
     ]
    }
   ],
   "source": [
    "# load quotes\n",
    "show_time( 'started loading quotes' )\n",
    "quotes = pd.read_csv( 'SQ_quotes_20190201.csv' )\n",
    "show_time( 'finished loading quotes')\n",
    "\n",
    "# index trades\n",
    "show_time( 'started fixing quotes index' )\n",
    "\n",
    "# fix column names\n",
    "quotes = quotes.rename( index=str, columns={ 'BID' : 'bid_price', 'BIDSIZ' : 'bid_qty', 'ASK' : 'ask_price', 'ASKSIZ' : 'ask_qty' } )\n",
    "\n",
    "# fix index\n",
    "times = quotes[ 'DATE' ].astype( str ) + ' '+quotes[ 'TIME_M' ].astype( str )\n",
    "formatStr = '%Y%m%d %H:%M:%S.%f'\n",
    "quotes.index = pd.to_datetime( times, format = formatStr )\n",
    "\n",
    "# cleanup unused columns\n",
    "quotes = quotes.drop( columns=[ 'DATE', 'TIME_M', 'QU_SEQNUM', 'QU_SOURCE', 'SYM_ROOT', 'SYM_SUFFIX' ] )\n",
    "show_time( 'finished fixing quotes index' )"
   ]
  },
  {
   "cell_type": "code",
   "execution_count": 4,
   "metadata": {},
   "outputs": [],
   "source": [
    "daytrades = trades['2019-02-01 09:30:00':'2019-02-01 16:00:00']\n"
   ]
  },
  {
   "cell_type": "code",
   "execution_count": 5,
   "metadata": {},
   "outputs": [],
   "source": [
    "dayquotes = quotes['2019-02-01 09:30:00':'2019-02-01 16:00:00']"
   ]
  },
  {
   "cell_type": "code",
   "execution_count": 6,
   "metadata": {},
   "outputs": [
    {
     "name": "stdout",
     "output_type": "stream",
     "text": [
      "start merge : 2019-04-29 06:44:34:088375\n",
      "end merge : 2019-04-29 06:44:34:788360\n"
     ]
    }
   ],
   "source": [
    "# now merge quote and tick data\n",
    "show_time( 'start merge' )\n",
    "taq = dayquotes.merge( daytrades, how = 'outer', left_index = True, right_index = True )\n",
    "show_time( 'end merge' )"
   ]
  },
  {
   "cell_type": "code",
   "execution_count": 7,
   "metadata": {},
   "outputs": [
    {
     "data": {
      "text/html": [
       "<div>\n",
       "<style scoped>\n",
       "    .dataframe tbody tr th:only-of-type {\n",
       "        vertical-align: middle;\n",
       "    }\n",
       "\n",
       "    .dataframe tbody tr th {\n",
       "        vertical-align: top;\n",
       "    }\n",
       "\n",
       "    .dataframe thead th {\n",
       "        text-align: right;\n",
       "    }\n",
       "</style>\n",
       "<table border=\"1\" class=\"dataframe\">\n",
       "  <thead>\n",
       "    <tr style=\"text-align: right;\">\n",
       "      <th></th>\n",
       "      <th>EX_x</th>\n",
       "      <th>bid_price</th>\n",
       "      <th>bid_qty</th>\n",
       "      <th>ask_price</th>\n",
       "      <th>ask_qty</th>\n",
       "      <th>QU_COND</th>\n",
       "      <th>NATBBO_IND</th>\n",
       "      <th>QU_CANCEL</th>\n",
       "      <th>EX_y</th>\n",
       "      <th>TR_SCOND</th>\n",
       "      <th>trade_qty</th>\n",
       "      <th>trade_price</th>\n",
       "      <th>TR_SOURCE</th>\n",
       "    </tr>\n",
       "  </thead>\n",
       "  <tbody>\n",
       "    <tr>\n",
       "      <th>2019-02-01 16:00:00.000000</th>\n",
       "      <td>J</td>\n",
       "      <td>66.97</td>\n",
       "      <td>1.0</td>\n",
       "      <td>0.0</td>\n",
       "      <td>0.0</td>\n",
       "      <td>R</td>\n",
       "      <td>A</td>\n",
       "      <td>NaN</td>\n",
       "      <td>NaN</td>\n",
       "      <td>NaN</td>\n",
       "      <td>NaN</td>\n",
       "      <td>NaN</td>\n",
       "      <td>NaN</td>\n",
       "    </tr>\n",
       "    <tr>\n",
       "      <th>2019-02-01 16:00:00.000000</th>\n",
       "      <td>B</td>\n",
       "      <td>66.97</td>\n",
       "      <td>1.0</td>\n",
       "      <td>0.0</td>\n",
       "      <td>0.0</td>\n",
       "      <td>R</td>\n",
       "      <td>A</td>\n",
       "      <td>NaN</td>\n",
       "      <td>NaN</td>\n",
       "      <td>NaN</td>\n",
       "      <td>NaN</td>\n",
       "      <td>NaN</td>\n",
       "      <td>NaN</td>\n",
       "    </tr>\n",
       "    <tr>\n",
       "      <th>2019-02-01 16:00:00.000000</th>\n",
       "      <td>Z</td>\n",
       "      <td>70.77</td>\n",
       "      <td>6.0</td>\n",
       "      <td>72.5</td>\n",
       "      <td>1.0</td>\n",
       "      <td>R</td>\n",
       "      <td>A</td>\n",
       "      <td>NaN</td>\n",
       "      <td>NaN</td>\n",
       "      <td>NaN</td>\n",
       "      <td>NaN</td>\n",
       "      <td>NaN</td>\n",
       "      <td>NaN</td>\n",
       "    </tr>\n",
       "    <tr>\n",
       "      <th>2019-02-01 16:00:00.155493</th>\n",
       "      <td>NaN</td>\n",
       "      <td>NaN</td>\n",
       "      <td>NaN</td>\n",
       "      <td>NaN</td>\n",
       "      <td>NaN</td>\n",
       "      <td>NaN</td>\n",
       "      <td>NaN</td>\n",
       "      <td>NaN</td>\n",
       "      <td>P</td>\n",
       "      <td>M</td>\n",
       "      <td>900.0</td>\n",
       "      <td>70.80</td>\n",
       "      <td>C</td>\n",
       "    </tr>\n",
       "    <tr>\n",
       "      <th>2019-02-01 16:00:00.371051</th>\n",
       "      <td>NaN</td>\n",
       "      <td>NaN</td>\n",
       "      <td>NaN</td>\n",
       "      <td>NaN</td>\n",
       "      <td>NaN</td>\n",
       "      <td>NaN</td>\n",
       "      <td>NaN</td>\n",
       "      <td>NaN</td>\n",
       "      <td>T</td>\n",
       "      <td>M</td>\n",
       "      <td>100.0</td>\n",
       "      <td>70.81</td>\n",
       "      <td>C</td>\n",
       "    </tr>\n",
       "  </tbody>\n",
       "</table>\n",
       "</div>"
      ],
      "text/plain": [
       "                           EX_x  bid_price  bid_qty  ask_price  ask_qty  \\\n",
       "2019-02-01 16:00:00.000000    J      66.97      1.0        0.0      0.0   \n",
       "2019-02-01 16:00:00.000000    B      66.97      1.0        0.0      0.0   \n",
       "2019-02-01 16:00:00.000000    Z      70.77      6.0       72.5      1.0   \n",
       "2019-02-01 16:00:00.155493  NaN        NaN      NaN        NaN      NaN   \n",
       "2019-02-01 16:00:00.371051  NaN        NaN      NaN        NaN      NaN   \n",
       "\n",
       "                           QU_COND NATBBO_IND  QU_CANCEL EX_y TR_SCOND  \\\n",
       "2019-02-01 16:00:00.000000       R          A        NaN  NaN      NaN   \n",
       "2019-02-01 16:00:00.000000       R          A        NaN  NaN      NaN   \n",
       "2019-02-01 16:00:00.000000       R          A        NaN  NaN      NaN   \n",
       "2019-02-01 16:00:00.155493     NaN        NaN        NaN    P        M   \n",
       "2019-02-01 16:00:00.371051     NaN        NaN        NaN    T        M   \n",
       "\n",
       "                            trade_qty  trade_price TR_SOURCE  \n",
       "2019-02-01 16:00:00.000000        NaN          NaN       NaN  \n",
       "2019-02-01 16:00:00.000000        NaN          NaN       NaN  \n",
       "2019-02-01 16:00:00.000000        NaN          NaN       NaN  \n",
       "2019-02-01 16:00:00.155493      900.0        70.80         C  \n",
       "2019-02-01 16:00:00.371051      100.0        70.81         C  "
      ]
     },
     "execution_count": 7,
     "metadata": {},
     "output_type": "execute_result"
    }
   ],
   "source": [
    "taq.tail()"
   ]
  },
  {
   "cell_type": "code",
   "execution_count": 8,
   "metadata": {},
   "outputs": [
    {
     "name": "stdout",
     "output_type": "stream",
     "text": [
      "1074274\n",
      "1158991\n",
      "1014024\n"
     ]
    }
   ],
   "source": [
    "print(len(taq))\n",
    "print(len(trades))\n",
    "print(len(quotes))"
   ]
  },
  {
   "cell_type": "code",
   "execution_count": 8,
   "metadata": {},
   "outputs": [
    {
     "data": {
      "text/html": [
       "<div>\n",
       "<style scoped>\n",
       "    .dataframe tbody tr th:only-of-type {\n",
       "        vertical-align: middle;\n",
       "    }\n",
       "\n",
       "    .dataframe tbody tr th {\n",
       "        vertical-align: top;\n",
       "    }\n",
       "\n",
       "    .dataframe thead th {\n",
       "        text-align: right;\n",
       "    }\n",
       "</style>\n",
       "<table border=\"1\" class=\"dataframe\">\n",
       "  <thead>\n",
       "    <tr style=\"text-align: right;\">\n",
       "      <th></th>\n",
       "      <th>EX</th>\n",
       "      <th>TR_SCOND</th>\n",
       "      <th>trade_qty</th>\n",
       "      <th>trade_price</th>\n",
       "      <th>TR_SOURCE</th>\n",
       "    </tr>\n",
       "  </thead>\n",
       "  <tbody>\n",
       "    <tr>\n",
       "      <th>2019-02-01 09:30:00.670951</th>\n",
       "      <td>N</td>\n",
       "      <td>O</td>\n",
       "      <td>110097</td>\n",
       "      <td>71.05</td>\n",
       "      <td>C</td>\n",
       "    </tr>\n",
       "    <tr>\n",
       "      <th>2019-02-01 09:30:00.673518</th>\n",
       "      <td>N</td>\n",
       "      <td>NaN</td>\n",
       "      <td>300</td>\n",
       "      <td>71.05</td>\n",
       "      <td>C</td>\n",
       "    </tr>\n",
       "    <tr>\n",
       "      <th>2019-02-01 09:30:00.674397</th>\n",
       "      <td>N</td>\n",
       "      <td>NaN</td>\n",
       "      <td>100</td>\n",
       "      <td>71.01</td>\n",
       "      <td>C</td>\n",
       "    </tr>\n",
       "    <tr>\n",
       "      <th>2019-02-01 09:30:00.692836</th>\n",
       "      <td>N</td>\n",
       "      <td>I</td>\n",
       "      <td>75</td>\n",
       "      <td>71.00</td>\n",
       "      <td>C</td>\n",
       "    </tr>\n",
       "    <tr>\n",
       "      <th>2019-02-01 09:30:00.694405</th>\n",
       "      <td>N</td>\n",
       "      <td>F</td>\n",
       "      <td>100</td>\n",
       "      <td>71.07</td>\n",
       "      <td>C</td>\n",
       "    </tr>\n",
       "  </tbody>\n",
       "</table>\n",
       "</div>"
      ],
      "text/plain": [
       "                           EX TR_SCOND  trade_qty  trade_price TR_SOURCE\n",
       "2019-02-01 09:30:00.670951  N        O     110097        71.05         C\n",
       "2019-02-01 09:30:00.673518  N      NaN        300        71.05         C\n",
       "2019-02-01 09:30:00.674397  N      NaN        100        71.01         C\n",
       "2019-02-01 09:30:00.692836  N        I         75        71.00         C\n",
       "2019-02-01 09:30:00.694405  N        F        100        71.07         C"
      ]
     },
     "execution_count": 8,
     "metadata": {},
     "output_type": "execute_result"
    }
   ],
   "source": [
    "daytrades.head()"
   ]
  },
  {
   "cell_type": "markdown",
   "metadata": {},
   "source": [
    "## 2.VWAP Profile"
   ]
  },
  {
   "cell_type": "code",
   "execution_count": 7,
   "metadata": {},
   "outputs": [],
   "source": [
    "# now let's make some 1 minute data using resample\n",
    "minute_data = pd.DataFrame()\n",
    "minute_data['open'] = daytrades['trade_price'].resample('Min').first()\n",
    "minute_data['close'] = daytrades['trade_price'].resample('Min').last()\n",
    "minute_data['high'] = daytrades['trade_price'].resample('Min').max()\n",
    "minute_data['low'] = daytrades['trade_price'].resample('Min').min()\n",
    "minute_data['volume'] = daytrades['trade_qty'].resample('Min').sum()"
   ]
  },
  {
   "cell_type": "code",
   "execution_count": 9,
   "metadata": {},
   "outputs": [
    {
     "data": {
      "text/html": [
       "<div>\n",
       "<style scoped>\n",
       "    .dataframe tbody tr th:only-of-type {\n",
       "        vertical-align: middle;\n",
       "    }\n",
       "\n",
       "    .dataframe tbody tr th {\n",
       "        vertical-align: top;\n",
       "    }\n",
       "\n",
       "    .dataframe thead th {\n",
       "        text-align: right;\n",
       "    }\n",
       "</style>\n",
       "<table border=\"1\" class=\"dataframe\">\n",
       "  <thead>\n",
       "    <tr style=\"text-align: right;\">\n",
       "      <th></th>\n",
       "      <th>open</th>\n",
       "      <th>close</th>\n",
       "      <th>high</th>\n",
       "      <th>low</th>\n",
       "      <th>volume</th>\n",
       "    </tr>\n",
       "  </thead>\n",
       "  <tbody>\n",
       "    <tr>\n",
       "      <th>2019-02-01 15:56:00</th>\n",
       "      <td>71.020</td>\n",
       "      <td>70.9844</td>\n",
       "      <td>71.020</td>\n",
       "      <td>70.950</td>\n",
       "      <td>41909</td>\n",
       "    </tr>\n",
       "    <tr>\n",
       "      <th>2019-02-01 15:57:00</th>\n",
       "      <td>70.980</td>\n",
       "      <td>70.9750</td>\n",
       "      <td>71.015</td>\n",
       "      <td>70.965</td>\n",
       "      <td>65094</td>\n",
       "    </tr>\n",
       "    <tr>\n",
       "      <th>2019-02-01 15:58:00</th>\n",
       "      <td>70.985</td>\n",
       "      <td>70.9350</td>\n",
       "      <td>70.990</td>\n",
       "      <td>70.920</td>\n",
       "      <td>124529</td>\n",
       "    </tr>\n",
       "    <tr>\n",
       "      <th>2019-02-01 15:59:00</th>\n",
       "      <td>70.940</td>\n",
       "      <td>70.7900</td>\n",
       "      <td>70.960</td>\n",
       "      <td>70.770</td>\n",
       "      <td>321877</td>\n",
       "    </tr>\n",
       "    <tr>\n",
       "      <th>2019-02-01 16:00:00</th>\n",
       "      <td>70.800</td>\n",
       "      <td>70.8100</td>\n",
       "      <td>70.810</td>\n",
       "      <td>70.800</td>\n",
       "      <td>1000</td>\n",
       "    </tr>\n",
       "  </tbody>\n",
       "</table>\n",
       "</div>"
      ],
      "text/plain": [
       "                       open    close    high     low  volume\n",
       "2019-02-01 15:56:00  71.020  70.9844  71.020  70.950   41909\n",
       "2019-02-01 15:57:00  70.980  70.9750  71.015  70.965   65094\n",
       "2019-02-01 15:58:00  70.985  70.9350  70.990  70.920  124529\n",
       "2019-02-01 15:59:00  70.940  70.7900  70.960  70.770  321877\n",
       "2019-02-01 16:00:00  70.800  70.8100  70.810  70.800    1000"
      ]
     },
     "execution_count": 9,
     "metadata": {},
     "output_type": "execute_result"
    }
   ],
   "source": [
    "minute_data.tail()"
   ]
  },
  {
   "cell_type": "code",
   "execution_count": 11,
   "metadata": {},
   "outputs": [],
   "source": [
    "# calculate the cumulative pct by day\n",
    "minute_data[ 'accum_volume' ] = minute_data.groupby( [ minute_data.index.date ] ).cumsum()[ 'volume' ] \n",
    "minute_data[ 'accum_pct' ] = minute_data.groupby( [ minute_data.index.date ] )[ 'accum_volume' ].transform( lambda x: x / x.iloc[ -1 ] )"
   ]
  },
  {
   "cell_type": "code",
   "execution_count": 12,
   "metadata": {},
   "outputs": [
    {
     "data": {
      "text/html": [
       "<div>\n",
       "<style scoped>\n",
       "    .dataframe tbody tr th:only-of-type {\n",
       "        vertical-align: middle;\n",
       "    }\n",
       "\n",
       "    .dataframe tbody tr th {\n",
       "        vertical-align: top;\n",
       "    }\n",
       "\n",
       "    .dataframe thead th {\n",
       "        text-align: right;\n",
       "    }\n",
       "</style>\n",
       "<table border=\"1\" class=\"dataframe\">\n",
       "  <thead>\n",
       "    <tr style=\"text-align: right;\">\n",
       "      <th></th>\n",
       "      <th>open</th>\n",
       "      <th>close</th>\n",
       "      <th>high</th>\n",
       "      <th>low</th>\n",
       "      <th>volume</th>\n",
       "      <th>minute_bars</th>\n",
       "      <th>accum_volume</th>\n",
       "      <th>accum_pct</th>\n",
       "    </tr>\n",
       "  </thead>\n",
       "  <tbody>\n",
       "    <tr>\n",
       "      <th>2019-02-01 15:56:00</th>\n",
       "      <td>71.020</td>\n",
       "      <td>70.9844</td>\n",
       "      <td>71.020</td>\n",
       "      <td>70.950</td>\n",
       "      <td>41909</td>\n",
       "      <td>386</td>\n",
       "      <td>11689065</td>\n",
       "      <td>0.957997</td>\n",
       "    </tr>\n",
       "    <tr>\n",
       "      <th>2019-02-01 15:57:00</th>\n",
       "      <td>70.980</td>\n",
       "      <td>70.9750</td>\n",
       "      <td>71.015</td>\n",
       "      <td>70.965</td>\n",
       "      <td>65094</td>\n",
       "      <td>387</td>\n",
       "      <td>11754159</td>\n",
       "      <td>0.963332</td>\n",
       "    </tr>\n",
       "    <tr>\n",
       "      <th>2019-02-01 15:58:00</th>\n",
       "      <td>70.985</td>\n",
       "      <td>70.9350</td>\n",
       "      <td>70.990</td>\n",
       "      <td>70.920</td>\n",
       "      <td>124529</td>\n",
       "      <td>388</td>\n",
       "      <td>11878688</td>\n",
       "      <td>0.973538</td>\n",
       "    </tr>\n",
       "    <tr>\n",
       "      <th>2019-02-01 15:59:00</th>\n",
       "      <td>70.940</td>\n",
       "      <td>70.7900</td>\n",
       "      <td>70.960</td>\n",
       "      <td>70.770</td>\n",
       "      <td>321877</td>\n",
       "      <td>389</td>\n",
       "      <td>12200565</td>\n",
       "      <td>0.999918</td>\n",
       "    </tr>\n",
       "    <tr>\n",
       "      <th>2019-02-01 16:00:00</th>\n",
       "      <td>70.800</td>\n",
       "      <td>70.8100</td>\n",
       "      <td>70.810</td>\n",
       "      <td>70.800</td>\n",
       "      <td>1000</td>\n",
       "      <td>390</td>\n",
       "      <td>12201565</td>\n",
       "      <td>1.000000</td>\n",
       "    </tr>\n",
       "  </tbody>\n",
       "</table>\n",
       "</div>"
      ],
      "text/plain": [
       "                       open    close    high     low  volume  minute_bars  \\\n",
       "2019-02-01 15:56:00  71.020  70.9844  71.020  70.950   41909          386   \n",
       "2019-02-01 15:57:00  70.980  70.9750  71.015  70.965   65094          387   \n",
       "2019-02-01 15:58:00  70.985  70.9350  70.990  70.920  124529          388   \n",
       "2019-02-01 15:59:00  70.940  70.7900  70.960  70.770  321877          389   \n",
       "2019-02-01 16:00:00  70.800  70.8100  70.810  70.800    1000          390   \n",
       "\n",
       "                     accum_volume  accum_pct  \n",
       "2019-02-01 15:56:00      11689065   0.957997  \n",
       "2019-02-01 15:57:00      11754159   0.963332  \n",
       "2019-02-01 15:58:00      11878688   0.973538  \n",
       "2019-02-01 15:59:00      12200565   0.999918  \n",
       "2019-02-01 16:00:00      12201565   1.000000  "
      ]
     },
     "execution_count": 12,
     "metadata": {},
     "output_type": "execute_result"
    }
   ],
   "source": [
    "minute_data.tail()"
   ]
  },
  {
   "cell_type": "code",
   "execution_count": 13,
   "metadata": {},
   "outputs": [],
   "source": [
    "# add a minute bin\n",
    "# US start of date, calc in minutes\n",
    "start_of_day = ( 9 * 60 ) + 30\n",
    "# get the time for each bin in minutes and subtract 9:30\n",
    "minute_data[ 'minute_bars' ] = ( minute_data.index.hour * 60 ) + minute_data.index.minute - start_of_day"
   ]
  },
  {
   "cell_type": "code",
   "execution_count": 14,
   "metadata": {},
   "outputs": [
    {
     "data": {
      "text/html": [
       "<div>\n",
       "<style scoped>\n",
       "    .dataframe tbody tr th:only-of-type {\n",
       "        vertical-align: middle;\n",
       "    }\n",
       "\n",
       "    .dataframe tbody tr th {\n",
       "        vertical-align: top;\n",
       "    }\n",
       "\n",
       "    .dataframe thead th {\n",
       "        text-align: right;\n",
       "    }\n",
       "</style>\n",
       "<table border=\"1\" class=\"dataframe\">\n",
       "  <thead>\n",
       "    <tr style=\"text-align: right;\">\n",
       "      <th></th>\n",
       "      <th>open</th>\n",
       "      <th>close</th>\n",
       "      <th>high</th>\n",
       "      <th>low</th>\n",
       "      <th>volume</th>\n",
       "      <th>minute_bars</th>\n",
       "      <th>accum_volume</th>\n",
       "      <th>accum_pct</th>\n",
       "    </tr>\n",
       "  </thead>\n",
       "  <tbody>\n",
       "    <tr>\n",
       "      <th>2019-02-01 15:56:00</th>\n",
       "      <td>71.020</td>\n",
       "      <td>70.9844</td>\n",
       "      <td>71.020</td>\n",
       "      <td>70.950</td>\n",
       "      <td>41909</td>\n",
       "      <td>386</td>\n",
       "      <td>11689065</td>\n",
       "      <td>0.957997</td>\n",
       "    </tr>\n",
       "    <tr>\n",
       "      <th>2019-02-01 15:57:00</th>\n",
       "      <td>70.980</td>\n",
       "      <td>70.9750</td>\n",
       "      <td>71.015</td>\n",
       "      <td>70.965</td>\n",
       "      <td>65094</td>\n",
       "      <td>387</td>\n",
       "      <td>11754159</td>\n",
       "      <td>0.963332</td>\n",
       "    </tr>\n",
       "    <tr>\n",
       "      <th>2019-02-01 15:58:00</th>\n",
       "      <td>70.985</td>\n",
       "      <td>70.9350</td>\n",
       "      <td>70.990</td>\n",
       "      <td>70.920</td>\n",
       "      <td>124529</td>\n",
       "      <td>388</td>\n",
       "      <td>11878688</td>\n",
       "      <td>0.973538</td>\n",
       "    </tr>\n",
       "    <tr>\n",
       "      <th>2019-02-01 15:59:00</th>\n",
       "      <td>70.940</td>\n",
       "      <td>70.7900</td>\n",
       "      <td>70.960</td>\n",
       "      <td>70.770</td>\n",
       "      <td>321877</td>\n",
       "      <td>389</td>\n",
       "      <td>12200565</td>\n",
       "      <td>0.999918</td>\n",
       "    </tr>\n",
       "    <tr>\n",
       "      <th>2019-02-01 16:00:00</th>\n",
       "      <td>70.800</td>\n",
       "      <td>70.8100</td>\n",
       "      <td>70.810</td>\n",
       "      <td>70.800</td>\n",
       "      <td>1000</td>\n",
       "      <td>390</td>\n",
       "      <td>12201565</td>\n",
       "      <td>1.000000</td>\n",
       "    </tr>\n",
       "  </tbody>\n",
       "</table>\n",
       "</div>"
      ],
      "text/plain": [
       "                       open    close    high     low  volume  minute_bars  \\\n",
       "2019-02-01 15:56:00  71.020  70.9844  71.020  70.950   41909          386   \n",
       "2019-02-01 15:57:00  70.980  70.9750  71.015  70.965   65094          387   \n",
       "2019-02-01 15:58:00  70.985  70.9350  70.990  70.920  124529          388   \n",
       "2019-02-01 15:59:00  70.940  70.7900  70.960  70.770  321877          389   \n",
       "2019-02-01 16:00:00  70.800  70.8100  70.810  70.800    1000          390   \n",
       "\n",
       "                     accum_volume  accum_pct  \n",
       "2019-02-01 15:56:00      11689065   0.957997  \n",
       "2019-02-01 15:57:00      11754159   0.963332  \n",
       "2019-02-01 15:58:00      11878688   0.973538  \n",
       "2019-02-01 15:59:00      12200565   0.999918  \n",
       "2019-02-01 16:00:00      12201565   1.000000  "
      ]
     },
     "execution_count": 14,
     "metadata": {},
     "output_type": "execute_result"
    }
   ],
   "source": [
    "minute_data.tail()"
   ]
  },
  {
   "cell_type": "code",
   "execution_count": 15,
   "metadata": {},
   "outputs": [],
   "source": [
    "# arrange our data\n",
    "minute_bars = minute_data[ 'minute_bars' ]\n",
    "X = pd.DataFrame( { 'bin': minute_bars, \n",
    "                    'bin2' : minute_bars**2, \n",
    "                    'bin3' : minute_bars**3, \n",
    "                    'bin4' : minute_bars**4, \n",
    "                    'bin5' : minute_bars**5 } )\n",
    "y = minute_data[ 'accum_pct' ]"
   ]
  },
  {
   "cell_type": "code",
   "execution_count": 16,
   "metadata": {},
   "outputs": [
    {
     "data": {
      "text/plain": [
       "0.9989652741407131"
      ]
     },
     "execution_count": 16,
     "metadata": {},
     "output_type": "execute_result"
    }
   ],
   "source": [
    "# now do the regression\n",
    "lm = linear_model.LinearRegression()\n",
    "model = lm.fit( X, y )\n",
    "predictions = lm.predict( X )\n",
    "# Rsquared\n",
    "lm.score( X, y )"
   ]
  },
  {
   "cell_type": "code",
   "execution_count": 17,
   "metadata": {},
   "outputs": [
    {
     "data": {
      "text/plain": [
       "Series([], Freq: T, Name: accum_pct, dtype: float64)"
      ]
     },
     "execution_count": 17,
     "metadata": {},
     "output_type": "execute_result"
    }
   ],
   "source": [
    "# do we have any null values?\n",
    "y[y.isnull()]"
   ]
  },
  {
   "cell_type": "code",
   "execution_count": 19,
   "metadata": {},
   "outputs": [
    {
     "data": {
      "text/plain": [
       "391"
      ]
     },
     "execution_count": 19,
     "metadata": {},
     "output_type": "execute_result"
    }
   ],
   "source": [
    "len(X)"
   ]
  },
  {
   "cell_type": "code",
   "execution_count": 20,
   "metadata": {},
   "outputs": [
    {
     "data": {
      "text/plain": [
       "array([ 8.54232435e-03, -6.31385359e-05,  2.81254690e-07, -6.15092717e-10,\n",
       "        5.28396280e-13])"
      ]
     },
     "execution_count": 20,
     "metadata": {},
     "output_type": "execute_result"
    }
   ],
   "source": [
    "# coefficients\n",
    "lm.coef_"
   ]
  },
  {
   "cell_type": "code",
   "execution_count": 21,
   "metadata": {},
   "outputs": [
    {
     "data": {
      "text/plain": [
       "0.018688549293718104"
      ]
     },
     "execution_count": 21,
     "metadata": {},
     "output_type": "execute_result"
    }
   ],
   "source": [
    "lm.intercept_"
   ]
  },
  {
   "cell_type": "code",
   "execution_count": 18,
   "metadata": {},
   "outputs": [
    {
     "data": {
      "text/plain": [
       "0.9987678965127181"
      ]
     },
     "execution_count": 18,
     "metadata": {},
     "output_type": "execute_result"
    }
   ],
   "source": [
    "# now do the regression with no intercept\n",
    "lm2 = linear_model.LinearRegression( fit_intercept = False )\n",
    "model = lm2.fit( X, y )\n",
    "predictions = lm2.predict( X )\n",
    "\n",
    "# Rsquared\n",
    "lm2.score( X, y )"
   ]
  },
  {
   "cell_type": "code",
   "execution_count": 19,
   "metadata": {},
   "outputs": [
    {
     "data": {
      "text/plain": [
       "array([ 9.37975866e-03, -7.45755149e-05,  3.47151656e-07, -7.83841929e-10,\n",
       "        6.86846239e-13])"
      ]
     },
     "execution_count": 19,
     "metadata": {},
     "output_type": "execute_result"
    }
   ],
   "source": [
    "lm2.coef_"
   ]
  },
  {
   "cell_type": "code",
   "execution_count": 20,
   "metadata": {},
   "outputs": [
    {
     "data": {
      "text/plain": [
       "0.0"
      ]
     },
     "execution_count": 20,
     "metadata": {},
     "output_type": "execute_result"
    }
   ],
   "source": [
    "lm2.intercept_"
   ]
  },
  {
   "cell_type": "code",
   "execution_count": 21,
   "metadata": {},
   "outputs": [],
   "source": [
    "def vwap_target( bar_num, coefs ):\n",
    "    return ( coefs[ 0 ] * bar_num + \n",
    "             coefs[ 1 ] * bar_num**2 + \n",
    "             coefs[ 2 ] * bar_num**3 +\n",
    "             coefs[ 3 ] * bar_num**4 +\n",
    "             coefs[ 4 ] * bar_num**5 )"
   ]
  },
  {
   "cell_type": "code",
   "execution_count": 22,
   "metadata": {},
   "outputs": [],
   "source": [
    "bins = np.arange(0,391)\n",
    "tgts = vwap_target( bins, lm2.coef_ )"
   ]
  },
  {
   "cell_type": "code",
   "execution_count": 23,
   "metadata": {},
   "outputs": [
    {
     "data": {
      "text/plain": [
       "[<matplotlib.lines.Line2D at 0x1a32007eb8>]"
      ]
     },
     "execution_count": 23,
     "metadata": {},
     "output_type": "execute_result"
    },
    {
     "data": {
      "image/png": "[encoded data removed]",
      "text/plain": [
       "<Figure size 1152x648 with 1 Axes>"
      ]
     },
     "metadata": {
      "needs_background": "light"
     },
     "output_type": "display_data"
    }
   ],
   "source": [
    "fig, ax1 = plt.subplots(figsize=(16,9))\n",
    "plt.plot(tgts)"
   ]
  },
  {
   "cell_type": "code",
   "execution_count": 24,
   "metadata": {},
   "outputs": [
    {
     "data": {
      "text/plain": [
       "0.9711537332776548"
      ]
     },
     "execution_count": 24,
     "metadata": {},
     "output_type": "execute_result"
    }
   ],
   "source": [
    "tgts[-1]"
   ]
  },
  {
   "cell_type": "code",
   "execution_count": 25,
   "metadata": {},
   "outputs": [
    {
     "data": {
      "text/plain": [
       "DatetimeIndex(['2019-02-01 09:30:00', '2019-02-01 09:31:00',\n",
       "               '2019-02-01 09:32:00', '2019-02-01 09:33:00',\n",
       "               '2019-02-01 09:34:00', '2019-02-01 09:35:00',\n",
       "               '2019-02-01 09:36:00', '2019-02-01 09:37:00',\n",
       "               '2019-02-01 09:38:00', '2019-02-01 09:39:00',\n",
       "               ...\n",
       "               '2019-02-01 15:51:00', '2019-02-01 15:52:00',\n",
       "               '2019-02-01 15:53:00', '2019-02-01 15:54:00',\n",
       "               '2019-02-01 15:55:00', '2019-02-01 15:56:00',\n",
       "               '2019-02-01 15:57:00', '2019-02-01 15:58:00',\n",
       "               '2019-02-01 15:59:00', '2019-02-01 16:00:00'],\n",
       "              dtype='datetime64[ns]', length=391, freq='T')"
      ]
     },
     "execution_count": 25,
     "metadata": {},
     "output_type": "execute_result"
    }
   ],
   "source": [
    "# or is there something about this that keeps it from getting to 1.0 that I'm forgetting?\n",
    "minute_data.index"
   ]
  },
  {
   "cell_type": "code",
   "execution_count": 31,
   "metadata": {},
   "outputs": [
    {
     "data": {
      "image/png": "[encoded data removed]",
      "text/plain": [
       "<Figure size 1152x648 with 1 Axes>"
      ]
     },
     "metadata": {
      "needs_background": "light"
     },
     "output_type": "display_data"
    }
   ],
   "source": [
    "tgt_date = '2019-02-01'\n",
    "fig, ax1 = plt.subplots( figsize = ( 16, 9 ) )\n",
    "ax1.plot( minute_data[ 'accum_pct' ] )\n",
    "tgtsSeries = pd.Series( tgts )\n",
    "tgtsSeries.index = minute_data.index\n",
    "ax1.plot( tgtsSeries )\n",
    "plt.show()"
   ]
  },
  {
   "cell_type": "code",
   "execution_count": 26,
   "metadata": {},
   "outputs": [
    {
     "data": {
      "text/plain": [
       "<matplotlib.axes._subplots.AxesSubplot at 0x1a2807a8d0>"
      ]
     },
     "execution_count": 26,
     "metadata": {},
     "output_type": "execute_result"
    },
    {
     "data": {
      "image/png": "[encoded data removed]",
      "text/plain": [
       "<Figure size 1152x648 with 1 Axes>"
      ]
     },
     "metadata": {
      "needs_background": "light"
     },
     "output_type": "display_data"
    }
   ],
   "source": [
    "minute_data['close'].plot(figsize=(16,9))"
   ]
  },
  {
   "cell_type": "markdown",
   "metadata": {},
   "source": [
    "## 3.run a modified VWAP Algo"
   ]
  },
  {
   "cell_type": "code",
   "execution_count": 27,
   "metadata": {},
   "outputs": [],
   "source": [
    "#vwap_coefs = [ 7.49930092e-03, -5.05137528e-05,  2.26416619e-07, -5.19862243e-10, 4.79918459e-13 ]\n",
    "\n",
    "# returns next minute target\n",
    "# scale the last value to ensure it converges to 1 by the end and then shift the series by back by one\n",
    "def get_vwap_targets( order_size, coefs ):\n",
    "    bar_num = np.arange( 0, 391 )\n",
    "    bar_pcts = ( coefs[ 0 ] * bar_num + \n",
    "                coefs[ 1 ] * bar_num ** 2 + \n",
    "                coefs[ 2 ] * bar_num ** 3 + \n",
    "                coefs[ 3 ] * bar_num ** 4 + \n",
    "                coefs[ 4 ] * bar_num ** 5 )\n",
    "    bar_pcts = bar_pcts / ( coefs[ 0 ] * 390 + \n",
    "                coefs[ 1 ] * 390 ** 2 + \n",
    "                coefs[ 2 ] * 390 ** 3 + \n",
    "                coefs[ 3 ] * 390 ** 4 + \n",
    "                coefs[ 4 ] * 390 ** 5 )\n",
    "    bar_pcts = shift( bar_pcts, -1, cval=1 )\n",
    "    return np.minimum( ( bar_pcts * order_size ).astype( int ), order_size )"
   ]
  },
  {
   "cell_type": "code",
   "execution_count": 28,
   "metadata": {},
   "outputs": [],
   "source": [
    "order_quantity = 300000"
   ]
  },
  {
   "cell_type": "code",
   "execution_count": 29,
   "metadata": {},
   "outputs": [],
   "source": [
    "# generate target schedule - use bins 1 - 390 giving an automatic 1 minute \"look ahead\"\n",
    "# note that targets have been converted to shares from percent\n",
    "order_targets = get_vwap_targets( order_quantity, lm2.coef_ )"
   ]
  },
  {
   "cell_type": "code",
   "execution_count": 30,
   "metadata": {},
   "outputs": [
    {
     "name": "stdout",
     "output_type": "stream",
     "text": [
      "start loop : 2019-04-29 06:49:36:247687\n",
      "end loop : 2019-04-29 06:54:37:428283\n"
     ]
    },
    {
     "ename": "AttributeError",
     "evalue": "'tuple' object has no attribute 'plot'",
     "output_type": "error",
     "traceback": [
      "\u001b[0;31m---------------------------------------------------------------------------\u001b[0m",
      "\u001b[0;31mAttributeError\u001b[0m                            Traceback (most recent call last)",
      "\u001b[0;32m<ipython-input-30-469b4f5ffd82>\u001b[0m in \u001b[0;36m<module>\u001b[0;34m\u001b[0m\n\u001b[1;32m    107\u001b[0m         \u001b[0mshow_time\u001b[0m\u001b[0;34m(\u001b[0m \u001b[0;34m'end loop'\u001b[0m \u001b[0;34m)\u001b[0m\u001b[0;34m\u001b[0m\u001b[0;34m\u001b[0m\u001b[0m\n\u001b[1;32m    108\u001b[0m         \u001b[0mminute_data\u001b[0m\u001b[0;34m[\u001b[0m\u001b[0;34m'close'\u001b[0m\u001b[0;34m]\u001b[0m\u001b[0;34m.\u001b[0m\u001b[0mplot\u001b[0m\u001b[0;34m(\u001b[0m\u001b[0mfigsize\u001b[0m\u001b[0;34m=\u001b[0m\u001b[0;34m(\u001b[0m\u001b[0;36m16\u001b[0m\u001b[0;34m,\u001b[0m\u001b[0;36m9\u001b[0m\u001b[0;34m)\u001b[0m\u001b[0;34m)\u001b[0m\u001b[0;34m\u001b[0m\u001b[0;34m\u001b[0m\u001b[0m\n\u001b[0;32m--> 109\u001b[0;31m         \u001b[0mtrades_arr\u001b[0m\u001b[0;34m[\u001b[0m\u001b[0;36m0\u001b[0m\u001b[0;34m]\u001b[0m\u001b[0;34m.\u001b[0m\u001b[0mplot\u001b[0m\u001b[0;34m(\u001b[0m\u001b[0mfigsize\u001b[0m\u001b[0;34m=\u001b[0m\u001b[0;34m(\u001b[0m\u001b[0;36m16\u001b[0m\u001b[0;34m,\u001b[0m\u001b[0;36m9\u001b[0m\u001b[0;34m)\u001b[0m\u001b[0;34m)\u001b[0m\u001b[0;34m\u001b[0m\u001b[0;34m\u001b[0m\u001b[0m\n\u001b[0m\u001b[1;32m    110\u001b[0m         \u001b[0maverage_trades_price\u001b[0m \u001b[0;34m=\u001b[0m \u001b[0mtrades_amount\u001b[0m \u001b[0;34m/\u001b[0m \u001b[0mquantity_filled\u001b[0m\u001b[0;34m\u001b[0m\u001b[0;34m\u001b[0m\u001b[0m\n\u001b[1;32m    111\u001b[0m         \u001b[0mdaily_vwap\u001b[0m \u001b[0;34m=\u001b[0m \u001b[0mvwap_numerator\u001b[0m \u001b[0;34m/\u001b[0m \u001b[0mtotal_volume\u001b[0m\u001b[0;34m\u001b[0m\u001b[0;34m\u001b[0m\u001b[0m\n",
      "\u001b[0;31mAttributeError\u001b[0m: 'tuple' object has no attribute 'plot'"
     ]
    },
    {
     "data": {
      "image/png": "[encoded data removed]",
      "text/plain": [
       "<Figure size 1152x648 with 1 Axes>"
      ]
     },
     "metadata": {
      "needs_background": "light"
     },
     "output_type": "display_data"
    }
   ],
   "source": [
    "# initialize some other variables\n",
    "current_bar = 1\n",
    "current_target = 0\n",
    "quantity_filled = 0\n",
    "bid_price = 0.0\n",
    "bid_quantity = 0.0\n",
    "offer_price = 0.0\n",
    "offer_quantity = 0.0\n",
    "last_price = 0.0\n",
    "last_quantity = 0.0\n",
    "total_volume = 0.0\n",
    "vwap_numerator = 0.0\n",
    "trades_arr = []\n",
    "passive_order_live = False\n",
    "passive_order_price = 0\n",
    "passive_order_quantity = 0\n",
    "limit_price = 71\n",
    "avg_spread = 0.05\n",
    "trades_amount = 0\n",
    "average_trades_price = 0\n",
    "daily_vwap =0\n",
    "diff_average_trades_price_daily_vwap = 0\n",
    "n = 1\n",
    "for n in (1, 2):\n",
    "    tolerance_threshold = 3000  * n\n",
    "    for order_side in ('b', 's'):\n",
    "        trades_amount = 0\n",
    "        quantity_remaining = order_quantity\n",
    "        # main event loop\n",
    "        show_time( 'start loop' )\n",
    "        for index, row in taq.iterrows():\n",
    "            # figure out which minute we are in after the open\n",
    "            time_from_open = ( index - pd.Timedelta( hours = 9, minutes = 30 ) )\n",
    "            minutes_from_open = ( time_from_open.hour * 60 ) + time_from_open.minute\n",
    "        \n",
    "            # determine message type\n",
    "            if ( pd.isnull( row[ 'trade_qty' ] ) ): # it's a quote\n",
    "                # collect BBO\n",
    "                bid_price = row[ 'bid_price' ]\n",
    "                offer_price = row[ 'ask_price' ]\n",
    "        \n",
    "                # what's wrong with the lines below?\n",
    "                bid_quantity = row[ 'bid_qty' ] * 100 \n",
    "                offer_quantity = row[ 'ask_qty' ] * 100\n",
    "    \n",
    "            else: # it's a trade\n",
    "                last_price = row[ 'trade_price' ]\n",
    "                last_quantity = row[ 'trade_qty' ]\n",
    "        \n",
    "                # collect volume\n",
    "                total_volume += last_quantity\n",
    "                # collect rolling VWAP\n",
    "                vwap_numerator += last_quantity * last_price\n",
    "        \n",
    "                # now check to see if we have an order open?\n",
    "                if passive_order_live:\n",
    "                    # has our order been hit?\n",
    "                    if ( order_side == 'b' and last_price <= passive_order_price ) or ( order_side == 's' and last_price >= passive_order_price):\n",
    "                        # we have a trade\n",
    "                        new_trade_quantity = min( last_quantity, passive_order_quantity )\n",
    "                        trades_arr.append( ( last_price, new_trade_quantity, current_bar, index ) )\n",
    "                        quantity_remaining = min( 0, quantity_remaining - new_trade_quantity )\n",
    "                        quantity_filled += new_trade_quantity  \n",
    "                        passive_order_live = False\n",
    "                        trades_amount +=  last_price * new_trade_quantity\n",
    "\n",
    "            # are we in a new minute?\n",
    "            if ( minutes_from_open > current_bar ):\n",
    "                # we're in a new bar do new bar things here\n",
    "                current_bar = minutes_from_open\n",
    "                current_target = min( np.ceil( order_targets[ current_bar ] ), order_quantity )\n",
    "                #print ( str(current_bar) + ': ' + str( current_target ) )\n",
    "        \n",
    "            # trade logic\n",
    "            # v1.5: are we behind the target by more than our threshold? If so, do a trade, just pay the spread\n",
    "            quantity_behind = current_target - quantity_filled\n",
    "            if ( quantity_behind > tolerance_threshold ): # we need to trade now\n",
    "        \n",
    "                # assume you can execute the full size across spread\n",
    "                new_trade_quantity = quantity_behind\n",
    "                if ( order_side == 'b' ):\n",
    "                    new_trade_price = offer_price\n",
    "                else: \n",
    "                    new_trade_price = bid_price\n",
    "            \n",
    "                # do we have a valid last trade price? if not, we should skip, because market data is bad. \n",
    "                if ( new_trade_price == 0 ) or ( offer_price - bid_price > 5 * avg_spread ):\n",
    "                    # something is wrong, wait for market data to update\n",
    "                    continue\n",
    "        \n",
    "                trades_arr.append( ( new_trade_price, new_trade_quantity, current_bar, index ) )\n",
    "        \n",
    "                # update quantity remaining\n",
    "                quantity_remaining = min( 0, quantity_remaining - new_trade_quantity )\n",
    "                quantity_filled += new_trade_quantity    \n",
    "        \n",
    "            else: # we should place a passive order (if we don't already have one out there), (unless we are less than 100 shares!)\n",
    "                if ( passive_order_live == False ) and ( quantity_behind >= 100 ):\n",
    "                    passive_order_quantity = quantity_behind\n",
    "                    if ( order_side == 'b' ):\n",
    "                        passive_order_price = bid_price\n",
    "                    else:\n",
    "                        passive_order_price = offer_price\n",
    "                    passive_order_live = True\n",
    "        \n",
    "        # looping done\n",
    "        show_time( 'end loop' )\n",
    "        minute_data['close'].plot(figsize=(16,9))\n",
    "        trades_df = pd.DataFrame(trades_arr)\n",
    "        trades_df = trades_df.set_index(3)\n",
    "        trades_df[0].plot(figsize=(16,9))\n",
    "        average_trades_price = trades_amount / quantity_filled\n",
    "        daily_vwap = vwap_numerator / total_volume\n",
    "        diff_average_trades_price_daily_vwap = average_trades_price - daily_vwap\n",
    "        print('average trades price: {0:.4f}, daily vwap: {1:.4f}, difference: {2:.4f}'.format(average_trades_price, daily_vwap, diff_average_trades_price_daily_vwap))\n",
    "\n",
    "tolerance_threshold = 1000 \n",
    "for order_side in ('b', 's'):\n",
    "    trades_amount = 0\n",
    "    quantity_remaining = 30000\n",
    "    # main event loop\n",
    "    show_time( 'start loop' )\n",
    "    for index, row in taq.iterrows():\n",
    "        # figure out which minute we are in after the open\n",
    "        time_from_open = ( index - pd.Timedelta( hours = 9, minutes = 30 ) )\n",
    "        minutes_from_open = ( time_from_open.hour * 60 ) + time_from_open.minute\n",
    "        \n",
    "        # determine message type\n",
    "        if ( pd.isnull( row[ 'trade_qty' ] ) ): # it's a quote\n",
    "            # collect BBO\n",
    "            bid_price = row[ 'bid_price' ]\n",
    "            offer_price = row[ 'ask_price' ]\n",
    "        \n",
    "            # what's wrong with the lines below?\n",
    "            bid_quantity = row[ 'bid_qty' ] * 100 \n",
    "            offer_quantity = row[ 'ask_qty' ] * 100\n",
    "    \n",
    "        else: # it's a trade\n",
    "            last_price = row[ 'trade_price' ]\n",
    "            last_quantity = row[ 'trade_qty' ]\n",
    "        \n",
    "            # collect volume\n",
    "            total_volume += last_quantity\n",
    "            # collect rolling VWAP\n",
    "            vwap_numerator += last_quantity * last_price\n",
    "        \n",
    "            # now check to see if we have an order open?\n",
    "            if passive_order_live:\n",
    "                # has our order been hit?\n",
    "                if ( order_side == 'b' and last_price <= passive_order_price and limit_price >= last_price) or ( order_side == 's' and last_price >= passive_order_price and limit_price <= last_price):\n",
    "                    # we have a trade\n",
    "                    new_trade_quantity = min( last_quantity, passive_order_quantity )\n",
    "                    trades_arr.append( ( last_price, new_trade_quantity, current_bar, index ) )\n",
    "                    quantity_remaining = min( 0, quantity_remaining - new_trade_quantity )\n",
    "                    quantity_filled += new_trade_quantity  \n",
    "                    passive_order_live = False\n",
    "                    trades_amount +=  last_price * new_trade_quantity\n",
    "\n",
    "        # are we in a new minute?\n",
    "        if ( minutes_from_open > current_bar ):\n",
    "            # we're in a new bar do new bar things here\n",
    "            current_bar = minutes_from_open\n",
    "            current_target = min( np.ceil( order_targets[ current_bar ] ), order_quantity )\n",
    "            #print ( str(current_bar) + ': ' + str( current_target ) )\n",
    "        \n",
    "        # trade logic\n",
    "        # v1.5: are we behind the target by more than our threshold? If so, do a trade, just pay the spread\n",
    "        quantity_behind = current_target - quantity_filled\n",
    "        if ( quantity_behind > tolerance_threshold ): # we need to trade now\n",
    "        \n",
    "            # assume you can execute the full size across spread\n",
    "            new_trade_quantity = quantity_behind\n",
    "            if ( order_side == 'b' ):\n",
    "                new_trade_price = offer_price\n",
    "            else: \n",
    "                new_trade_price = bid_price\n",
    "            \n",
    "            # do we have a valid last trade price? if not, we should skip, because market data is bad. \n",
    "            if ( new_trade_price == 0 ) or ( offer_price - bid_price > 5 * avg_spread ):\n",
    "                # something is wrong, wait for market data to update\n",
    "                continue\n",
    "        \n",
    "            trades_arr.append( ( new_trade_price, new_trade_quantity, current_bar, index ) )\n",
    "        \n",
    "            # update quantity remaining\n",
    "            quantity_remaining = min( 0, quantity_remaining - new_trade_quantity )\n",
    "            quantity_filled += new_trade_quantity    \n",
    "        \n",
    "        else: # we should place a passive order (if we don't already have one out there), (unless we are less than 100 shares!)\n",
    "            if ( passive_order_live == False ) and ( quantity_behind >= 100 ):\n",
    "                passive_order_quantity = quantity_behind\n",
    "                if ( order_side == 'b' ):\n",
    "                    passive_order_price = bid_price\n",
    "                else:\n",
    "                    passive_order_price = offer_price\n",
    "                passive_order_live = True\n",
    "        \n",
    "    # looping done\n",
    "    show_time( 'end loop' )\n",
    "    minute_data['close'].plot(figsize=(16,9))\n",
    "    trades_df = pd.DataFrame(trades_arr)\n",
    "    trades_df = trades_df.set_index(3)\n",
    "    trades_df[0].plot(figsize=(16,9))\n",
    "    average_trades_price = trades_amount / quantity_filled\n",
    "    daily_vwap = vwap_numerator / total_volume\n",
    "    diff_average_trades_price_daily_vwap = average_trades_price - daily_vwap\n",
    "    print('average trades price: {0:.4f}, daily vwap: {1:.4f}, difference: {2:.4f}'.format(average_trades_price, daily_vwap, diff_average_trades_price_daily_vwap))\n",
    "\n"
   ]
  },
  {
   "cell_type": "code",
   "execution_count": 31,
   "metadata": {},
   "outputs": [],
   "source": [
    "trades_df = pd.DataFrame(trades_arr)\n",
    "\n"
   ]
  },
  {
   "cell_type": "code",
   "execution_count": 37,
   "metadata": {},
   "outputs": [
    {
     "data": {
      "text/plain": [
       "<matplotlib.axes._subplots.AxesSubplot at 0x1a282f2fd0>"
      ]
     },
     "execution_count": 37,
     "metadata": {},
     "output_type": "execute_result"
    },
    {
     "data": {
      "image/png": "[encoded data removed]",
      "text/plain": [
       "<Figure size 1152x648 with 1 Axes>"
      ]
     },
     "metadata": {
      "needs_background": "light"
     },
     "output_type": "display_data"
    }
   ],
   "source": [
    "trades_df[0].plot(figsize=(16,9))\n",
    "\n"
   ]
  },
  {
   "cell_type": "code",
   "execution_count": 35,
   "metadata": {},
   "outputs": [],
   "source": [
    "trades_df = trades_df.set_index(3)\n",
    "\n"
   ]
  },
  {
   "cell_type": "code",
   "execution_count": 34,
   "metadata": {},
   "outputs": [
    {
     "data": {
      "text/html": [
       "<div>\n",
       "<style scoped>\n",
       "    .dataframe tbody tr th:only-of-type {\n",
       "        vertical-align: middle;\n",
       "    }\n",
       "\n",
       "    .dataframe tbody tr th {\n",
       "        vertical-align: top;\n",
       "    }\n",
       "\n",
       "    .dataframe thead th {\n",
       "        text-align: right;\n",
       "    }\n",
       "</style>\n",
       "<table border=\"1\" class=\"dataframe\">\n",
       "  <thead>\n",
       "    <tr style=\"text-align: right;\">\n",
       "      <th></th>\n",
       "      <th>open</th>\n",
       "      <th>close</th>\n",
       "      <th>high</th>\n",
       "      <th>low</th>\n",
       "      <th>volume</th>\n",
       "      <th>minute_bars</th>\n",
       "      <th>accum_volume</th>\n",
       "      <th>accum_pct</th>\n",
       "    </tr>\n",
       "  </thead>\n",
       "  <tbody>\n",
       "    <tr>\n",
       "      <th>2019-02-01 09:30:00</th>\n",
       "      <td>71.0500</td>\n",
       "      <td>71.0700</td>\n",
       "      <td>71.220</td>\n",
       "      <td>70.76</td>\n",
       "      <td>210467</td>\n",
       "      <td>0</td>\n",
       "      <td>210467</td>\n",
       "      <td>0.017249</td>\n",
       "    </tr>\n",
       "    <tr>\n",
       "      <th>2019-02-01 09:31:00</th>\n",
       "      <td>71.0732</td>\n",
       "      <td>71.0101</td>\n",
       "      <td>71.210</td>\n",
       "      <td>71.00</td>\n",
       "      <td>33881</td>\n",
       "      <td>1</td>\n",
       "      <td>244348</td>\n",
       "      <td>0.020026</td>\n",
       "    </tr>\n",
       "    <tr>\n",
       "      <th>2019-02-01 09:32:00</th>\n",
       "      <td>71.1200</td>\n",
       "      <td>70.6095</td>\n",
       "      <td>71.210</td>\n",
       "      <td>70.60</td>\n",
       "      <td>68409</td>\n",
       "      <td>2</td>\n",
       "      <td>312757</td>\n",
       "      <td>0.025633</td>\n",
       "    </tr>\n",
       "    <tr>\n",
       "      <th>2019-02-01 09:33:00</th>\n",
       "      <td>70.6700</td>\n",
       "      <td>70.4622</td>\n",
       "      <td>70.810</td>\n",
       "      <td>70.40</td>\n",
       "      <td>186051</td>\n",
       "      <td>3</td>\n",
       "      <td>498808</td>\n",
       "      <td>0.040881</td>\n",
       "    </tr>\n",
       "    <tr>\n",
       "      <th>2019-02-01 09:34:00</th>\n",
       "      <td>70.4600</td>\n",
       "      <td>70.4800</td>\n",
       "      <td>70.585</td>\n",
       "      <td>70.41</td>\n",
       "      <td>89487</td>\n",
       "      <td>4</td>\n",
       "      <td>588295</td>\n",
       "      <td>0.048215</td>\n",
       "    </tr>\n",
       "  </tbody>\n",
       "</table>\n",
       "</div>"
      ],
      "text/plain": [
       "                        open    close    high    low  volume  minute_bars  \\\n",
       "2019-02-01 09:30:00  71.0500  71.0700  71.220  70.76  210467            0   \n",
       "2019-02-01 09:31:00  71.0732  71.0101  71.210  71.00   33881            1   \n",
       "2019-02-01 09:32:00  71.1200  70.6095  71.210  70.60   68409            2   \n",
       "2019-02-01 09:33:00  70.6700  70.4622  70.810  70.40  186051            3   \n",
       "2019-02-01 09:34:00  70.4600  70.4800  70.585  70.41   89487            4   \n",
       "\n",
       "                     accum_volume  accum_pct  \n",
       "2019-02-01 09:30:00        210467   0.017249  \n",
       "2019-02-01 09:31:00        244348   0.020026  \n",
       "2019-02-01 09:32:00        312757   0.025633  \n",
       "2019-02-01 09:33:00        498808   0.040881  \n",
       "2019-02-01 09:34:00        588295   0.048215  "
      ]
     },
     "execution_count": 34,
     "metadata": {},
     "output_type": "execute_result"
    }
   ],
   "source": [
    "minute_data.head()"
   ]
  },
  {
   "cell_type": "code",
   "execution_count": 36,
   "metadata": {},
   "outputs": [
    {
     "data": {
      "text/html": [
       "<div>\n",
       "<style scoped>\n",
       "    .dataframe tbody tr th:only-of-type {\n",
       "        vertical-align: middle;\n",
       "    }\n",
       "\n",
       "    .dataframe tbody tr th {\n",
       "        vertical-align: top;\n",
       "    }\n",
       "\n",
       "    .dataframe thead th {\n",
       "        text-align: right;\n",
       "    }\n",
       "</style>\n",
       "<table border=\"1\" class=\"dataframe\">\n",
       "  <thead>\n",
       "    <tr style=\"text-align: right;\">\n",
       "      <th></th>\n",
       "      <th>0</th>\n",
       "      <th>1</th>\n",
       "      <th>2</th>\n",
       "    </tr>\n",
       "    <tr>\n",
       "      <th>3</th>\n",
       "      <th></th>\n",
       "      <th></th>\n",
       "      <th></th>\n",
       "    </tr>\n",
       "  </thead>\n",
       "  <tbody>\n",
       "    <tr>\n",
       "      <th>2019-02-01 09:32:00.000000</th>\n",
       "      <td>71.24</td>\n",
       "      <td>8488.0</td>\n",
       "      <td>2</td>\n",
       "    </tr>\n",
       "    <tr>\n",
       "      <th>2019-02-01 09:33:41.285633</th>\n",
       "      <td>70.56</td>\n",
       "      <td>68.0</td>\n",
       "      <td>3</td>\n",
       "    </tr>\n",
       "    <tr>\n",
       "      <th>2019-02-01 09:33:43.312161</th>\n",
       "      <td>70.45</td>\n",
       "      <td>68.0</td>\n",
       "      <td>3</td>\n",
       "    </tr>\n",
       "    <tr>\n",
       "      <th>2019-02-01 09:33:43.312245</th>\n",
       "      <td>70.45</td>\n",
       "      <td>2.0</td>\n",
       "      <td>3</td>\n",
       "    </tr>\n",
       "    <tr>\n",
       "      <th>2019-02-01 09:33:43.312371</th>\n",
       "      <td>70.48</td>\n",
       "      <td>599.0</td>\n",
       "      <td>3</td>\n",
       "    </tr>\n",
       "  </tbody>\n",
       "</table>\n",
       "</div>"
      ],
      "text/plain": [
       "                                0       1  2\n",
       "3                                           \n",
       "2019-02-01 09:32:00.000000  71.24  8488.0  2\n",
       "2019-02-01 09:33:41.285633  70.56    68.0  3\n",
       "2019-02-01 09:33:43.312161  70.45    68.0  3\n",
       "2019-02-01 09:33:43.312245  70.45     2.0  3\n",
       "2019-02-01 09:33:43.312371  70.48   599.0  3"
      ]
     },
     "execution_count": 36,
     "metadata": {},
     "output_type": "execute_result"
    }
   ],
   "source": [
    "trades_df.head()"
   ]
  },
  {
   "cell_type": "code",
   "execution_count": null,
   "metadata": {},
   "outputs": [],
   "source": []
  }
 ],
 "metadata": {
  "kernelspec": {
   "display_name": "Python 3",
   "language": "python",
   "name": "python3"
  },
  "language_info": {
   "codemirror_mode": {
    "name": "ipython",
    "version": 3
   },
   "file_extension": ".py",
   "mimetype": "text/x-python",
   "name": "python",
   "nbconvert_exporter": "python",
   "pygments_lexer": "ipython3",
   "version": "3.7.1"
  }
 },
 "nbformat": 4,
 "nbformat_minor": 2
}
