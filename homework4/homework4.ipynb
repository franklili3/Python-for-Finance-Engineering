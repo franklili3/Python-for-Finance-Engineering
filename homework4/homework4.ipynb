{
 "cells": [
  {
   "cell_type": "markdown",
   "metadata": {},
   "source": [
    "## a.Load the trade and quote data as in class"
   ]
  },
  {
   "cell_type": "code",
   "execution_count": 1,
   "metadata": {
    "collapsed": true
   },
   "outputs": [],
   "source": [
    "%matplotlib inline\n",
    "\n",
    "import matplotlib\n",
    "import matplotlib.pyplot as plt\n",
    "import numpy as np\n",
    "import pandas as pd\n",
    "import time\n",
    "import datetime\n",
    "\n",
    "def show_time( label_string ):\n",
    "    ts = time.time()\n",
    "    st = datetime.datetime.fromtimestamp( ts ).strftime( '%Y-%m-%d %H:%M:%S:%f' )\n",
    "    print( label_string + ' : ' + st )"
   ]
  },
  {
   "cell_type": "markdown",
   "metadata": {},
   "source": [
    "### Get Market Data"
   ]
  },
  {
   "cell_type": "code",
   "execution_count": 2,
   "metadata": {},
   "outputs": [
    {
     "name": "stdout",
     "output_type": "stream",
     "text": [
      "started loading trades : 2019-04-26 21:21:04:682716\n",
      "finished loading trades : 2019-04-26 21:21:07:846897\n",
      "started fixing trade index : 2019-04-26 21:21:07:847897\n",
      "finished fixing trade index : 2019-04-26 21:21:17:798466\n"
     ]
    }
   ],
   "source": [
    "# load trades\n",
    "show_time( 'started loading trades' )\n",
    "trades = pd.read_csv( 'SQ_trades_201902.zip' )\n",
    "show_time( 'finished loading trades')\n",
    "\n",
    "# index trades\n",
    "show_time( 'started fixing trade index')\n",
    "\n",
    "# fix column names\n",
    "trades = trades.rename( index=str, columns={ 'SIZE' : 'trade_qty', 'PRICE' : 'trade_price' } )\n",
    "\n",
    "# fix index\n",
    "times = trades[ 'DATE' ].astype( str ) + trades[ 'TIME_M' ].astype( str )\n",
    "formatStr = '%Y%m%d%H:%M:%S.%f'\n",
    "trades.index = pd.to_datetime( times, format = formatStr )\n",
    "\n",
    "# clean up unused columns\n",
    "trades = trades.drop( columns=[ 'DATE', 'TIME_M', 'SYM_ROOT', 'SYM_SUFFIX', 'TR_CORR', 'TR_SEQNUM', 'TR_RF' ] )\n",
    "show_time( 'finished fixing trade index' )"
   ]
  },
  {
   "cell_type": "code",
   "execution_count": 6,
   "metadata": {},
   "outputs": [
    {
     "name": "stdout",
     "output_type": "stream",
     "text": [
      "started loading quotes : 2019-04-26 21:24:51:429685\n",
      "finished loading quotes : 2019-04-26 21:24:53:077780\n",
      "started fixing quotes index : 2019-04-26 21:24:53:077780\n",
      "finished fixing quotes index : 2019-04-26 21:24:55:014890\n"
     ]
    }
   ],
   "source": [
    "# load quotes\n",
    "show_time( 'started loading quotes' )\n",
    "quotes = pd.read_csv( 'SQ_quotes_20190201.csv' )\n",
    "show_time( 'finished loading quotes')\n",
    "\n",
    "# index trades\n",
    "show_time( 'started fixing quotes index' )\n",
    "\n",
    "# fix column names\n",
    "quotes = quotes.rename( index=str, columns={ 'BID' : 'bid_price', 'BIDSIZ' : 'bid_qty', 'ASK' : 'ask_price', 'ASKSIZ' : 'ask_qty' } )\n",
    "\n",
    "# fix index\n",
    "times = quotes[ 'DATE' ].astype( str ) + ' '+quotes[ 'TIME_M' ].astype( str )\n",
    "formatStr = '%Y%m%d %H:%M:%S.%f'\n",
    "quotes.index = pd.to_datetime( times, format = formatStr )\n",
    "\n",
    "# cleanup unused columns\n",
    "quotes = quotes.drop( columns=[ 'DATE', 'TIME_M', 'QU_SEQNUM', 'QU_SOURCE', 'SYM_ROOT', 'SYM_SUFFIX' ] )\n",
    "show_time( 'finished fixing quotes index' )"
   ]
  },
  {
   "cell_type": "code",
   "execution_count": 7,
   "metadata": {},
   "outputs": [],
   "source": [
    "daytrades = trades['2019-02-01 09:30:00':'2019-02-01 16:00:00']\n",
    "dayquotes = quotes['2019-02-01 09:30:00':'2019-02-01 16:00:00']"
   ]
  },
  {
   "cell_type": "code",
   "execution_count": 8,
   "metadata": {},
   "outputs": [
    {
     "name": "stdout",
     "output_type": "stream",
     "text": [
      "start merge : 2019-04-26 21:25:41:810567\n",
      "end merge : 2019-04-26 21:25:42:364599\n"
     ]
    }
   ],
   "source": [
    "# now merge quote and tick data\n",
    "show_time( 'start merge' )\n",
    "taq = dayquotes.merge( daytrades, how = 'outer', left_index = True, right_index = True )\n",
    "show_time( 'end merge' )"
   ]
  },
  {
   "cell_type": "code",
   "execution_count": 9,
   "metadata": {},
   "outputs": [
    {
     "data": {
      "text/html": [
       "<div>\n",
       "<style scoped>\n",
       "    .dataframe tbody tr th:only-of-type {\n",
       "        vertical-align: middle;\n",
       "    }\n",
       "\n",
       "    .dataframe tbody tr th {\n",
       "        vertical-align: top;\n",
       "    }\n",
       "\n",
       "    .dataframe thead th {\n",
       "        text-align: right;\n",
       "    }\n",
       "</style>\n",
       "<table border=\"1\" class=\"dataframe\">\n",
       "  <thead>\n",
       "    <tr style=\"text-align: right;\">\n",
       "      <th></th>\n",
       "      <th>EX_x</th>\n",
       "      <th>bid_price</th>\n",
       "      <th>bid_qty</th>\n",
       "      <th>ask_price</th>\n",
       "      <th>ask_qty</th>\n",
       "      <th>QU_COND</th>\n",
       "      <th>NATBBO_IND</th>\n",
       "      <th>QU_CANCEL</th>\n",
       "      <th>EX_y</th>\n",
       "      <th>TR_SCOND</th>\n",
       "      <th>trade_qty</th>\n",
       "      <th>trade_price</th>\n",
       "      <th>TR_SOURCE</th>\n",
       "    </tr>\n",
       "  </thead>\n",
       "  <tbody>\n",
       "    <tr>\n",
       "      <th>2019-02-01 16:00:00.000000</th>\n",
       "      <td>J</td>\n",
       "      <td>66.97</td>\n",
       "      <td>1.0</td>\n",
       "      <td>0.0</td>\n",
       "      <td>0.0</td>\n",
       "      <td>R</td>\n",
       "      <td>A</td>\n",
       "      <td>NaN</td>\n",
       "      <td>NaN</td>\n",
       "      <td>NaN</td>\n",
       "      <td>NaN</td>\n",
       "      <td>NaN</td>\n",
       "      <td>NaN</td>\n",
       "    </tr>\n",
       "    <tr>\n",
       "      <th>2019-02-01 16:00:00.000000</th>\n",
       "      <td>B</td>\n",
       "      <td>66.97</td>\n",
       "      <td>1.0</td>\n",
       "      <td>0.0</td>\n",
       "      <td>0.0</td>\n",
       "      <td>R</td>\n",
       "      <td>A</td>\n",
       "      <td>NaN</td>\n",
       "      <td>NaN</td>\n",
       "      <td>NaN</td>\n",
       "      <td>NaN</td>\n",
       "      <td>NaN</td>\n",
       "      <td>NaN</td>\n",
       "    </tr>\n",
       "    <tr>\n",
       "      <th>2019-02-01 16:00:00.000000</th>\n",
       "      <td>Z</td>\n",
       "      <td>70.77</td>\n",
       "      <td>6.0</td>\n",
       "      <td>72.5</td>\n",
       "      <td>1.0</td>\n",
       "      <td>R</td>\n",
       "      <td>A</td>\n",
       "      <td>NaN</td>\n",
       "      <td>NaN</td>\n",
       "      <td>NaN</td>\n",
       "      <td>NaN</td>\n",
       "      <td>NaN</td>\n",
       "      <td>NaN</td>\n",
       "    </tr>\n",
       "    <tr>\n",
       "      <th>2019-02-01 16:00:00.155493</th>\n",
       "      <td>NaN</td>\n",
       "      <td>NaN</td>\n",
       "      <td>NaN</td>\n",
       "      <td>NaN</td>\n",
       "      <td>NaN</td>\n",
       "      <td>NaN</td>\n",
       "      <td>NaN</td>\n",
       "      <td>NaN</td>\n",
       "      <td>P</td>\n",
       "      <td>M</td>\n",
       "      <td>900.0</td>\n",
       "      <td>70.80</td>\n",
       "      <td>C</td>\n",
       "    </tr>\n",
       "    <tr>\n",
       "      <th>2019-02-01 16:00:00.371051</th>\n",
       "      <td>NaN</td>\n",
       "      <td>NaN</td>\n",
       "      <td>NaN</td>\n",
       "      <td>NaN</td>\n",
       "      <td>NaN</td>\n",
       "      <td>NaN</td>\n",
       "      <td>NaN</td>\n",
       "      <td>NaN</td>\n",
       "      <td>T</td>\n",
       "      <td>M</td>\n",
       "      <td>100.0</td>\n",
       "      <td>70.81</td>\n",
       "      <td>C</td>\n",
       "    </tr>\n",
       "  </tbody>\n",
       "</table>\n",
       "</div>"
      ],
      "text/plain": [
       "                           EX_x  bid_price  bid_qty  ask_price  ask_qty  \\\n",
       "2019-02-01 16:00:00.000000    J      66.97      1.0        0.0      0.0   \n",
       "2019-02-01 16:00:00.000000    B      66.97      1.0        0.0      0.0   \n",
       "2019-02-01 16:00:00.000000    Z      70.77      6.0       72.5      1.0   \n",
       "2019-02-01 16:00:00.155493  NaN        NaN      NaN        NaN      NaN   \n",
       "2019-02-01 16:00:00.371051  NaN        NaN      NaN        NaN      NaN   \n",
       "\n",
       "                           QU_COND NATBBO_IND  QU_CANCEL EX_y TR_SCOND  \\\n",
       "2019-02-01 16:00:00.000000       R          A        NaN  NaN      NaN   \n",
       "2019-02-01 16:00:00.000000       R          A        NaN  NaN      NaN   \n",
       "2019-02-01 16:00:00.000000       R          A        NaN  NaN      NaN   \n",
       "2019-02-01 16:00:00.155493     NaN        NaN        NaN    P        M   \n",
       "2019-02-01 16:00:00.371051     NaN        NaN        NaN    T        M   \n",
       "\n",
       "                            trade_qty  trade_price TR_SOURCE  \n",
       "2019-02-01 16:00:00.000000        NaN          NaN       NaN  \n",
       "2019-02-01 16:00:00.000000        NaN          NaN       NaN  \n",
       "2019-02-01 16:00:00.000000        NaN          NaN       NaN  \n",
       "2019-02-01 16:00:00.155493      900.0        70.80         C  \n",
       "2019-02-01 16:00:00.371051      100.0        70.81         C  "
      ]
     },
     "execution_count": 9,
     "metadata": {},
     "output_type": "execute_result"
    }
   ],
   "source": [
    "taq.tail()"
   ]
  },
  {
   "cell_type": "code",
   "execution_count": 12,
   "metadata": {
    "collapsed": true
   },
   "outputs": [],
   "source": [
    "taq.to_pickle(\"SQ_taq_20190201.gz\")"
   ]
  },
  {
   "cell_type": "code",
   "execution_count": 13,
   "metadata": {
    "collapsed": true
   },
   "outputs": [],
   "source": [
    "trades.to_pickle(\"SQ_trades_20190201.gz\")"
   ]
  },
  {
   "cell_type": "code",
   "execution_count": 14,
   "metadata": {
    "collapsed": true
   },
   "outputs": [],
   "source": [
    "quotes.to_pickle(\"SQ_quotes_20190201.gz\")"
   ]
  },
  {
   "cell_type": "code",
   "execution_count": 15,
   "metadata": {},
   "outputs": [
    {
     "name": "stdout",
     "output_type": "stream",
     "text": [
      "1074274\n",
      "1158991\n",
      "1014024\n"
     ]
    }
   ],
   "source": [
    "print(len(taq))\n",
    "print(len(trades))\n",
    "print(len(quotes))"
   ]
  },
  {
   "cell_type": "code",
   "execution_count": null,
   "metadata": {
    "collapsed": true
   },
   "outputs": [],
   "source": []
  }
 ],
 "metadata": {
  "kernelspec": {
   "display_name": "Python 3",
   "language": "python",
   "name": "python3"
  },
  "language_info": {
   "codemirror_mode": {
    "name": "ipython",
    "version": 3
   },
   "file_extension": ".py",
   "mimetype": "text/x-python",
   "name": "python",
   "nbconvert_exporter": "python",
   "pygments_lexer": "ipython3",
   "version": "3.6.7"
  }
 },
 "nbformat": 4,
 "nbformat_minor": 2
}
