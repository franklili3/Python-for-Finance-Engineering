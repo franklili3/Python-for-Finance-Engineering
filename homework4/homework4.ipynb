{
 "cells": [
  {
   "cell_type": "markdown",
   "metadata": {},
   "source": [
    "## 1.Load and process the trade and quote data as in class"
   ]
  },
  {
   "cell_type": "code",
   "execution_count": 16,
   "metadata": {},
   "outputs": [],
   "source": [
    "%matplotlib inline\n",
    "\n",
    "import matplotlib\n",
    "import matplotlib.pyplot as plt\n",
    "import numpy as np\n",
    "import pandas as pd\n",
    "import time\n",
    "import datetime\n",
    "from sklearn import linear_model as linear_model\n",
    "\n",
    "def show_time( label_string ):\n",
    "    ts = time.time()\n",
    "    st = datetime.datetime.fromtimestamp( ts ).strftime( '%Y-%m-%d %H:%M:%S:%f' )\n",
    "    print( label_string + ' : ' + st )"
   ]
  },
  {
   "cell_type": "code",
   "execution_count": 2,
   "metadata": {},
   "outputs": [
    {
     "name": "stdout",
     "output_type": "stream",
     "text": [
      "started loading trades : 2019-04-27 18:14:30:168571\n",
      "finished loading trades : 2019-04-27 18:14:33:677065\n",
      "started fixing trade index : 2019-04-27 18:14:33:677257\n",
      "finished fixing trade index : 2019-04-27 18:14:42:596336\n"
     ]
    }
   ],
   "source": [
    "# load trades\n",
    "show_time( 'started loading trades' )\n",
    "trades = pd.read_csv( 'SQ_trades_201902.zip' )\n",
    "show_time( 'finished loading trades')\n",
    "\n",
    "# index trades\n",
    "show_time( 'started fixing trade index')\n",
    "\n",
    "# fix column names\n",
    "trades = trades.rename( index=str, columns={ 'SIZE' : 'trade_qty', 'PRICE' : 'trade_price' } )\n",
    "\n",
    "# fix index\n",
    "times = trades[ 'DATE' ].astype( str ) + trades[ 'TIME_M' ].astype( str )\n",
    "formatStr = '%Y%m%d%H:%M:%S.%f'\n",
    "trades.index = pd.to_datetime( times, format = formatStr )\n",
    "\n",
    "# clean up unused columns\n",
    "trades = trades.drop( columns=[ 'DATE', 'TIME_M', 'SYM_ROOT', 'SYM_SUFFIX', 'TR_CORR', 'TR_SEQNUM', 'TR_RF' ] )\n",
    "show_time( 'finished fixing trade index' )"
   ]
  },
  {
   "cell_type": "code",
   "execution_count": 6,
   "metadata": {},
   "outputs": [
    {
     "name": "stdout",
     "output_type": "stream",
     "text": [
      "started loading quotes : 2019-04-26 21:24:51:429685\n",
      "finished loading quotes : 2019-04-26 21:24:53:077780\n",
      "started fixing quotes index : 2019-04-26 21:24:53:077780\n",
      "finished fixing quotes index : 2019-04-26 21:24:55:014890\n"
     ]
    }
   ],
   "source": [
    "# load quotes\n",
    "show_time( 'started loading quotes' )\n",
    "quotes = pd.read_csv( 'SQ_quotes_20190201.csv' )\n",
    "show_time( 'finished loading quotes')\n",
    "\n",
    "# index trades\n",
    "show_time( 'started fixing quotes index' )\n",
    "\n",
    "# fix column names\n",
    "quotes = quotes.rename( index=str, columns={ 'BID' : 'bid_price', 'BIDSIZ' : 'bid_qty', 'ASK' : 'ask_price', 'ASKSIZ' : 'ask_qty' } )\n",
    "\n",
    "# fix index\n",
    "times = quotes[ 'DATE' ].astype( str ) + ' '+quotes[ 'TIME_M' ].astype( str )\n",
    "formatStr = '%Y%m%d %H:%M:%S.%f'\n",
    "quotes.index = pd.to_datetime( times, format = formatStr )\n",
    "\n",
    "# cleanup unused columns\n",
    "quotes = quotes.drop( columns=[ 'DATE', 'TIME_M', 'QU_SEQNUM', 'QU_SOURCE', 'SYM_ROOT', 'SYM_SUFFIX' ] )\n",
    "show_time( 'finished fixing quotes index' )"
   ]
  },
  {
   "cell_type": "code",
   "execution_count": 3,
   "metadata": {},
   "outputs": [],
   "source": [
    "daytrades = trades['2019-02-01 09:30:00':'2019-02-01 16:00:00']\n"
   ]
  },
  {
   "cell_type": "code",
   "execution_count": null,
   "metadata": {},
   "outputs": [],
   "source": [
    "dayquotes = quotes['2019-02-01 09:30:00':'2019-02-01 16:00:00']"
   ]
  },
  {
   "cell_type": "code",
   "execution_count": 8,
   "metadata": {},
   "outputs": [
    {
     "name": "stdout",
     "output_type": "stream",
     "text": [
      "start merge : 2019-04-26 21:25:41:810567\n",
      "end merge : 2019-04-26 21:25:42:364599\n"
     ]
    }
   ],
   "source": [
    "# now merge quote and tick data\n",
    "show_time( 'start merge' )\n",
    "taq = dayquotes.merge( daytrades, how = 'outer', left_index = True, right_index = True )\n",
    "show_time( 'end merge' )"
   ]
  },
  {
   "cell_type": "code",
   "execution_count": 9,
   "metadata": {},
   "outputs": [
    {
     "data": {
      "text/html": [
       "<div>\n",
       "<style scoped>\n",
       "    .dataframe tbody tr th:only-of-type {\n",
       "        vertical-align: middle;\n",
       "    }\n",
       "\n",
       "    .dataframe tbody tr th {\n",
       "        vertical-align: top;\n",
       "    }\n",
       "\n",
       "    .dataframe thead th {\n",
       "        text-align: right;\n",
       "    }\n",
       "</style>\n",
       "<table border=\"1\" class=\"dataframe\">\n",
       "  <thead>\n",
       "    <tr style=\"text-align: right;\">\n",
       "      <th></th>\n",
       "      <th>EX_x</th>\n",
       "      <th>bid_price</th>\n",
       "      <th>bid_qty</th>\n",
       "      <th>ask_price</th>\n",
       "      <th>ask_qty</th>\n",
       "      <th>QU_COND</th>\n",
       "      <th>NATBBO_IND</th>\n",
       "      <th>QU_CANCEL</th>\n",
       "      <th>EX_y</th>\n",
       "      <th>TR_SCOND</th>\n",
       "      <th>trade_qty</th>\n",
       "      <th>trade_price</th>\n",
       "      <th>TR_SOURCE</th>\n",
       "    </tr>\n",
       "  </thead>\n",
       "  <tbody>\n",
       "    <tr>\n",
       "      <th>2019-02-01 16:00:00.000000</th>\n",
       "      <td>J</td>\n",
       "      <td>66.97</td>\n",
       "      <td>1.0</td>\n",
       "      <td>0.0</td>\n",
       "      <td>0.0</td>\n",
       "      <td>R</td>\n",
       "      <td>A</td>\n",
       "      <td>NaN</td>\n",
       "      <td>NaN</td>\n",
       "      <td>NaN</td>\n",
       "      <td>NaN</td>\n",
       "      <td>NaN</td>\n",
       "      <td>NaN</td>\n",
       "    </tr>\n",
       "    <tr>\n",
       "      <th>2019-02-01 16:00:00.000000</th>\n",
       "      <td>B</td>\n",
       "      <td>66.97</td>\n",
       "      <td>1.0</td>\n",
       "      <td>0.0</td>\n",
       "      <td>0.0</td>\n",
       "      <td>R</td>\n",
       "      <td>A</td>\n",
       "      <td>NaN</td>\n",
       "      <td>NaN</td>\n",
       "      <td>NaN</td>\n",
       "      <td>NaN</td>\n",
       "      <td>NaN</td>\n",
       "      <td>NaN</td>\n",
       "    </tr>\n",
       "    <tr>\n",
       "      <th>2019-02-01 16:00:00.000000</th>\n",
       "      <td>Z</td>\n",
       "      <td>70.77</td>\n",
       "      <td>6.0</td>\n",
       "      <td>72.5</td>\n",
       "      <td>1.0</td>\n",
       "      <td>R</td>\n",
       "      <td>A</td>\n",
       "      <td>NaN</td>\n",
       "      <td>NaN</td>\n",
       "      <td>NaN</td>\n",
       "      <td>NaN</td>\n",
       "      <td>NaN</td>\n",
       "      <td>NaN</td>\n",
       "    </tr>\n",
       "    <tr>\n",
       "      <th>2019-02-01 16:00:00.155493</th>\n",
       "      <td>NaN</td>\n",
       "      <td>NaN</td>\n",
       "      <td>NaN</td>\n",
       "      <td>NaN</td>\n",
       "      <td>NaN</td>\n",
       "      <td>NaN</td>\n",
       "      <td>NaN</td>\n",
       "      <td>NaN</td>\n",
       "      <td>P</td>\n",
       "      <td>M</td>\n",
       "      <td>900.0</td>\n",
       "      <td>70.80</td>\n",
       "      <td>C</td>\n",
       "    </tr>\n",
       "    <tr>\n",
       "      <th>2019-02-01 16:00:00.371051</th>\n",
       "      <td>NaN</td>\n",
       "      <td>NaN</td>\n",
       "      <td>NaN</td>\n",
       "      <td>NaN</td>\n",
       "      <td>NaN</td>\n",
       "      <td>NaN</td>\n",
       "      <td>NaN</td>\n",
       "      <td>NaN</td>\n",
       "      <td>T</td>\n",
       "      <td>M</td>\n",
       "      <td>100.0</td>\n",
       "      <td>70.81</td>\n",
       "      <td>C</td>\n",
       "    </tr>\n",
       "  </tbody>\n",
       "</table>\n",
       "</div>"
      ],
      "text/plain": [
       "                           EX_x  bid_price  bid_qty  ask_price  ask_qty  \\\n",
       "2019-02-01 16:00:00.000000    J      66.97      1.0        0.0      0.0   \n",
       "2019-02-01 16:00:00.000000    B      66.97      1.0        0.0      0.0   \n",
       "2019-02-01 16:00:00.000000    Z      70.77      6.0       72.5      1.0   \n",
       "2019-02-01 16:00:00.155493  NaN        NaN      NaN        NaN      NaN   \n",
       "2019-02-01 16:00:00.371051  NaN        NaN      NaN        NaN      NaN   \n",
       "\n",
       "                           QU_COND NATBBO_IND  QU_CANCEL EX_y TR_SCOND  \\\n",
       "2019-02-01 16:00:00.000000       R          A        NaN  NaN      NaN   \n",
       "2019-02-01 16:00:00.000000       R          A        NaN  NaN      NaN   \n",
       "2019-02-01 16:00:00.000000       R          A        NaN  NaN      NaN   \n",
       "2019-02-01 16:00:00.155493     NaN        NaN        NaN    P        M   \n",
       "2019-02-01 16:00:00.371051     NaN        NaN        NaN    T        M   \n",
       "\n",
       "                            trade_qty  trade_price TR_SOURCE  \n",
       "2019-02-01 16:00:00.000000        NaN          NaN       NaN  \n",
       "2019-02-01 16:00:00.000000        NaN          NaN       NaN  \n",
       "2019-02-01 16:00:00.000000        NaN          NaN       NaN  \n",
       "2019-02-01 16:00:00.155493      900.0        70.80         C  \n",
       "2019-02-01 16:00:00.371051      100.0        70.81         C  "
      ]
     },
     "execution_count": 9,
     "metadata": {},
     "output_type": "execute_result"
    }
   ],
   "source": [
    "taq.tail()"
   ]
  },
  {
   "cell_type": "code",
   "execution_count": 12,
   "metadata": {
    "collapsed": true
   },
   "outputs": [],
   "source": [
    "taq.to_pickle(\"SQ_taq_20190201.gz\")"
   ]
  },
  {
   "cell_type": "code",
   "execution_count": 13,
   "metadata": {
    "collapsed": true
   },
   "outputs": [],
   "source": [
    "trades.to_pickle(\"SQ_trades_20190201.gz\")"
   ]
  },
  {
   "cell_type": "code",
   "execution_count": 14,
   "metadata": {
    "collapsed": true
   },
   "outputs": [],
   "source": [
    "quotes.to_pickle(\"SQ_quotes_20190201.gz\")"
   ]
  },
  {
   "cell_type": "code",
   "execution_count": 15,
   "metadata": {},
   "outputs": [
    {
     "name": "stdout",
     "output_type": "stream",
     "text": [
      "1074274\n",
      "1158991\n",
      "1014024\n"
     ]
    }
   ],
   "source": [
    "print(len(taq))\n",
    "print(len(trades))\n",
    "print(len(quotes))"
   ]
  },
  {
   "cell_type": "code",
   "execution_count": 8,
   "metadata": {},
   "outputs": [
    {
     "data": {
      "text/html": [
       "<div>\n",
       "<style scoped>\n",
       "    .dataframe tbody tr th:only-of-type {\n",
       "        vertical-align: middle;\n",
       "    }\n",
       "\n",
       "    .dataframe tbody tr th {\n",
       "        vertical-align: top;\n",
       "    }\n",
       "\n",
       "    .dataframe thead th {\n",
       "        text-align: right;\n",
       "    }\n",
       "</style>\n",
       "<table border=\"1\" class=\"dataframe\">\n",
       "  <thead>\n",
       "    <tr style=\"text-align: right;\">\n",
       "      <th></th>\n",
       "      <th>EX</th>\n",
       "      <th>TR_SCOND</th>\n",
       "      <th>trade_qty</th>\n",
       "      <th>trade_price</th>\n",
       "      <th>TR_SOURCE</th>\n",
       "    </tr>\n",
       "  </thead>\n",
       "  <tbody>\n",
       "    <tr>\n",
       "      <th>2019-02-01 09:30:00.670951</th>\n",
       "      <td>N</td>\n",
       "      <td>O</td>\n",
       "      <td>110097</td>\n",
       "      <td>71.05</td>\n",
       "      <td>C</td>\n",
       "    </tr>\n",
       "    <tr>\n",
       "      <th>2019-02-01 09:30:00.673518</th>\n",
       "      <td>N</td>\n",
       "      <td>NaN</td>\n",
       "      <td>300</td>\n",
       "      <td>71.05</td>\n",
       "      <td>C</td>\n",
       "    </tr>\n",
       "    <tr>\n",
       "      <th>2019-02-01 09:30:00.674397</th>\n",
       "      <td>N</td>\n",
       "      <td>NaN</td>\n",
       "      <td>100</td>\n",
       "      <td>71.01</td>\n",
       "      <td>C</td>\n",
       "    </tr>\n",
       "    <tr>\n",
       "      <th>2019-02-01 09:30:00.692836</th>\n",
       "      <td>N</td>\n",
       "      <td>I</td>\n",
       "      <td>75</td>\n",
       "      <td>71.00</td>\n",
       "      <td>C</td>\n",
       "    </tr>\n",
       "    <tr>\n",
       "      <th>2019-02-01 09:30:00.694405</th>\n",
       "      <td>N</td>\n",
       "      <td>F</td>\n",
       "      <td>100</td>\n",
       "      <td>71.07</td>\n",
       "      <td>C</td>\n",
       "    </tr>\n",
       "  </tbody>\n",
       "</table>\n",
       "</div>"
      ],
      "text/plain": [
       "                           EX TR_SCOND  trade_qty  trade_price TR_SOURCE\n",
       "2019-02-01 09:30:00.670951  N        O     110097        71.05         C\n",
       "2019-02-01 09:30:00.673518  N      NaN        300        71.05         C\n",
       "2019-02-01 09:30:00.674397  N      NaN        100        71.01         C\n",
       "2019-02-01 09:30:00.692836  N        I         75        71.00         C\n",
       "2019-02-01 09:30:00.694405  N        F        100        71.07         C"
      ]
     },
     "execution_count": 8,
     "metadata": {},
     "output_type": "execute_result"
    }
   ],
   "source": [
    "daytrades.head()"
   ]
  },
  {
   "cell_type": "markdown",
   "metadata": {},
   "source": [
    "## 2.VWAP Profile"
   ]
  },
  {
   "cell_type": "code",
   "execution_count": 6,
   "metadata": {},
   "outputs": [],
   "source": [
    "# now let's make some 1 minute data using resample\n",
    "minute_data = pd.DataFrame()\n",
    "minute_data['open'] = daytrades['trade_price'].resample('Min').first()\n",
    "minute_data['close'] = daytrades['trade_price'].resample('Min').last()\n",
    "minute_data['high'] = daytrades['trade_price'].resample('Min').max()\n",
    "minute_data['low'] = daytrades['trade_price'].resample('Min').min()\n",
    "minute_data['volume'] = daytrades['trade_qty'].resample('Min').sum()"
   ]
  },
  {
   "cell_type": "code",
   "execution_count": 9,
   "metadata": {},
   "outputs": [
    {
     "data": {
      "text/html": [
       "<div>\n",
       "<style scoped>\n",
       "    .dataframe tbody tr th:only-of-type {\n",
       "        vertical-align: middle;\n",
       "    }\n",
       "\n",
       "    .dataframe tbody tr th {\n",
       "        vertical-align: top;\n",
       "    }\n",
       "\n",
       "    .dataframe thead th {\n",
       "        text-align: right;\n",
       "    }\n",
       "</style>\n",
       "<table border=\"1\" class=\"dataframe\">\n",
       "  <thead>\n",
       "    <tr style=\"text-align: right;\">\n",
       "      <th></th>\n",
       "      <th>open</th>\n",
       "      <th>close</th>\n",
       "      <th>high</th>\n",
       "      <th>low</th>\n",
       "      <th>volume</th>\n",
       "    </tr>\n",
       "  </thead>\n",
       "  <tbody>\n",
       "    <tr>\n",
       "      <th>2019-02-01 15:56:00</th>\n",
       "      <td>71.020</td>\n",
       "      <td>70.9844</td>\n",
       "      <td>71.020</td>\n",
       "      <td>70.950</td>\n",
       "      <td>41909</td>\n",
       "    </tr>\n",
       "    <tr>\n",
       "      <th>2019-02-01 15:57:00</th>\n",
       "      <td>70.980</td>\n",
       "      <td>70.9750</td>\n",
       "      <td>71.015</td>\n",
       "      <td>70.965</td>\n",
       "      <td>65094</td>\n",
       "    </tr>\n",
       "    <tr>\n",
       "      <th>2019-02-01 15:58:00</th>\n",
       "      <td>70.985</td>\n",
       "      <td>70.9350</td>\n",
       "      <td>70.990</td>\n",
       "      <td>70.920</td>\n",
       "      <td>124529</td>\n",
       "    </tr>\n",
       "    <tr>\n",
       "      <th>2019-02-01 15:59:00</th>\n",
       "      <td>70.940</td>\n",
       "      <td>70.7900</td>\n",
       "      <td>70.960</td>\n",
       "      <td>70.770</td>\n",
       "      <td>321877</td>\n",
       "    </tr>\n",
       "    <tr>\n",
       "      <th>2019-02-01 16:00:00</th>\n",
       "      <td>70.800</td>\n",
       "      <td>70.8100</td>\n",
       "      <td>70.810</td>\n",
       "      <td>70.800</td>\n",
       "      <td>1000</td>\n",
       "    </tr>\n",
       "  </tbody>\n",
       "</table>\n",
       "</div>"
      ],
      "text/plain": [
       "                       open    close    high     low  volume\n",
       "2019-02-01 15:56:00  71.020  70.9844  71.020  70.950   41909\n",
       "2019-02-01 15:57:00  70.980  70.9750  71.015  70.965   65094\n",
       "2019-02-01 15:58:00  70.985  70.9350  70.990  70.920  124529\n",
       "2019-02-01 15:59:00  70.940  70.7900  70.960  70.770  321877\n",
       "2019-02-01 16:00:00  70.800  70.8100  70.810  70.800    1000"
      ]
     },
     "execution_count": 9,
     "metadata": {},
     "output_type": "execute_result"
    }
   ],
   "source": [
    "minute_data.tail()"
   ]
  },
  {
   "cell_type": "code",
   "execution_count": 10,
   "metadata": {},
   "outputs": [],
   "source": [
    "# calculate the cumulative pct by day\n",
    "minute_data[ 'accum_volume' ] = minute_data.groupby( [ minute_data.index.date ] ).cumsum()[ 'volume' ] \n",
    "minute_data[ 'accum_pct' ] = minute_data.groupby( [ minute_data.index.date ] )[ 'accum_volume' ].transform( lambda x: x / x.iloc[ -1 ] )"
   ]
  },
  {
   "cell_type": "code",
   "execution_count": 11,
   "metadata": {},
   "outputs": [
    {
     "data": {
      "text/html": [
       "<div>\n",
       "<style scoped>\n",
       "    .dataframe tbody tr th:only-of-type {\n",
       "        vertical-align: middle;\n",
       "    }\n",
       "\n",
       "    .dataframe tbody tr th {\n",
       "        vertical-align: top;\n",
       "    }\n",
       "\n",
       "    .dataframe thead th {\n",
       "        text-align: right;\n",
       "    }\n",
       "</style>\n",
       "<table border=\"1\" class=\"dataframe\">\n",
       "  <thead>\n",
       "    <tr style=\"text-align: right;\">\n",
       "      <th></th>\n",
       "      <th>open</th>\n",
       "      <th>close</th>\n",
       "      <th>high</th>\n",
       "      <th>low</th>\n",
       "      <th>volume</th>\n",
       "      <th>accum_volume</th>\n",
       "      <th>accum_pct</th>\n",
       "    </tr>\n",
       "  </thead>\n",
       "  <tbody>\n",
       "    <tr>\n",
       "      <th>2019-02-01 15:56:00</th>\n",
       "      <td>71.020</td>\n",
       "      <td>70.9844</td>\n",
       "      <td>71.020</td>\n",
       "      <td>70.950</td>\n",
       "      <td>41909</td>\n",
       "      <td>11689065</td>\n",
       "      <td>0.957997</td>\n",
       "    </tr>\n",
       "    <tr>\n",
       "      <th>2019-02-01 15:57:00</th>\n",
       "      <td>70.980</td>\n",
       "      <td>70.9750</td>\n",
       "      <td>71.015</td>\n",
       "      <td>70.965</td>\n",
       "      <td>65094</td>\n",
       "      <td>11754159</td>\n",
       "      <td>0.963332</td>\n",
       "    </tr>\n",
       "    <tr>\n",
       "      <th>2019-02-01 15:58:00</th>\n",
       "      <td>70.985</td>\n",
       "      <td>70.9350</td>\n",
       "      <td>70.990</td>\n",
       "      <td>70.920</td>\n",
       "      <td>124529</td>\n",
       "      <td>11878688</td>\n",
       "      <td>0.973538</td>\n",
       "    </tr>\n",
       "    <tr>\n",
       "      <th>2019-02-01 15:59:00</th>\n",
       "      <td>70.940</td>\n",
       "      <td>70.7900</td>\n",
       "      <td>70.960</td>\n",
       "      <td>70.770</td>\n",
       "      <td>321877</td>\n",
       "      <td>12200565</td>\n",
       "      <td>0.999918</td>\n",
       "    </tr>\n",
       "    <tr>\n",
       "      <th>2019-02-01 16:00:00</th>\n",
       "      <td>70.800</td>\n",
       "      <td>70.8100</td>\n",
       "      <td>70.810</td>\n",
       "      <td>70.800</td>\n",
       "      <td>1000</td>\n",
       "      <td>12201565</td>\n",
       "      <td>1.000000</td>\n",
       "    </tr>\n",
       "  </tbody>\n",
       "</table>\n",
       "</div>"
      ],
      "text/plain": [
       "                       open    close    high     low  volume  accum_volume  \\\n",
       "2019-02-01 15:56:00  71.020  70.9844  71.020  70.950   41909      11689065   \n",
       "2019-02-01 15:57:00  70.980  70.9750  71.015  70.965   65094      11754159   \n",
       "2019-02-01 15:58:00  70.985  70.9350  70.990  70.920  124529      11878688   \n",
       "2019-02-01 15:59:00  70.940  70.7900  70.960  70.770  321877      12200565   \n",
       "2019-02-01 16:00:00  70.800  70.8100  70.810  70.800    1000      12201565   \n",
       "\n",
       "                     accum_pct  \n",
       "2019-02-01 15:56:00   0.957997  \n",
       "2019-02-01 15:57:00   0.963332  \n",
       "2019-02-01 15:58:00   0.973538  \n",
       "2019-02-01 15:59:00   0.999918  \n",
       "2019-02-01 16:00:00   1.000000  "
      ]
     },
     "execution_count": 11,
     "metadata": {},
     "output_type": "execute_result"
    }
   ],
   "source": [
    "minute_data.tail()"
   ]
  },
  {
   "cell_type": "code",
   "execution_count": 12,
   "metadata": {},
   "outputs": [],
   "source": [
    "# add a minute bin\n",
    "# US start of date, calc in minutes\n",
    "start_of_day = ( 9 * 60 ) + 30\n",
    "# get the time for each bin in minutes and subtract 9:30\n",
    "minute_data[ 'minute_bars' ] = ( minute_data.index.hour * 60 ) + minute_data.index.minute - start_of_day"
   ]
  },
  {
   "cell_type": "code",
   "execution_count": 13,
   "metadata": {},
   "outputs": [
    {
     "data": {
      "text/html": [
       "<div>\n",
       "<style scoped>\n",
       "    .dataframe tbody tr th:only-of-type {\n",
       "        vertical-align: middle;\n",
       "    }\n",
       "\n",
       "    .dataframe tbody tr th {\n",
       "        vertical-align: top;\n",
       "    }\n",
       "\n",
       "    .dataframe thead th {\n",
       "        text-align: right;\n",
       "    }\n",
       "</style>\n",
       "<table border=\"1\" class=\"dataframe\">\n",
       "  <thead>\n",
       "    <tr style=\"text-align: right;\">\n",
       "      <th></th>\n",
       "      <th>open</th>\n",
       "      <th>close</th>\n",
       "      <th>high</th>\n",
       "      <th>low</th>\n",
       "      <th>volume</th>\n",
       "      <th>accum_volume</th>\n",
       "      <th>accum_pct</th>\n",
       "      <th>minute_bars</th>\n",
       "    </tr>\n",
       "  </thead>\n",
       "  <tbody>\n",
       "    <tr>\n",
       "      <th>2019-02-01 15:56:00</th>\n",
       "      <td>71.020</td>\n",
       "      <td>70.9844</td>\n",
       "      <td>71.020</td>\n",
       "      <td>70.950</td>\n",
       "      <td>41909</td>\n",
       "      <td>11689065</td>\n",
       "      <td>0.957997</td>\n",
       "      <td>386</td>\n",
       "    </tr>\n",
       "    <tr>\n",
       "      <th>2019-02-01 15:57:00</th>\n",
       "      <td>70.980</td>\n",
       "      <td>70.9750</td>\n",
       "      <td>71.015</td>\n",
       "      <td>70.965</td>\n",
       "      <td>65094</td>\n",
       "      <td>11754159</td>\n",
       "      <td>0.963332</td>\n",
       "      <td>387</td>\n",
       "    </tr>\n",
       "    <tr>\n",
       "      <th>2019-02-01 15:58:00</th>\n",
       "      <td>70.985</td>\n",
       "      <td>70.9350</td>\n",
       "      <td>70.990</td>\n",
       "      <td>70.920</td>\n",
       "      <td>124529</td>\n",
       "      <td>11878688</td>\n",
       "      <td>0.973538</td>\n",
       "      <td>388</td>\n",
       "    </tr>\n",
       "    <tr>\n",
       "      <th>2019-02-01 15:59:00</th>\n",
       "      <td>70.940</td>\n",
       "      <td>70.7900</td>\n",
       "      <td>70.960</td>\n",
       "      <td>70.770</td>\n",
       "      <td>321877</td>\n",
       "      <td>12200565</td>\n",
       "      <td>0.999918</td>\n",
       "      <td>389</td>\n",
       "    </tr>\n",
       "    <tr>\n",
       "      <th>2019-02-01 16:00:00</th>\n",
       "      <td>70.800</td>\n",
       "      <td>70.8100</td>\n",
       "      <td>70.810</td>\n",
       "      <td>70.800</td>\n",
       "      <td>1000</td>\n",
       "      <td>12201565</td>\n",
       "      <td>1.000000</td>\n",
       "      <td>390</td>\n",
       "    </tr>\n",
       "  </tbody>\n",
       "</table>\n",
       "</div>"
      ],
      "text/plain": [
       "                       open    close    high     low  volume  accum_volume  \\\n",
       "2019-02-01 15:56:00  71.020  70.9844  71.020  70.950   41909      11689065   \n",
       "2019-02-01 15:57:00  70.980  70.9750  71.015  70.965   65094      11754159   \n",
       "2019-02-01 15:58:00  70.985  70.9350  70.990  70.920  124529      11878688   \n",
       "2019-02-01 15:59:00  70.940  70.7900  70.960  70.770  321877      12200565   \n",
       "2019-02-01 16:00:00  70.800  70.8100  70.810  70.800    1000      12201565   \n",
       "\n",
       "                     accum_pct  minute_bars  \n",
       "2019-02-01 15:56:00   0.957997          386  \n",
       "2019-02-01 15:57:00   0.963332          387  \n",
       "2019-02-01 15:58:00   0.973538          388  \n",
       "2019-02-01 15:59:00   0.999918          389  \n",
       "2019-02-01 16:00:00   1.000000          390  "
      ]
     },
     "execution_count": 13,
     "metadata": {},
     "output_type": "execute_result"
    }
   ],
   "source": [
    "minute_data.tail()"
   ]
  },
  {
   "cell_type": "code",
   "execution_count": 14,
   "metadata": {},
   "outputs": [],
   "source": [
    "# arrange our data\n",
    "minute_bars = minute_data[ 'minute_bars' ]\n",
    "X = pd.DataFrame( { 'bin': minute_bars, \n",
    "                    'bin2' : minute_bars**2, \n",
    "                    'bin3' : minute_bars**3, \n",
    "                    'bin4' : minute_bars**4, \n",
    "                    'bin5' : minute_bars**5 } )\n",
    "y = minute_data[ 'accum_pct' ]"
   ]
  },
  {
   "cell_type": "code",
   "execution_count": 17,
   "metadata": {},
   "outputs": [
    {
     "data": {
      "text/plain": [
       "0.9989652741407131"
      ]
     },
     "execution_count": 17,
     "metadata": {},
     "output_type": "execute_result"
    }
   ],
   "source": [
    "# now do the regression\n",
    "lm = linear_model.LinearRegression()\n",
    "model = lm.fit( X, y )\n",
    "predictions = lm.predict( X )\n",
    "# Rsquared\n",
    "lm.score( X, y )"
   ]
  },
  {
   "cell_type": "code",
   "execution_count": 18,
   "metadata": {},
   "outputs": [
    {
     "data": {
      "text/plain": [
       "Series([], Freq: T, Name: accum_pct, dtype: float64)"
      ]
     },
     "execution_count": 18,
     "metadata": {},
     "output_type": "execute_result"
    }
   ],
   "source": [
    "# do we have any null values?\n",
    "y[y.isnull()]"
   ]
  },
  {
   "cell_type": "code",
   "execution_count": 19,
   "metadata": {},
   "outputs": [
    {
     "data": {
      "text/plain": [
       "391"
      ]
     },
     "execution_count": 19,
     "metadata": {},
     "output_type": "execute_result"
    }
   ],
   "source": [
    "len(X)"
   ]
  },
  {
   "cell_type": "code",
   "execution_count": 20,
   "metadata": {},
   "outputs": [
    {
     "data": {
      "text/plain": [
       "array([ 8.54232435e-03, -6.31385359e-05,  2.81254690e-07, -6.15092717e-10,\n",
       "        5.28396280e-13])"
      ]
     },
     "execution_count": 20,
     "metadata": {},
     "output_type": "execute_result"
    }
   ],
   "source": [
    "# coefficients\n",
    "lm.coef_"
   ]
  },
  {
   "cell_type": "code",
   "execution_count": 21,
   "metadata": {},
   "outputs": [
    {
     "data": {
      "text/plain": [
       "0.018688549293718104"
      ]
     },
     "execution_count": 21,
     "metadata": {},
     "output_type": "execute_result"
    }
   ],
   "source": [
    "lm.intercept_"
   ]
  },
  {
   "cell_type": "code",
   "execution_count": 22,
   "metadata": {},
   "outputs": [
    {
     "data": {
      "text/plain": [
       "0.9987678965127181"
      ]
     },
     "execution_count": 22,
     "metadata": {},
     "output_type": "execute_result"
    }
   ],
   "source": [
    "# now do the regression with no intercept\n",
    "lm2 = linear_model.LinearRegression( fit_intercept = False )\n",
    "model = lm2.fit( X, y )\n",
    "predictions = lm2.predict( X )\n",
    "\n",
    "# Rsquared\n",
    "lm2.score( X, y )"
   ]
  },
  {
   "cell_type": "code",
   "execution_count": 23,
   "metadata": {},
   "outputs": [
    {
     "data": {
      "text/plain": [
       "array([ 9.37975866e-03, -7.45755149e-05,  3.47151656e-07, -7.83841929e-10,\n",
       "        6.86846239e-13])"
      ]
     },
     "execution_count": 23,
     "metadata": {},
     "output_type": "execute_result"
    }
   ],
   "source": [
    "lm2.coef_"
   ]
  },
  {
   "cell_type": "code",
   "execution_count": 24,
   "metadata": {},
   "outputs": [
    {
     "data": {
      "text/plain": [
       "0.0"
      ]
     },
     "execution_count": 24,
     "metadata": {},
     "output_type": "execute_result"
    }
   ],
   "source": [
    "lm2.intercept_"
   ]
  },
  {
   "cell_type": "code",
   "execution_count": 25,
   "metadata": {},
   "outputs": [],
   "source": [
    "def vwap_target( bar_num, coefs ):\n",
    "    return ( coefs[ 0 ] * bar_num + \n",
    "             coefs[ 1 ] * bar_num**2 + \n",
    "             coefs[ 2 ] * bar_num**3 +\n",
    "             coefs[ 3 ] * bar_num**4 +\n",
    "             coefs[ 4 ] * bar_num**5 )"
   ]
  },
  {
   "cell_type": "code",
   "execution_count": 26,
   "metadata": {},
   "outputs": [],
   "source": [
    "bins = np.arange(0,391)\n",
    "tgts = vwap_target( bins, lm2.coef_ )"
   ]
  },
  {
   "cell_type": "code",
   "execution_count": 27,
   "metadata": {},
   "outputs": [
    {
     "data": {
      "text/plain": [
       "array([0.        , 0.00930553, 0.01846398, 0.02747741, 0.03634784,\n",
       "       0.04507731, 0.05366781, 0.06212131, 0.07043979, 0.07862518,\n",
       "       0.08667942, 0.0946044 , 0.10240203, 0.11007416, 0.11762266,\n",
       "       0.12504937, 0.13235609, 0.13954464, 0.14661679, 0.15357432,\n",
       "       0.16041896, 0.16715246, 0.17377653, 0.18029287, 0.18670314,\n",
       "       0.19300903, 0.19921218, 0.20531421, 0.21131674, 0.21722137,\n",
       "       0.22302967, 0.22874321, 0.23436354, 0.23989219, 0.24533068,\n",
       "       0.2506805 , 0.25594313, 0.26112005, 0.2662127 , 0.27122252,\n",
       "       0.27615093, 0.28099933, 0.28576911, 0.29046165, 0.29507831,\n",
       "       0.29962042, 0.30408931, 0.3084863 , 0.31281268, 0.31706973,\n",
       "       0.32125873, 0.32538092, 0.32943755, 0.33342983, 0.33735898,\n",
       "       0.34122619, 0.34503263, 0.34877949, 0.3524679 , 0.356099  ,\n",
       "       0.35967392, 0.36319377, 0.36665965, 0.37007263, 0.37343378,\n",
       "       0.37674416, 0.38000481, 0.38321675, 0.38638101, 0.38949857,\n",
       "       0.39257044, 0.39559758, 0.39858095, 0.40152151, 0.40442018,\n",
       "       0.4072779 , 0.41009557, 0.41287409, 0.41561435, 0.41831721,\n",
       "       0.42098354, 0.42361418, 0.42620998, 0.42877174, 0.4313003 ,\n",
       "       0.43379644, 0.43626095, 0.43869461, 0.44109818, 0.44347241,\n",
       "       0.44581806, 0.44813583, 0.45042646, 0.45269065, 0.45492909,\n",
       "       0.45714247, 0.45933147, 0.46149673, 0.46363893, 0.46575869,\n",
       "       0.46785664, 0.46993341, 0.47198961, 0.47402582, 0.47604265,\n",
       "       0.47804066, 0.48002042, 0.4819825 , 0.48392743, 0.48585576,\n",
       "       0.48776801, 0.48966469, 0.49154632, 0.4934134 , 0.49526641,\n",
       "       0.49710582, 0.49893212, 0.50074575, 0.50254718, 0.50433684,\n",
       "       0.50611516, 0.50788256, 0.50963947, 0.51138629, 0.5131234 ,\n",
       "       0.51485122, 0.5165701 , 0.51828042, 0.51998255, 0.52167684,\n",
       "       0.52336364, 0.52504328, 0.52671609, 0.5283824 , 0.53004251,\n",
       "       0.53169674, 0.53334539, 0.53498873, 0.53662707, 0.53826066,\n",
       "       0.53988979, 0.5415147 , 0.54313566, 0.54475291, 0.54636669,\n",
       "       0.54797722, 0.54958475, 0.55118947, 0.55279162, 0.55439138,\n",
       "       0.55598896, 0.55758455, 0.55917834, 0.5607705 , 0.5623612 ,\n",
       "       0.56395062, 0.56553891, 0.56712623, 0.56871272, 0.57029853,\n",
       "       0.57188379, 0.57346863, 0.57505319, 0.57663757, 0.5782219 ,\n",
       "       0.57980628, 0.58139082, 0.58297561, 0.58456074, 0.58614631,\n",
       "       0.5877324 , 0.58931909, 0.59090644, 0.59249454, 0.59408343,\n",
       "       0.59567319, 0.59726387, 0.59885551, 0.60044817, 0.60204189,\n",
       "       0.6036367 , 0.60523263, 0.60682973, 0.60842801, 0.6100275 ,\n",
       "       0.61162821, 0.61323016, 0.61483337, 0.61643783, 0.61804356,\n",
       "       0.61965055, 0.62125881, 0.62286832, 0.62447908, 0.62609108,\n",
       "       0.62770431, 0.62931874, 0.63093435, 0.63255114, 0.63416906,\n",
       "       0.63578809, 0.63740821, 0.63902937, 0.64065155, 0.64227471,\n",
       "       0.64389881, 0.64552381, 0.64714966, 0.64877633, 0.65040376,\n",
       "       0.65203191, 0.65366073, 0.65529017, 0.65692017, 0.65855068,\n",
       "       0.66018165, 0.66181302, 0.66344473, 0.66507673, 0.66670895,\n",
       "       0.66834134, 0.66997383, 0.67160637, 0.67323888, 0.67487132,\n",
       "       0.6765036 , 0.67813569, 0.6797675 , 0.68139897, 0.68303004,\n",
       "       0.68466065, 0.68629074, 0.68792023, 0.68954907, 0.69117719,\n",
       "       0.69280452, 0.69443102, 0.69605661, 0.69768123, 0.69930483,\n",
       "       0.70092734, 0.70254871, 0.70416888, 0.70578778, 0.70740537,\n",
       "       0.70902159, 0.71063639, 0.71224971, 0.71386151, 0.71547174,\n",
       "       0.71708035, 0.71868729, 0.72029252, 0.721896  , 0.7234977 ,\n",
       "       0.72509756, 0.72669556, 0.72829166, 0.72988584, 0.73147806,\n",
       "       0.73306829, 0.73465652, 0.73624272, 0.73782688, 0.73940897,\n",
       "       0.74098899, 0.74256693, 0.74414277, 0.74571652, 0.74728817,\n",
       "       0.74885773, 0.75042521, 0.75199061, 0.75355395, 0.75511524,\n",
       "       0.7566745 , 0.75823176, 0.75978705, 0.76134039, 0.76289183,\n",
       "       0.76444141, 0.76598916, 0.76753514, 0.7690794 , 0.770622  ,\n",
       "       0.77216299, 0.77370246, 0.77524046, 0.77677707, 0.77831237,\n",
       "       0.77984646, 0.78137941, 0.78291133, 0.78444232, 0.78597248,\n",
       "       0.78750192, 0.78903077, 0.79055914, 0.79208716, 0.79361496,\n",
       "       0.79514269, 0.7966705 , 0.79819852, 0.79972692, 0.80125586,\n",
       "       0.80278551, 0.80431606, 0.80584766, 0.80738053, 0.80891485,\n",
       "       0.81045082, 0.81198866, 0.81352857, 0.81507078, 0.81661552,\n",
       "       0.81816301, 0.81971352, 0.82126728, 0.82282455, 0.8243856 ,\n",
       "       0.82595069, 0.82752012, 0.82909415, 0.8306731 , 0.83225726,\n",
       "       0.83384693, 0.83544245, 0.83704413, 0.83865231, 0.84026733,\n",
       "       0.84188954, 0.8435193 , 0.84515697, 0.84680294, 0.84845758,\n",
       "       0.85012129, 0.85179447, 0.85347753, 0.85517089, 0.85687497,\n",
       "       0.85859022, 0.86031708, 0.862056  , 0.86380746, 0.86557191,\n",
       "       0.86734986, 0.86914178, 0.87094818, 0.87276959, 0.87460651,\n",
       "       0.87645947, 0.87832903, 0.88021574, 0.88212014, 0.88404283,\n",
       "       0.88598438, 0.88794538, 0.88992643, 0.89192816, 0.89395118,\n",
       "       0.89599613, 0.89806366, 0.90015442, 0.90226909, 0.90440833,\n",
       "       0.90657284, 0.90876333, 0.9109805 , 0.91322507, 0.91549779,\n",
       "       0.9177994 , 0.92013065, 0.92249232, 0.92488519, 0.92731006,\n",
       "       0.92976772, 0.932259  , 0.93478473, 0.93734574, 0.93994289,\n",
       "       0.94257705, 0.9452491 , 0.94795993, 0.95071044, 0.95350155,\n",
       "       0.95633419, 0.9592093 , 0.96212783, 0.96509076, 0.96809906,\n",
       "       0.97115373])"
      ]
     },
     "execution_count": 27,
     "metadata": {},
     "output_type": "execute_result"
    }
   ],
   "source": [
    "tgts"
   ]
  },
  {
   "cell_type": "code",
   "execution_count": 28,
   "metadata": {},
   "outputs": [
    {
     "data": {
      "text/plain": [
       "[<matplotlib.lines.Line2D at 0x1250fc438>]"
      ]
     },
     "execution_count": 28,
     "metadata": {},
     "output_type": "execute_result"
    },
    {
     "data": {
      "image/png": "[encoded data removed]",
      "text/plain": [
       "<Figure size 1152x648 with 1 Axes>"
      ]
     },
     "metadata": {
      "needs_background": "light"
     },
     "output_type": "display_data"
    }
   ],
   "source": [
    "fig, ax1 = plt.subplots(figsize=(16,9))\n",
    "plt.plot(tgts)"
   ]
  },
  {
   "cell_type": "code",
   "execution_count": 29,
   "metadata": {},
   "outputs": [
    {
     "data": {
      "text/plain": [
       "0.9711537332776548"
      ]
     },
     "execution_count": 29,
     "metadata": {},
     "output_type": "execute_result"
    }
   ],
   "source": [
    "tgts[-1]"
   ]
  },
  {
   "cell_type": "code",
   "execution_count": 30,
   "metadata": {},
   "outputs": [
    {
     "data": {
      "text/plain": [
       "DatetimeIndex(['2019-02-01 09:30:00', '2019-02-01 09:31:00',\n",
       "               '2019-02-01 09:32:00', '2019-02-01 09:33:00',\n",
       "               '2019-02-01 09:34:00', '2019-02-01 09:35:00',\n",
       "               '2019-02-01 09:36:00', '2019-02-01 09:37:00',\n",
       "               '2019-02-01 09:38:00', '2019-02-01 09:39:00',\n",
       "               ...\n",
       "               '2019-02-01 15:51:00', '2019-02-01 15:52:00',\n",
       "               '2019-02-01 15:53:00', '2019-02-01 15:54:00',\n",
       "               '2019-02-01 15:55:00', '2019-02-01 15:56:00',\n",
       "               '2019-02-01 15:57:00', '2019-02-01 15:58:00',\n",
       "               '2019-02-01 15:59:00', '2019-02-01 16:00:00'],\n",
       "              dtype='datetime64[ns]', length=391, freq='T')"
      ]
     },
     "execution_count": 30,
     "metadata": {},
     "output_type": "execute_result"
    }
   ],
   "source": [
    "# or is there something about this that keeps it from getting to 1.0 that I'm forgetting?\n",
    "minute_data.index"
   ]
  },
  {
   "cell_type": "code",
   "execution_count": 31,
   "metadata": {},
   "outputs": [
    {
     "data": {
      "image/png": "[encoded data removed]",
      "text/plain": [
       "<Figure size 1152x648 with 1 Axes>"
      ]
     },
     "metadata": {
      "needs_background": "light"
     },
     "output_type": "display_data"
    }
   ],
   "source": [
    "tgt_date = '2019-02-01'\n",
    "fig, ax1 = plt.subplots( figsize = ( 16, 9 ) )\n",
    "ax1.plot( minute_data[ 'accum_pct' ] )\n",
    "tgtsSeries = pd.Series( tgts )\n",
    "tgtsSeries.index = minute_data.index\n",
    "ax1.plot( tgtsSeries )\n",
    "plt.show()"
   ]
  },
  {
   "cell_type": "code",
   "execution_count": 32,
   "metadata": {},
   "outputs": [
    {
     "data": {
      "text/plain": [
       "<matplotlib.axes._subplots.AxesSubplot at 0x11a1ed320>"
      ]
     },
     "execution_count": 32,
     "metadata": {},
     "output_type": "execute_result"
    },
    {
     "data": {
      "image/png": "[encoded data removed]",
      "text/plain": [
       "<Figure size 1152x648 with 1 Axes>"
      ]
     },
     "metadata": {
      "needs_background": "light"
     },
     "output_type": "display_data"
    }
   ],
   "source": [
    "minute_data['close'].plot(figsize=(16,9))"
   ]
  },
  {
   "cell_type": "markdown",
   "metadata": {},
   "source": [
    "## 3.run a modified VWAP Algo"
   ]
  },
  {
   "cell_type": "code",
   "execution_count": null,
   "metadata": {},
   "outputs": [],
   "source": [
    "# initialize some other variables\n",
    "current_bar = 1\n",
    "current_target = 0\n",
    "quantity_filled = 0\n",
    "quantity_remaining = order_quantity - quantity_filled\n",
    "bid_price = 0.0\n",
    "bid_quantity = 0.0\n",
    "offer_price = 0.0\n",
    "offer_quantity = 0.0\n",
    "last_price = 0.0\n",
    "last_quantity = 0.0\n",
    "total_volume = 0.0\n",
    "vwap_numerator = 0.0\n",
    "trades_arr = []\n",
    "passive_order_live = False\n",
    "passive_order_price = 0\n",
    "passive_order_quantity = 0\n",
    "\n",
    "avg_spread = 0.05\n",
    "\n",
    "tolerance_threshold = 2500\n",
    "# main event loop\n",
    "show_time( 'start loop' )\n",
    "for index, row in taq.iterrows():\n",
    "    # figure out which minute we are in after the open\n",
    "    time_from_open = ( index - pd.Timedelta( hours = 9, minutes = 30 ) )\n",
    "    minutes_from_open = ( time_from_open.hour * 60 ) + time_from_open.minute\n",
    "        \n",
    "    # determine message type\n",
    "    if ( pd.isnull( row[ 'trade_qty' ] ) ): # it's a quote\n",
    "        # collect BBO\n",
    "        bid_price = row[ 'bid_price' ]\n",
    "        offer_price = row[ 'ask_price' ]\n",
    "        \n",
    "        # what's wrong with the lines below?\n",
    "        bid_quantity = row[ 'bid_qty' ] * 100 \n",
    "        offer_quantity = row[ 'ask_qty' ] * 100\n",
    "    \n",
    "    else: # it's a trade\n",
    "        last_price = row[ 'trade_price' ]\n",
    "        last_quantity = row[ 'trade_qty' ]\n",
    "        \n",
    "        # collect volume\n",
    "        total_volume += last_quantity\n",
    "        \n",
    "        # collect rolling VWAP\n",
    "        vwap_numerator += last_quantity * last_price\n",
    "        \n",
    "        # now check to see if we have an order open?\n",
    "        if passive_order_live:\n",
    "            # has our order been hit?\n",
    "            if ( order_side == 'b' and last_price <= passive_order_price ) or ( order_side == 's' and last_price >= passive_order_price ):\n",
    "                # we have a trade\n",
    "                new_trade_quantity = min( last_quantity, passive_order_quantity )\n",
    "                trades_arr.append( ( last_price, new_trade_quantity, current_bar, index ) )\n",
    "                quantity_remaining = min( 0, quantity_remaining - new_trade_quantity )\n",
    "                quantity_filled += new_trade_quantity  \n",
    "                passive_order_live = False\n",
    "\n",
    "    # are we in a new minute?\n",
    "    if ( minutes_from_open > current_bar ):\n",
    "        # we're in a new bar do new bar things here\n",
    "        current_bar = minutes_from_open\n",
    "        current_target = min( np.ceil( order_targets[ current_bar ] ), order_quantity )\n",
    "        #print ( str(current_bar) + ': ' + str( current_target ) )\n",
    "        \n",
    "    # trade logic\n",
    "    # v1.5: are we behind the target by more than our threshold? If so, do a trade, just pay the spread\n",
    "    quantity_behind = current_target - quantity_filled\n",
    "    if ( quantity_behind > tolerance_threshold ): # we need to trade now\n",
    "        \n",
    "        # assume you can execute the full size across spread\n",
    "        new_trade_quantity = quantity_behind\n",
    "        if ( order_side == 'b' ):\n",
    "            new_trade_price = offer_price\n",
    "        else: \n",
    "            new_trade_price = bid_price\n",
    "            \n",
    "        # do we have a valid last trade price? if not, we should skip, because market data is bad. \n",
    "        if ( new_trade_price == 0 ) or ( offer_price - bid_price > 5 * avg_spread ):\n",
    "            # something is wrong, wait for market data to update\n",
    "            continue\n",
    "        \n",
    "        trades_arr.append( ( new_trade_price, new_trade_quantity, current_bar, index ) )\n",
    "        \n",
    "        # update quantity remaining\n",
    "        quantity_remaining = min( 0, quantity_remaining - new_trade_quantity )\n",
    "        quantity_filled += new_trade_quantity    \n",
    "        \n",
    "    else: # we should place a passive order (if we don't already have one out there), (unless we are less than 100 shares!)\n",
    "        if ( passive_order_live == False ) and ( quantity_behind >= 100 ):\n",
    "            passive_order_quantity = quantity_behind\n",
    "            if ( order_side == 'b' ):\n",
    "                passive_order_price = bid_price\n",
    "            else:\n",
    "                passive_order_price = offer_price\n",
    "            passive_order_live = True\n",
    "        \n",
    "# looping done\n",
    "show_time( 'end loop' )"
   ]
  }
 ],
 "metadata": {
  "kernelspec": {
   "display_name": "Python 3",
   "language": "python",
   "name": "python3"
  },
  "language_info": {
   "codemirror_mode": {
    "name": "ipython",
    "version": 3
   },
   "file_extension": ".py",
   "mimetype": "text/x-python",
   "name": "python",
   "nbconvert_exporter": "python",
   "pygments_lexer": "ipython3",
   "version": "3.7.1"
  }
 },
 "nbformat": 4,
 "nbformat_minor": 2
}
