{
 "cells": [
  {
   "cell_type": "markdown",
   "metadata": {},
   "source": [
    "# Appending to DataFrames and Lists: A Comparison"
   ]
  },
  {
   "cell_type": "code",
   "execution_count": null,
   "metadata": {},
   "outputs": [],
   "source": [
    "import pandas as pd\n",
    "import numpy as np\n",
    "import matplotlib.pyplot as plt\n",
    "import matplotlib.ticker as ticker"
   ]
  },
  {
   "cell_type": "markdown",
   "metadata": {},
   "source": [
    "In L3.1 we cheated and set up a pandas DataFrame to use hold all of our trades. But in reality we usually don't know before hand when they are going to get added. For this we will usually just want to append to an array instead of the data frame because it's a lot faster..."
   ]
  },
  {
   "cell_type": "code",
   "execution_count": null,
   "metadata": {},
   "outputs": [],
   "source": [
    "def df_append_test(count):\n",
    "    number_of_loops = np.arange(count)\n",
    "    df = pd.DataFrame(columns=['trade_price', 'trade_qty'])\n",
    "    for i in number_of_loops:\n",
    "        df = df.append({'trade_price' : 40.0, 'trade_qty' : i}, ignore_index=True)\n",
    "    return df"
   ]
  },
  {
   "cell_type": "code",
   "execution_count": null,
   "metadata": {},
   "outputs": [],
   "source": [
    "df = df_append_test(1000)"
   ]
  },
  {
   "cell_type": "code",
   "execution_count": null,
   "metadata": {},
   "outputs": [],
   "source": [
    "def list_append_test(count):\n",
    "    number_of_loops = np.arange(count)\n",
    "    ls = []\n",
    "    for i in number_of_loops:\n",
    "        ls.append((40, 100))\n",
    "    return ls"
   ]
  },
  {
   "cell_type": "code",
   "execution_count": null,
   "metadata": {},
   "outputs": [],
   "source": [
    "arr = list_append_test(1000)"
   ]
  },
  {
   "cell_type": "markdown",
   "metadata": {},
   "source": [
    "One is a LOT faster!\n",
    "\n",
    "So keep your trades in a list and you can always convert them to a dataframe later:"
   ]
  },
  {
   "cell_type": "code",
   "execution_count": null,
   "metadata": {},
   "outputs": [],
   "source": [
    "# different values of dataframe\n",
    "%timeit df = df_append_test(10)\n",
    "%timeit df = df_append_test(100)\n",
    "%timeit df = df_append_test(1000)\n",
    "%timeit df = df_append_test(10000)\n",
    "%timeit df = df_append_test(100000)"
   ]
  },
  {
   "cell_type": "code",
   "execution_count": null,
   "metadata": {},
   "outputs": [],
   "source": [
    "%timeit arr = list_append_test(10)\n",
    "%timeit arr = list_append_test(100)\n",
    "%timeit arr = list_append_test(1000)\n",
    "%timeit arr = list_append_test(10000)\n",
    "%timeit arr = list_append_test(100000)"
   ]
  },
  {
   "cell_type": "code",
   "execution_count": null,
   "metadata": {},
   "outputs": [],
   "source": [
    "%timeit df = df_append_test(1000000)\n",
    "%timeit arr = list_append_test(1000000)"
   ]
  },
  {
   "cell_type": "code",
   "execution_count": null,
   "metadata": {},
   "outputs": [],
   "source": [
    "df_method = pd.DataFrame({'count' : [10, 100, 1000, 10000, 100000, 1000000], 'dataframe' : [9710, 79800, 776000, 7930000, 83000000, 1864000000]})"
   ]
  },
  {
   "cell_type": "code",
   "execution_count": null,
   "metadata": {},
   "outputs": [],
   "source": [
    "list_method = pd.DataFrame({'count' : [10, 100, 1000, 10000, 100000, 1000000], 'time' : [2.95, 17.5, 160, 1550, 16100, 152000]})"
   ]
  },
  {
   "cell_type": "code",
   "execution_count": null,
   "metadata": {},
   "outputs": [],
   "source": [
    "fig, (ax1, ax2) = plt.subplots(2, 1, figsize=(16,9), sharex=True)\n",
    "fig.suptitle('Comparing DataFrame and List Appends', fontsize='24')\n",
    "\n",
    "ax1.plot(df_method['count'], df_method['time'], 'r-', label='DataFrame Time')\n",
    "ax1.plot(list_method['count'], list_method['time'], 'g-', label='List Time')\n",
    "ax1.set_ylabel(\"time in microseconds\")\n",
    "ax1.yaxis.set_major_formatter(ticker.FuncFormatter(lambda x, p: format(int(x), ',')))\n",
    "ax1.legend()\n",
    "\n",
    "ax2.plot(df_method['count'], df_method['time'], 'r-', label='DataFrame Time')\n",
    "ax2.plot(list_method['count'], list_method['time'], 'g-', label='List Time')\n",
    "ax2.set_ylabel('time in microseconds (log)')\n",
    "ax2.set_yscale('log')\n",
    "ax2.yaxis.set_major_formatter(ticker.FuncFormatter(lambda x, p: format(int(x), ',')))\n",
    "ax2.set_xlabel('number of rows added')\n",
    "ax2.legend()\n",
    "\n",
    "plt.show()"
   ]
  },
  {
   "cell_type": "markdown",
   "metadata": {},
   "source": [
    "### Conclusion: if you need to iterate, append your trades to a list and then convert to a dataframe"
   ]
  },
  {
   "cell_type": "code",
   "execution_count": null,
   "metadata": {},
   "outputs": [],
   "source": [
    "list_from_dataFrame = pd.DataFrame(arr, columns=['trade_price', 'trade_qty'])"
   ]
  },
  {
   "cell_type": "code",
   "execution_count": null,
   "metadata": {},
   "outputs": [],
   "source": []
  }
 ],
 "metadata": {
  "kernelspec": {
   "display_name": "Python 3",
   "language": "python",
   "name": "python3"
  },
  "language_info": {
   "codemirror_mode": {
    "name": "ipython",
    "version": 3
   },
   "file_extension": ".py",
   "mimetype": "text/x-python",
   "name": "python",
   "nbconvert_exporter": "python",
   "pygments_lexer": "ipython3",
   "version": "3.7.2"
  }
 },
 "nbformat": 4,
 "nbformat_minor": 2
}
