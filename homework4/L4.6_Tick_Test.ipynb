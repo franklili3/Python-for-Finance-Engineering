{
 "cells": [
  {
   "cell_type": "markdown",
   "metadata": {},
   "source": [
    "# Tick Test Analysis "
   ]
  },
  {
   "cell_type": "code",
   "execution_count": null,
   "metadata": {},
   "outputs": [],
   "source": [
    "%matplotlib inline\n",
    "\n",
    "import matplotlib\n",
    "import matplotlib.pyplot as plt\n",
    "import numpy as np\n",
    "import pandas as pd\n",
    "import time\n",
    "import datetime\n",
    "\n",
    "matplotlib.rcParams[ 'figure.figsize' ] = ( 14, 8 )\n",
    "\n",
    "def show_time( label_string ):\n",
    "    ts = time.time()\n",
    "    st = datetime.datetime.fromtimestamp( ts ).strftime( '%Y-%m-%d %H:%M:%S:%f' )\n",
    "    print( label_string + ' : ' + st )"
   ]
  },
  {
   "cell_type": "code",
   "execution_count": null,
   "metadata": {},
   "outputs": [],
   "source": [
    "# load our taq file\n",
    "taq = pd.read_pickle( 'TWTR_taq_20190102.gz' )\n",
    "\n",
    "# get all the trades for later too\n",
    "market_trades = pd.read_pickle( 'TWTR_trades_201901.gz' )\n",
    "market_trades = market_trades.between_time( '09:30:00', '16:00:00' )\n",
    "\n",
    "quotes = pd.read_pickle( 'TWTR_quotes_201901.gz' )\n",
    "quotes = quotes.between_time( '09:30:00', '16:00:00' )"
   ]
  },
  {
   "cell_type": "markdown",
   "metadata": {},
   "source": [
    "## Spreads"
   ]
  },
  {
   "cell_type": "code",
   "execution_count": null,
   "metadata": {},
   "outputs": [],
   "source": [
    "# todo"
   ]
  },
  {
   "cell_type": "code",
   "execution_count": null,
   "metadata": {},
   "outputs": [],
   "source": [
    "avg_spread = ( quotes[ 'ask_price' ] - quotes[ 'bid_price' ] ).mean()"
   ]
  },
  {
   "cell_type": "code",
   "execution_count": null,
   "metadata": {},
   "outputs": [],
   "source": [
    "spreads = quotes[ 'ask_price' ] - quotes[ 'bid_price' ]"
   ]
  },
  {
   "cell_type": "code",
   "execution_count": null,
   "metadata": {},
   "outputs": [],
   "source": [
    "# trim our outliers\n",
    "spreads = spreads[ spreads <= 5 ]\n",
    "spreads = spreads[ spreads > 0 ]\n",
    "avg_spread = spreads.mean()"
   ]
  },
  {
   "cell_type": "code",
   "execution_count": null,
   "metadata": {},
   "outputs": [],
   "source": [
    "avg_spread"
   ]
  },
  {
   "cell_type": "code",
   "execution_count": null,
   "metadata": {},
   "outputs": [],
   "source": [
    "fig, ax1 = plt.subplots (figsize=(16,9))\n",
    "ax1.hist( spreads, bins = np.arange( 0.01, 0.20, 0.01 ), rwidth = .5, log = False )\n",
    "plt.show()"
   ]
  },
  {
   "cell_type": "markdown",
   "metadata": {},
   "source": [
    "## Tick Test and Autocorrelation"
   ]
  },
  {
   "cell_type": "code",
   "execution_count": null,
   "metadata": {},
   "outputs": [],
   "source": [
    "len(market_trades)"
   ]
  },
  {
   "cell_type": "code",
   "execution_count": null,
   "metadata": {},
   "outputs": [],
   "source": [
    "# tick test to do up/down\n",
    "# use shift() to calculate tick \n",
    "\n",
    "# grab one day\n",
    "trading_day = market_trades['2019-01-02']\n",
    "\n",
    "ticks = np.sign( trading_day[ 'trade_price' ] - trading_day[ 'trade_price' ].shift( 1 ) )\n",
    "ticks_adj = ticks.copy()"
   ]
  },
  {
   "cell_type": "code",
   "execution_count": null,
   "metadata": {},
   "outputs": [],
   "source": [
    "ticks.head(10)"
   ]
  },
  {
   "cell_type": "code",
   "execution_count": null,
   "metadata": {},
   "outputs": [],
   "source": [
    "# but we want zeros to be directional from the previous value so let's fill in\n",
    "# I'm going to be lazy and loop this\n",
    "\n",
    "prev_item = 0\n",
    "for index, item in ticks.iteritems():\n",
    "    if not pd.isnull( item ):\n",
    "        if item == 0:\n",
    "            ticks_adj[index] = prev_item\n",
    "        else:   \n",
    "            # a nonzero value, set our counter\n",
    "            prev_item = item\n",
    "        "
   ]
  },
  {
   "cell_type": "code",
   "execution_count": null,
   "metadata": {},
   "outputs": [],
   "source": [
    "ticks_adj.head(10)"
   ]
  },
  {
   "cell_type": "code",
   "execution_count": null,
   "metadata": {},
   "outputs": [],
   "source": [
    "# Calculate autocorrelation for n lags \n",
    "fig, ax1 = plt.subplots(figsize=(16,9))\n",
    "for i in np.arange( 1, 100 ):\n",
    "    ax1.bar( i, ticks_adj.autocorr( lag = i ), color = 'lightblue' )\n",
    "ax1.set_title( 'Autocorrelation of tick test data by lag' )\n",
    "ax1.set_ylabel( 'Autocorrelation' )\n",
    "ax1.set_xlabel( 'Lag' )\n",
    "plt.show()"
   ]
  },
  {
   "cell_type": "code",
   "execution_count": null,
   "metadata": {},
   "outputs": [],
   "source": []
  }
 ],
 "metadata": {
  "kernelspec": {
   "display_name": "Python 3",
   "language": "python",
   "name": "python3"
  },
  "language_info": {
   "codemirror_mode": {
    "name": "ipython",
    "version": 3
   },
   "file_extension": ".py",
   "mimetype": "text/x-python",
   "name": "python",
   "nbconvert_exporter": "python",
   "pygments_lexer": "ipython3",
   "version": "3.7.2"
  }
 },
 "nbformat": 4,
 "nbformat_minor": 2
}
