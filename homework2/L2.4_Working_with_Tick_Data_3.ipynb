{
 "cells": [
  {
   "cell_type": "markdown",
   "metadata": {},
   "source": [
    "# E4729 Lecture 6-02: Tick Data - Merging Quote and Trade Data for Replay"
   ]
  },
  {
   "cell_type": "code",
   "execution_count": 1,
   "metadata": {},
   "outputs": [],
   "source": [
    "# data source and spec\n",
    "# Files: ftp://ftp.nyxdata.com/Historical%20Data%20Samples/Daily%20TAQ%20Sample%202017/\n",
    "# Spec: http://www.nyxdata.com/doc/247075"
   ]
  },
  {
   "cell_type": "code",
   "execution_count": 2,
   "metadata": {},
   "outputs": [],
   "source": [
    "%matplotlib inline\n",
    "\n",
    "import matplotlib\n",
    "import matplotlib.pyplot as plt\n",
    "import matplotlib.dates as md\n",
    "import numpy as np\n",
    "import pandas as pd\n",
    "import time\n",
    "import datetime\n",
    "\n",
    "matplotlib.rcParams[ 'figure.figsize' ] = ( 14, 6 )\n",
    "\n",
    "def show_time( label_string ):\n",
    "    ts = time.time()\n",
    "    st = datetime.datetime.fromtimestamp( ts ).strftime( '%Y-%m-%d %H:%M:%S:%f' )\n",
    "    print( label_string + ' : ' + st )"
   ]
  },
  {
   "cell_type": "code",
   "execution_count": 3,
   "metadata": {},
   "outputs": [],
   "source": [
    "quote_file = 'EQY_US_ALL_NBBO_20180117.gz'\n",
    "trade_file = 'EQY_US_ALL_TRADE_20180117.gz'\n",
    "\n",
    "file_date = '20180117'"
   ]
  },
  {
   "cell_type": "code",
   "execution_count": null,
   "metadata": {},
   "outputs": [
    {
     "name": "stdout",
     "output_type": "stream",
     "text": [
      "load quotes : 2019-03-28 22:58:51:092186\n"
     ]
    }
   ],
   "source": [
    "# load quotes\n",
    "show_time( 'load quotes' )\n",
    "\n",
    "quotes = pd.read_csv( quote_file, sep = '|', \n",
    "                      usecols = [ 'Time', 'Symbol', 'Bid_Price', 'Bid_Size', \n",
    "                                  'Offer_Price', 'Offer_Size', 'Quote_Condition', 'Exchange'],\n",
    "                      error_bad_lines = False,\n",
    "                      dtype = { 'Symbol' : object, 'Bid_Price' : float, 'Bid_Size' : float,\n",
    "                                'Offer_Price' : float, 'Offer_Size' : float, 'Quote_Condition' : object, \n",
    "                                'Exchange' : object },\n",
    "                      #nrows=10000\n",
    "                    )\n",
    "show_time( 'load quotes done' )"
   ]
  },
  {
   "cell_type": "code",
   "execution_count": 5,
   "metadata": {},
   "outputs": [
    {
     "name": "stdout",
     "output_type": "stream",
     "text": [
      "index quotes : 2019-03-28 22:57:44:496303\n",
      "index quotes done : 2019-03-28 22:57:44:576756\n"
     ]
    }
   ],
   "source": [
    "# add an index, converting to appropriate time and  correcting for the missing date.\n",
    "\n",
    "# first strip the last record with \"END\" in it to avoid errors on conversion\n",
    "\n",
    "show_time( 'index quotes' )\n",
    "quotes = quotes.iloc[:-1]\n",
    "format = '%Y%m%d%H%M%S%f'\n",
    "quotes[ 'Time' ] = file_date + quotes[ 'Time' ].astype( str )\n",
    "times = pd.to_datetime( quotes[ 'Time' ], format = format )\n",
    "del quotes[ 'Time' ]\n",
    "quotes.index = times\n",
    "show_time( 'index quotes done' )"
   ]
  },
  {
   "cell_type": "code",
   "execution_count": 6,
   "metadata": {},
   "outputs": [
    {
     "name": "stdout",
     "output_type": "stream",
     "text": [
      "load trades : 2019-03-28 22:57:45:520756\n",
      "load trades done : 2019-03-28 22:57:45:544401\n",
      "index trades done : 2019-03-28 22:57:45:614289\n"
     ]
    }
   ],
   "source": [
    "# load trades\n",
    "show_time( \"load trades\")\n",
    "trades = pd.read_csv( trade_file, sep = '|',  \n",
    "                      usecols = [ 'Time', 'Symbol', 'Trade Price', 'Trade Volume', 'Sale Condition' ],\n",
    "                      error_bad_lines = False,\n",
    "                      dtype = { 'Symbol' : object, 'Trade Price' : float, 'Trade Volume' : float,\n",
    "                                'Sale Condition' : object },\n",
    "                      #nrows=10000\n",
    "                    )\n",
    "show_time( \"load trades done\" )\n",
    "# cut the last record with END\n",
    "trades = trades.iloc[:-1]\n",
    "format = '%Y%m%d%H%M%S%f'\n",
    "trades[ 'Time' ] = file_date + trades[ 'Time' ].astype( str )\n",
    "times = pd.to_datetime( trades[ 'Time' ], format = format )\n",
    "del trades[ 'Time' ]\n",
    "trades.index = times\n",
    "show_time( \"index trades done\" )"
   ]
  },
  {
   "cell_type": "code",
   "execution_count": 7,
   "metadata": {},
   "outputs": [
    {
     "data": {
      "text/html": [
       "<div>\n",
       "<style scoped>\n",
       "    .dataframe tbody tr th:only-of-type {\n",
       "        vertical-align: middle;\n",
       "    }\n",
       "\n",
       "    .dataframe tbody tr th {\n",
       "        vertical-align: top;\n",
       "    }\n",
       "\n",
       "    .dataframe thead th {\n",
       "        text-align: right;\n",
       "    }\n",
       "</style>\n",
       "<table border=\"1\" class=\"dataframe\">\n",
       "  <thead>\n",
       "    <tr style=\"text-align: right;\">\n",
       "      <th></th>\n",
       "      <th>Symbol</th>\n",
       "      <th>Sale Condition</th>\n",
       "      <th>Trade Volume</th>\n",
       "      <th>Trade Price</th>\n",
       "    </tr>\n",
       "    <tr>\n",
       "      <th>Time</th>\n",
       "      <th></th>\n",
       "      <th></th>\n",
       "      <th></th>\n",
       "      <th></th>\n",
       "    </tr>\n",
       "  </thead>\n",
       "  <tbody>\n",
       "    <tr>\n",
       "      <th>2018-01-17 09:29:50.009602</th>\n",
       "      <td>A</td>\n",
       "      <td>FTI</td>\n",
       "      <td>25.0</td>\n",
       "      <td>71.54</td>\n",
       "    </tr>\n",
       "    <tr>\n",
       "      <th>2018-01-17 09:30:01.004090</th>\n",
       "      <td>A</td>\n",
       "      <td>O</td>\n",
       "      <td>14777.0</td>\n",
       "      <td>71.72</td>\n",
       "    </tr>\n",
       "    <tr>\n",
       "      <th>2018-01-17 09:30:02.512285</th>\n",
       "      <td>A</td>\n",
       "      <td>I</td>\n",
       "      <td>13.0</td>\n",
       "      <td>71.69</td>\n",
       "    </tr>\n",
       "    <tr>\n",
       "      <th>2018-01-17 09:30:02.573805</th>\n",
       "      <td>A</td>\n",
       "      <td>F I</td>\n",
       "      <td>20.0</td>\n",
       "      <td>71.56</td>\n",
       "    </tr>\n",
       "    <tr>\n",
       "      <th>2018-01-17 09:30:02.602246</th>\n",
       "      <td>A</td>\n",
       "      <td>F I</td>\n",
       "      <td>19.0</td>\n",
       "      <td>71.56</td>\n",
       "    </tr>\n",
       "  </tbody>\n",
       "</table>\n",
       "</div>"
      ],
      "text/plain": [
       "                           Symbol Sale Condition  Trade Volume  Trade Price\n",
       "Time                                                                       \n",
       "2018-01-17 09:29:50.009602      A            FTI          25.0        71.54\n",
       "2018-01-17 09:30:01.004090      A            O         14777.0        71.72\n",
       "2018-01-17 09:30:02.512285      A              I          13.0        71.69\n",
       "2018-01-17 09:30:02.573805      A            F I          20.0        71.56\n",
       "2018-01-17 09:30:02.602246      A            F I          19.0        71.56"
      ]
     },
     "execution_count": 7,
     "metadata": {},
     "output_type": "execute_result"
    }
   ],
   "source": [
    "trades.head()"
   ]
  },
  {
   "cell_type": "code",
   "execution_count": 9,
   "metadata": {
    "scrolled": true
   },
   "outputs": [],
   "source": [
    "# uncomment to pre-filter on a ticker\n",
    "ticker = 'AAPL'\n",
    "quotes = quotes[ quotes[ 'Symbol' ] == ticker ]\n",
    "trades = trades[ trades[ 'Symbol' ] == ticker ]"
   ]
  },
  {
   "cell_type": "code",
   "execution_count": 10,
   "metadata": {},
   "outputs": [
    {
     "name": "stdout",
     "output_type": "stream",
     "text": [
      "start merge : 2019-03-28 22:58:18:374517\n",
      "end merge : 2019-03-28 22:58:18:377767\n"
     ]
    }
   ],
   "source": [
    "# now merge quote and tick data\n",
    "show_time( 'start merge' )\n",
    "taq = quotes.merge( trades, how = 'outer', on = 'Symbol', left_index = True, right_index = True )\n",
    "show_time( 'end merge' )"
   ]
  },
  {
   "cell_type": "code",
   "execution_count": 11,
   "metadata": {},
   "outputs": [
    {
     "data": {
      "text/plain": [
       "0"
      ]
     },
     "execution_count": 11,
     "metadata": {},
     "output_type": "execute_result"
    }
   ],
   "source": [
    "len(taq)"
   ]
  },
  {
   "cell_type": "code",
   "execution_count": 12,
   "metadata": {},
   "outputs": [
    {
     "data": {
      "text/html": [
       "<div>\n",
       "<style scoped>\n",
       "    .dataframe tbody tr th:only-of-type {\n",
       "        vertical-align: middle;\n",
       "    }\n",
       "\n",
       "    .dataframe tbody tr th {\n",
       "        vertical-align: top;\n",
       "    }\n",
       "\n",
       "    .dataframe thead th {\n",
       "        text-align: right;\n",
       "    }\n",
       "</style>\n",
       "<table border=\"1\" class=\"dataframe\">\n",
       "  <thead>\n",
       "    <tr style=\"text-align: right;\">\n",
       "      <th></th>\n",
       "      <th>Exchange</th>\n",
       "      <th>Bid_Price</th>\n",
       "      <th>Bid_Size</th>\n",
       "      <th>Offer_Price</th>\n",
       "      <th>Offer_Size</th>\n",
       "      <th>Quote_Condition</th>\n",
       "      <th>Symbol</th>\n",
       "      <th>Sale Condition</th>\n",
       "      <th>Trade Volume</th>\n",
       "      <th>Trade Price</th>\n",
       "    </tr>\n",
       "    <tr>\n",
       "      <th>Time</th>\n",
       "      <th></th>\n",
       "      <th></th>\n",
       "      <th></th>\n",
       "      <th></th>\n",
       "      <th></th>\n",
       "      <th></th>\n",
       "      <th></th>\n",
       "      <th></th>\n",
       "      <th></th>\n",
       "      <th></th>\n",
       "    </tr>\n",
       "  </thead>\n",
       "  <tbody>\n",
       "  </tbody>\n",
       "</table>\n",
       "</div>"
      ],
      "text/plain": [
       "Empty DataFrame\n",
       "Columns: [Exchange, Bid_Price, Bid_Size, Offer_Price, Offer_Size, Quote_Condition, Symbol, Sale Condition, Trade Volume, Trade Price]\n",
       "Index: []"
      ]
     },
     "execution_count": 12,
     "metadata": {},
     "output_type": "execute_result"
    }
   ],
   "source": [
    "taq.tail()"
   ]
  },
  {
   "cell_type": "code",
   "execution_count": 9,
   "metadata": {},
   "outputs": [],
   "source": [
    "# to save this to a file so we don't have to load and merge again\n",
    "taq.to_csv( 'MY_TAQ_20180117.gz', compression = 'gzip' )"
   ]
  },
  {
   "cell_type": "code",
   "execution_count": null,
   "metadata": {},
   "outputs": [],
   "source": [
    "# filtering the file by date / time\n",
    "len(taq)\n",
    "taq['2018-01-17 09:29':'2018-01-17 09:31']"
   ]
  },
  {
   "cell_type": "raw",
   "metadata": {},
   "source": [
    "# Let's filter on a stock and save a separate file for class purposes\n",
    "ticker = taq[taq['Symbol'] == 'VZ']\n",
    "#A['2018-01-17 09:29':'2018-01-17 09:31']"
   ]
  },
  {
   "cell_type": "code",
   "execution_count": 11,
   "metadata": {},
   "outputs": [
    {
     "data": {
      "text/plain": [
       "282110"
      ]
     },
     "execution_count": 11,
     "metadata": {},
     "output_type": "execute_result"
    }
   ],
   "source": [
    "len(ticker)"
   ]
  },
  {
   "cell_type": "code",
   "execution_count": 13,
   "metadata": {},
   "outputs": [],
   "source": [
    "fb = taq[taq['Symbol'] == 'FB']\n",
    "msft = taq[taq['Symbol'] == 'MSFT']"
   ]
  },
  {
   "cell_type": "code",
   "execution_count": null,
   "metadata": {},
   "outputs": [],
   "source": [
    "# now save our file\n",
    "ticker.to_csv( 'VZ_20180117.gz', compression = 'gzip' )"
   ]
  },
  {
   "cell_type": "code",
   "execution_count": 14,
   "metadata": {},
   "outputs": [
    {
     "data": {
      "text/plain": [
       "425185"
      ]
     },
     "execution_count": 14,
     "metadata": {},
     "output_type": "execute_result"
    }
   ],
   "source": [
    "len(fb)"
   ]
  },
  {
   "cell_type": "code",
   "execution_count": 15,
   "metadata": {},
   "outputs": [
    {
     "data": {
      "text/plain": [
       "547756"
      ]
     },
     "execution_count": 15,
     "metadata": {},
     "output_type": "execute_result"
    }
   ],
   "source": [
    "len(msft)"
   ]
  },
  {
   "cell_type": "code",
   "execution_count": 16,
   "metadata": {},
   "outputs": [],
   "source": [
    "fb.to_csv( 'FB_20180117.gz', compression = 'gzip' )\n",
    "msft.to_csv( 'MSFT_20180117.gz', compression = 'gzip' )"
   ]
  },
  {
   "cell_type": "code",
   "execution_count": 30,
   "metadata": {},
   "outputs": [],
   "source": [
    "def make_ticker_file( ticker, taq ):\n",
    "    ticker_data = taq[ taq[ 'Symbol' ]  == ticker ]\n",
    "    out_file = ticker + '_20180117.gz'\n",
    "    print(out_file)\n",
    "    ticker_data.to_csv( out_file, compression = 'gzip' )"
   ]
  },
  {
   "cell_type": "code",
   "execution_count": 31,
   "metadata": {},
   "outputs": [
    {
     "name": "stdout",
     "output_type": "stream",
     "text": [
      "AAPL_20180117.gz\n"
     ]
    }
   ],
   "source": [
    "make_ticker_file( 'AAPL', taq )"
   ]
  },
  {
   "cell_type": "code",
   "execution_count": null,
   "metadata": {},
   "outputs": [],
   "source": []
  }
 ],
 "metadata": {
  "kernelspec": {
   "display_name": "Python 3",
   "language": "python",
   "name": "python3"
  },
  "language_info": {
   "codemirror_mode": {
    "name": "ipython",
    "version": 3
   },
   "file_extension": ".py",
   "mimetype": "text/x-python",
   "name": "python",
   "nbconvert_exporter": "python",
   "pygments_lexer": "ipython3",
   "version": "3.7.2"
  }
 },
 "nbformat": 4,
 "nbformat_minor": 2
}
