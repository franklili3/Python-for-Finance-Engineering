{
 "cells": [
  {
   "cell_type": "markdown",
   "metadata": {},
   "source": [
    "# order book "
   ]
  },
  {
   "cell_type": "markdown",
   "metadata": {},
   "source": [
    "## 1. Prerequisites"
   ]
  },
  {
   "cell_type": "code",
   "execution_count": null,
   "metadata": {
    "collapsed": true
   },
   "outputs": [],
   "source": [
    "import decimal\n",
    "from orderbook import OrderBook\n",
    "from yahoo_fin import stock_info"
   ]
  },
  {
   "cell_type": "markdown",
   "metadata": {},
   "source": [
    "## 2. Order Book Construction"
   ]
  },
  {
   "cell_type": "code",
   "execution_count": null,
   "metadata": {
    "collapsed": true
   },
   "outputs": [],
   "source": [
    "# Create an order book\n",
    "order_book = OrderBook(); order_book"
   ]
  },
  {
   "cell_type": "code",
   "execution_count": null,
   "metadata": {
    "collapsed": true
   },
   "outputs": [],
   "source": [
    "# Create some limit orders\n",
    "limit_orders = [\n",
    "    {'type' : 'limit', 'side' : 'ask', 'quantity' : 5, 'price' : 101, 'trade_id' : 100},\n",
    "    {'type' : 'limit', 'side' : 'ask', 'quantity' : 5, 'price' : 103, 'trade_id' : 101},\n",
    "    {'type' : 'limit', 'side' : 'ask', 'quantity' : 5, 'price' : 101, 'trade_id' : 102},\n",
    "    {'type' : 'limit', 'side' : 'ask', 'quantity' : 5, 'price' : 101, 'trade_id' : 103},\n",
    "    {'type' : 'limit', 'side' : 'bid', 'quantity' : 5, 'price' : 99,  'trade_id' : 100},\n",
    "    {'type' : 'limit', 'side' : 'bid', 'quantity' : 5, 'price' : 98,  'trade_id' : 101},\n",
    "    {'type' : 'limit', 'side' : 'bid', 'quantity' : 5, 'price' : 99,  'trade_id' : 102},\n",
    "    {'type' : 'limit', 'side' : 'bid', 'quantity' : 5, 'price' : 97,  'trade_id' : 103},\n",
    "]"
   ]
  },
  {
   "cell_type": "code",
   "execution_count": null,
   "metadata": {
    "collapsed": true
   },
   "outputs": [],
   "source": [
    "# Add orders to order book\n",
    "for order in limit_orders:\n",
    "    trades, order_id = order_book.process_order(order, False, False)"
   ]
  },
  {
   "cell_type": "code",
   "execution_count": null,
   "metadata": {
    "collapsed": true
   },
   "outputs": [],
   "source": [
    "# The current book may be viewed using a print\n",
    "print(order_book)"
   ]
  },
  {
   "cell_type": "markdown",
   "metadata": {},
   "source": [
    "## 3. Limit Orders"
   ]
  },
  {
   "cell_type": "code",
   "execution_count": null,
   "metadata": {
    "collapsed": true
   },
   "outputs": [],
   "source": [
    "# Submitting a limit order that crosses the opposing best price will result in a trade\n",
    "crossing_limit_order = {'type': 'limit',\n",
    "                        'side': 'bid',\n",
    "                        'quantity': 2,\n",
    "                        'price': 102,\n",
    "                        'trade_id': 109}\n",
    "trades, order_in_book = order_book.process_order(crossing_limit_order, False, False)\n",
    "trades"
   ]
  },
  {
   "cell_type": "code",
   "execution_count": null,
   "metadata": {
    "collapsed": true
   },
   "outputs": [],
   "source": [
    "print(order_book)"
   ]
  },
  {
   "cell_type": "code",
   "execution_count": null,
   "metadata": {
    "collapsed": true
   },
   "outputs": [],
   "source": [
    "# If a limit crosses but is only partially matched, the remaning volume will\n",
    "# be placed in the book as an outstanding order\n",
    "big_crossing_limit_order = {'type': 'limit',\n",
    "                            'side': 'bid',\n",
    "                            'quantity': 50,\n",
    "                            'price': 102,\n",
    "                            'trade_id': 110}\n",
    "trades, order_in_book = order_book.process_order(big_crossing_limit_order, False, False)\n",
    "trades"
   ]
  },
  {
   "cell_type": "code",
   "execution_count": null,
   "metadata": {
    "collapsed": true
   },
   "outputs": [],
   "source": [
    "print(order_book)"
   ]
  },
  {
   "cell_type": "markdown",
   "metadata": {},
   "source": [
    "## 4. Market Orders"
   ]
  },
  {
   "cell_type": "code",
   "execution_count": null,
   "metadata": {
    "collapsed": true
   },
   "outputs": [],
   "source": [
    "# Market orders only require that a user specifies a side (bid or ask), a quantity, and their unique trade id\n",
    "market_order = {'type': 'market',\n",
    "                'side': 'ask',\n",
    "                'quantity': 40,\n",
    "                'trade_id': 111}\n",
    "trades, order_id = order_book.process_order(market_order, False, False)\n",
    "trades"
   ]
  },
  {
   "cell_type": "code",
   "execution_count": null,
   "metadata": {
    "collapsed": true
   },
   "outputs": [],
   "source": [
    "print(order_book)"
   ]
  },
  {
   "cell_type": "markdown",
   "metadata": {},
   "source": [
    "## 5. Get live quotes"
   ]
  },
  {
   "cell_type": "code",
   "execution_count": null,
   "metadata": {
    "collapsed": true
   },
   "outputs": [],
   "source": [
    "quotes = stock_info.get_quote_table('AAPL', False).set_index('attribute'); quotes"
   ]
  },
  {
   "cell_type": "code",
   "execution_count": null,
   "metadata": {
    "collapsed": true
   },
   "outputs": [],
   "source": [
    "bid_price, bid_size = quotes.loc['Ask', 'value'].split('x')\n",
    "bid_price = decimal.Decimal(bid_price)\n",
    "bid_size = int(bid_size)\n",
    "bid_price, bid_size"
   ]
  },
  {
   "cell_type": "code",
   "execution_count": null,
   "metadata": {
    "collapsed": true
   },
   "outputs": [],
   "source": [
    "ask_price, ask_size = quotes.loc['Bid', 'value'].split('x')\n",
    "ask_price = decimal.Decimal(ask_price)\n",
    "ask_size = int(ask_size)\n",
    "ask_price, ask_size"
   ]
  },
  {
   "cell_type": "code",
   "execution_count": null,
   "metadata": {
    "collapsed": true
   },
   "outputs": [],
   "source": [
    "order_book = OrderBook()\n",
    "limit_orders = [\n",
    "    {'type' : 'limit', 'side' : 'ask', 'quantity' : ask_size, 'price' : ask_price, 'trade_id' : 100},\n",
    "    {'type' : 'limit', 'side' : 'bid', 'quantity' : bid_size, 'price' : bid_price, 'trade_id' : 101},\n",
    "    # ... if we have more L2+ data\n",
    "]\n",
    "for order in limit_orders:\n",
    "    trades, order_id = order_book.process_order(order, False, False)\n",
    "print(order_book)"
   ]
  },
  {
   "cell_type": "code",
   "execution_count": null,
   "metadata": {
    "collapsed": true
   },
   "outputs": [],
   "source": []
  }
 ],
 "metadata": {
  "kernelspec": {
   "display_name": "Python 3",
   "language": "python",
   "name": "python3"
  },
  "language_info": {
   "codemirror_mode": {
    "name": "ipython",
    "version": 3
   },
   "file_extension": ".py",
   "mimetype": "text/x-python",
   "name": "python",
   "nbconvert_exporter": "python",
   "pygments_lexer": "ipython3",
   "version": "3.6.7"
  }
 },
 "nbformat": 4,
 "nbformat_minor": 2
}
