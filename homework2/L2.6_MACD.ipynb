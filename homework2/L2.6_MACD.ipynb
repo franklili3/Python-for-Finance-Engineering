{
 "cells": [
  {
   "cell_type": "markdown",
   "metadata": {},
   "source": [
    "# MACD in Python / Pandas\n",
    "\n",
    "MACD(a, b, c) where:\n",
    "\n",
    "a: is short moving average\n",
    "b: is a longer moving average\n",
    "\n",
    "Calculate the difference of a and b\n",
    "\n",
    "Calculate the c-interval moving average\n",
    "\n",
    "Common parameters are MACD(12,26,9)\n",
    "\n",
    "For more background see: [MACD on Wikipedia](https://en.m.wikipedia.org/wiki/MACD)"
   ]
  },
  {
   "cell_type": "code",
   "execution_count": 4,
   "metadata": {},
   "outputs": [],
   "source": [
    "import pandas as pd\n",
    "import matplotlib.pyplot as plt\n",
    "import matplotlib.dates as dates\n",
    "\n",
    "import matplotlib.dates as dates\n",
    "\n",
    "# let's get some 1 minute bar data using alphavantage.co\n",
    "# register for an APIKEY at alphavantage.co\n",
    "# NOTE: you must set outputsize = full in your url otherwise you get truncated data\n",
    "# SOURCE: https://www.alphavantage.co/\n",
    "\n",
    "import io\n",
    "import requests\n",
    "\n",
    "# TODO: replace with your own API key\n",
    "apikey = \"G9X6PNM9DW17K47X\"\n",
    "\n",
    "# get daily stock prices\n",
    "def getDailyStockPrices(symbol):\n",
    "    url = 'https://www.alphavantage.co/query?function=TIME_SERIES_DAILY_ADJUSTED&outputsize=full&symbol='+symbol+'&apikey='+apikey+'&datatype=csv'\n",
    "    s = requests.get(url).content\n",
    "    symbol_df = pd.read_csv(io.StringIO(s.decode('utf-8')))\n",
    "    symbol_df = symbol_df.sort_values('timestamp', ascending=True)\n",
    "    converted_timestamp = pd.to_datetime(symbol_df['timestamp'], infer_datetime_format=True)\n",
    "    symbol_df.index = converted_timestamp\n",
    "    symbol_df = symbol_df.drop(columns = ['timestamp'])\n",
    "    return symbol_df\n",
    "\n",
    "# get minute stock prices\n",
    "def getMinuteStockPrices(symbol):\n",
    "    url = 'https://www.alphavantage.co/query?function=TIME_SERIES_INTRADAY&interval=1min&outputsize=full&symbol='+symbol+'&apikey='+apikey+'&datatype=csv'\n",
    "    s = requests.get(url).content\n",
    "    symbol_df = pd.read_csv(io.StringIO(s.decode('utf-8')))\n",
    "    symbol_df = symbol_df.sort_values('timestamp', ascending=True)\n",
    "    converted_timestamp = pd.to_datetime(symbol_df['timestamp'], infer_datetime_format=True)\n",
    "    symbol_df.index = converted_timestamp\n",
    "    symbol_df = symbol_df.drop(['timestamp'], axis= 1)\n",
    "    return symbol_df\n",
    "\n",
    "# get minute stock prices\n",
    "def getLatestStockPrice(symbol):\n",
    "    url = 'https://www.alphavantage.co/query?function=GLOBAL_QUOTE&symbol=' + symbol + '&apikey=' + apikey + '&datatype=csv'\n",
    "    s = requests.get(url).content\n",
    "    symbol_df = pd.read_csv(io.StringIO(s.decode('utf-8')))\n",
    "    return symbol_df['price'].values[0]\n",
    "\n",
    "\n",
    "# set figsize...\n",
    "plt.rcParams[\"figure.figsize\"] = [16,16]\n"
   ]
  },
  {
   "cell_type": "code",
   "execution_count": 5,
   "metadata": {},
   "outputs": [],
   "source": [
    "raw_data = getDailyStockPrices('TSLA')"
   ]
  },
  {
   "cell_type": "code",
   "execution_count": 6,
   "metadata": {
    "collapsed": true
   },
   "outputs": [],
   "source": [
    "stock_data = raw_data['2018-10-01':'2019-02-28']"
   ]
  },
  {
   "cell_type": "code",
   "execution_count": 7,
   "metadata": {
    "collapsed": true
   },
   "outputs": [],
   "source": [
    "# calculate EMAs\n",
    "\n",
    "# 26 day\n",
    "ema_26 = stock_data['close'].ewm(span=26).mean()\n",
    "\n",
    "# 12 day\n",
    "ema_12 = stock_data['close'].ewm(span=12).mean()\n",
    "\n",
    "# difference between fast and slow averages\n",
    "macd = ema_12 - ema_26\n",
    "\n",
    "# calculate the 9 period EMA of the macd\n",
    "macd_9_ema = macd.ewm(span=9).mean()\n",
    "\n",
    "# calculate the difference the macd and the \"signal line\"\n",
    "macd_diff = macd - macd_9_ema"
   ]
  },
  {
   "cell_type": "code",
   "execution_count": 8,
   "metadata": {},
   "outputs": [
    {
     "data": {
      "text/plain": [
       "Text(0.5,0.98,'MACD')"
      ]
     },
     "execution_count": 8,
     "metadata": {},
     "output_type": "execute_result"
    }
   ],
   "source": [
    "from pandas.plotting import register_matplotlib_converters\n",
    "register_matplotlib_converters()\n",
    "\n",
    "from mpl_finance import candlestick_ohlc\n",
    "\n",
    "fig, (ax1, ax2) = plt.subplots(2,1, sharex=True)\n",
    "\n",
    "# plot_day_summary(ax, quotes, ticksize=3)\n",
    "candlestick_ohlc(ax1, zip(dates.date2num(stock_data.index.to_pydatetime()),\n",
    "                         stock_data['open'], stock_data['high'],\n",
    "                         stock_data['low'], stock_data['close']),\n",
    "                         width=0.8, colorup='g', colordown='r')\n",
    "\n",
    "#ax1.plot(stock_data['close'])\n",
    "ax1.plot(ema_12)\n",
    "ax1.plot(ema_26)\n",
    "ax1.legend(['OHLC', 'EMA_12', 'EMA_26'])\n",
    "\n",
    "ax2.plot(macd, \"b-\")\n",
    "ax2.plot(macd_9_ema, \"r-\")\n",
    "ax2.bar(macd.index, macd_diff)\n",
    "ax2.legend(['macd', 'macd signal line', 'macd - signal line'])\n",
    "\n",
    "ax2.xaxis.set_major_locator(dates.DayLocator(interval=5))\n",
    "ax2.xaxis.set_major_formatter(dates.DateFormatter('%m-%d-%y'))\n",
    "\n",
    "fig.tight_layout()\n",
    "fig.autofmt_xdate()\n",
    "fig.suptitle(\"MACD\")"
   ]
  },
  {
   "cell_type": "markdown",
   "metadata": {},
   "source": [
    "## Now let's try to do make a trading strategy from this"
   ]
  },
  {
   "cell_type": "code",
   "execution_count": null,
   "metadata": {
    "collapsed": true
   },
   "outputs": [],
   "source": [
    "# given macd_diff, can we turn that into a series of signals?\n",
    "macd_diff.head()"
   ]
  },
  {
   "cell_type": "code",
   "execution_count": null,
   "metadata": {
    "collapsed": true
   },
   "outputs": [],
   "source": [
    "def calc_signal(x):\n",
    "    if x > 0:\n",
    "        return 1 # buy\n",
    "    elif x < 0:\n",
    "        return -1 # sell\n",
    "    else:\n",
    "        return 0"
   ]
  },
  {
   "cell_type": "code",
   "execution_count": null,
   "metadata": {
    "collapsed": true
   },
   "outputs": [],
   "source": [
    "signal = macd_diff.apply(calc_signal)"
   ]
  },
  {
   "cell_type": "code",
   "execution_count": null,
   "metadata": {
    "collapsed": true
   },
   "outputs": [],
   "source": [
    "# now let's accumulate some P&L\n",
    "position = 0\n",
    "trade_size = 1 # 1 share\n",
    "pnl = 0\n",
    "previous_signal = 0\n",
    "start_price = 0\n",
    "\n",
    "for index, row in stock_data.iterrows():\n",
    "    current_signal = signal.loc[index]\n",
    "    if current_signal != previous_signal: # we need to do a trade\n",
    "        # first check if we have an open position\n",
    "        if position != 0: \n",
    "            # first we need to close the position and calculate P&L\n",
    "            current_pnl = position * (row['open'] - start_price)\n",
    "            pnl += current_pnl\n",
    "            msg = \"{0} Closing. signal: {1:d} current_price: {2:.2f} start_price: {3:.2f} pnl: {4:.2f}\".format(index, current_signal, row['open'], start_price, current_pnl)\n",
    "            print(msg)\n",
    "            \n",
    "        # now open a new position\n",
    "        position = trade_size * current_signal # buy if signal is positive, sell if signal is negative\n",
    "        start_price = row['open']\n",
    "        msg = \"{0} Opening. signal: {1:d} current_price: {2:.2f}\".format(index, current_signal, row['open'])\n",
    "        print(msg)    \n",
    "        previous_signal = current_signal\n",
    "\n",
    "print(\"Final P&L: {0:.2f}\".format(pnl))"
   ]
  },
  {
   "cell_type": "code",
   "execution_count": null,
   "metadata": {
    "collapsed": true
   },
   "outputs": [],
   "source": []
  }
 ],
 "metadata": {
  "kernelspec": {
   "display_name": "Python 3",
   "language": "python",
   "name": "python3"
  }
 },
 "nbformat": 4,
 "nbformat_minor": 2
}
