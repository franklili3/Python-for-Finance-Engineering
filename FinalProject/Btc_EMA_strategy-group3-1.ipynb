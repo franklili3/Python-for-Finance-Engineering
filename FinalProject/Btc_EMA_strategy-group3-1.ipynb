{
 "cells": [
  {
   "cell_type": "markdown",
   "metadata": {},
   "source": [
    "# Btc Moving Average Trade Strategy"
   ]
  },
  {
   "cell_type": "markdown",
   "metadata": {},
   "source": [
    "## Download and process the data"
   ]
  },
  {
   "cell_type": "code",
   "execution_count": 1,
   "metadata": {},
   "outputs": [],
   "source": [
    "import json\n",
    "import time\n",
    "import sys\n",
    "from datetime import datetime, timedelta\n",
    "from urllib.request import Request, urlopen\n",
    "from urllib.parse import urlencode\n",
    "import matplotlib\n",
    "#%matplotlib inline\n",
    "import matplotlib.pyplot as plt\n",
    "import numpy as np\n",
    "import pandas as pd\n",
    "from pandas.plotting import register_matplotlib_converters\n",
    "import math as ma\n",
    "import random\n",
    "import statistics as stat\n",
    "\n",
    "minute = 60\n",
    "hour = minute*60\n",
    "day = hour*24\n",
    "week = day*7\n",
    "month = day*30\n",
    "year = day*365\n",
    "\n",
    "# Possible Commands\n",
    "PUBLIC_COMMANDS = [ 'returnTradeHistory', 'returnChartData','returnLoanOrders']\n",
    "\n",
    "class Poloniex:\n",
    "    def __init__(self):\n",
    "        # Conversions\n",
    "        self.timestamp_str = lambda timestamp=time.time(), format=\"%Y-%m-%d %H:%M:%S\": datetime.fromtimestamp(timestamp).strftime(format)\n",
    "        self.str_timestamp = lambda datestr=self.timestamp_str(), format=\"%Y-%m-%d %H:%M:%S\": int(time.mktime(time.strptime(datestr, format)))\n",
    "        self.float_roundPercent = lambda floatN, decimalP=2: str(round(float(floatN) * 100, decimalP))+\"%\"\n",
    "\n",
    "        # PUBLIC COMMANDS\n",
    "        \n",
    "        self.marketChart = lambda pair, period, start=time.time()-(month*1), end=time.time(): self.api('returnChartData', {'currencyPair':pair, 'period':period, 'start':start, 'end':end})\n",
    "        \n",
    "        # the marketTradeHist data is before 2 days from today\n",
    "        \n",
    "        self.marketTradeHist = lambda pair, start=time.time()-(day*2), end=time.time(): self.api('returnTradeHistory',{'currencyPair':pair, 'start':start, 'end':end}) # NEEDS TO BE FIXED ON Poloniex\n",
    "        self.marketLoans = lambda coin: self.api('returnLoanOrders',{'currency':coin})\n",
    "        \n",
    "    #####################\n",
    "    # Main Api Function #\n",
    "    #####################\n",
    "    def api(self, command, args={}):\n",
    "        \"\"\"\n",
    "        returns 'False' if invalid command or if no APIKey or Secret is specified (if command is \"private\")\n",
    "        returns {\"error\":\"<error message>\"} if API error\n",
    "        \"\"\"\n",
    "        if command in PUBLIC_COMMANDS:\n",
    "            url = 'https://poloniex.com/public?'\n",
    "            args['command'] = command\n",
    "            ret = urlopen(Request(url + urlencode(args)))\n",
    "            return json.loads(ret.read().decode(encoding='UTF-8'))\n",
    "        else:\n",
    "            return False\n"
   ]
  },
  {
   "cell_type": "code",
   "execution_count": 2,
   "metadata": {},
   "outputs": [],
   "source": [
    "Pol = Poloniex()\n",
    "pair = 'USDT_BTC'\n",
    "period = 300\n",
    "MarketChart = pd.DataFrame(Pol.marketChart(pair, period))\n",
    "for i in MarketChart.index:\n",
    "    \n",
    "    MarketChart.loc[i, 'date_str'] = Pol.timestamp_str(MarketChart.loc[i, 'date'])\n",
    "MarketChart[ 'date_str'] =  pd.DatetimeIndex(MarketChart['date_str'])\n",
    "MarketChart.set_index(keys = 'date_str', inplace = True)"
   ]
  },
  {
   "cell_type": "code",
   "execution_count": 3,
   "metadata": {},
   "outputs": [],
   "source": [
    "MarketTradeHist = pd.DataFrame(Pol.marketTradeHist(pair))\n",
    "MarketTradeHist[ 'date'] =  pd.DatetimeIndex(MarketTradeHist['date'])\n",
    "MarketTradeHist.set_index(keys = 'date', inplace = True)\n",
    "MarketTradeHist = MarketTradeHist.sort_index()\n",
    "MarketTradeHist.rename(columns = {'rate':'trade_price'}, inplace = True)\n",
    "MarketTradeHist.rename(columns = {'amount':'trade_qty'}, inplace = True)"
   ]
  },
  {
   "cell_type": "code",
   "execution_count": 4,
   "metadata": {},
   "outputs": [],
   "source": [
    "MarketLoans = Pol.marketLoans('BTC')"
   ]
  },
  {
   "cell_type": "code",
   "execution_count": 5,
   "metadata": {},
   "outputs": [],
   "source": [
    "MarketLoans_offers = pd.DataFrame(MarketLoans['offers'])"
   ]
  },
  {
   "cell_type": "code",
   "execution_count": 6,
   "metadata": {},
   "outputs": [],
   "source": [
    "MarketLoans_offers[['amount', 'rate']] = MarketLoans_offers[['amount', 'rate']].astype('float')"
   ]
  },
  {
   "cell_type": "code",
   "execution_count": 7,
   "metadata": {},
   "outputs": [],
   "source": [
    "order_quantity = 5"
   ]
  },
  {
   "cell_type": "code",
   "execution_count": 8,
   "metadata": {
    "scrolled": true
   },
   "outputs": [
    {
     "data": {
      "text/plain": [
       "7.995949010390001e-05"
      ]
     },
     "execution_count": 8,
     "metadata": {},
     "output_type": "execute_result"
    }
   ],
   "source": [
    "remaining_loan = order_quantity\n",
    "loan_day_interest = 0\n",
    "for index , row in MarketLoans_offers.iterrows():\n",
    "    if remaining_loan > 0:\n",
    "        loan_amount = min(remaining_loan, MarketLoans_offers.loc[index, 'amount'])\n",
    "        remaining_loan -= loan_amount\n",
    "        loan_day_interest += loan_amount * MarketLoans_offers.loc[index, 'rate']\n",
    "average_loan_day_interest_rate = loan_day_interest / order_quantity\n",
    "average_loan_day_interest_rate"
   ]
  },
  {
   "cell_type": "code",
   "execution_count": 9,
   "metadata": {},
   "outputs": [],
   "source": [
    "MarketTradeHist['trade_qty'] = MarketTradeHist['trade_qty'].astype('float')\n",
    "MarketTradeHist['trade_price'] = MarketTradeHist['trade_price'].astype('float')"
   ]
  },
  {
   "cell_type": "code",
   "execution_count": 10,
   "metadata": {},
   "outputs": [],
   "source": [
    "trade_start_hour1 = random.randint(0, 19)"
   ]
  },
  {
   "cell_type": "code",
   "execution_count": 11,
   "metadata": {},
   "outputs": [],
   "source": [
    "\n",
    "pydatetime = MarketTradeHist.index.to_pydatetime()\n",
    "date_array = np.vectorize(lambda s: s.strftime('%Y-%m-%d'))(pydatetime )\n",
    "date_s = pd.Series(date_array)"
   ]
  },
  {
   "cell_type": "code",
   "execution_count": 12,
   "metadata": {},
   "outputs": [],
   "source": [
    "start_time1 =  date_s[0] + ' ' + str(trade_start_hour1) + ':00:00'\n",
    "end_time1 = date_s[0] + ' ' + str(trade_start_hour1 + 4) + ':00:00'"
   ]
  },
  {
   "cell_type": "code",
   "execution_count": 13,
   "metadata": {},
   "outputs": [],
   "source": [
    "daytrades1 = MarketTradeHist[start_time1: end_time1]"
   ]
  },
  {
   "cell_type": "code",
   "execution_count": 14,
   "metadata": {},
   "outputs": [],
   "source": [
    "trade_start_hour2 = random.randint(0, 19)"
   ]
  },
  {
   "cell_type": "code",
   "execution_count": 15,
   "metadata": {},
   "outputs": [],
   "source": [
    "datetime1 = datetime.strptime(date_s[0],'%Y-%m-%d')\n",
    "tomorrow = datetime1 + timedelta(days =  1)\n",
    "start_time2 = str(tomorrow) + ' ' + str(trade_start_hour2) + ':00:00'\n",
    "end_time2 = str(tomorrow) + ' ' + str(trade_start_hour2 + 4) + ':00:00'\n",
    "daytrades2 = MarketTradeHist[start_time2: end_time2]"
   ]
  },
  {
   "cell_type": "code",
   "execution_count": 31,
   "metadata": {},
   "outputs": [
    {
     "data": {
      "text/plain": [
       "491"
      ]
     },
     "execution_count": 31,
     "metadata": {},
     "output_type": "execute_result"
    }
   ],
   "source": [
    "len(daytrades2)"
   ]
  },
  {
   "cell_type": "code",
   "execution_count": 29,
   "metadata": {},
   "outputs": [
    {
     "data": {
      "text/plain": [
       "1"
      ]
     },
     "execution_count": 29,
     "metadata": {},
     "output_type": "execute_result"
    }
   ],
   "source": [
    "pydatetime2 = daytrades2.index.to_pydatetime()\n",
    "time_array = np.vectorize(lambda s: s.strftime('%H:%M:%S'))(pydatetime2 )\n",
    "time_s = pd.Series(time_array)\n",
    "start_minute2 = int(time_s[0][4])"
   ]
  },
  {
   "cell_type": "markdown",
   "metadata": {},
   "source": [
    "## calculate the trading related cost"
   ]
  },
  {
   "cell_type": "code",
   "execution_count": 16,
   "metadata": {},
   "outputs": [],
   "source": [
    "%matplotlib inline\n",
    "from scipy.ndimage.interpolation import shift\n",
    "import time\n",
    "import datetime\n",
    "from sklearn import linear_model as linear_model\n",
    "matplotlib.rcParams[ 'figure.figsize' ] = ( 14, 6 )\n",
    "from pandas.plotting import register_matplotlib_converters\n",
    "\n",
    "register_matplotlib_converters()\n",
    "def show_time( label_string ):\n",
    "    ts = time.time()\n",
    "    st = datetime.datetime.fromtimestamp( ts ).strftime( '%Y-%m-%d %H:%M:%S:%f' )\n",
    "    print( label_string + ' : ' + st )"
   ]
  },
  {
   "cell_type": "markdown",
   "metadata": {},
   "source": [
    "### train VWAP Algo with train data"
   ]
  },
  {
   "cell_type": "code",
   "execution_count": 17,
   "metadata": {},
   "outputs": [],
   "source": [
    "\n",
    "# now let's make some 1 minute data using resample\n",
    "minute_data = pd.DataFrame()\n",
    "minute_data['open'] = daytrades1['trade_price'].resample('Min').first()\n",
    "minute_data['close'] = daytrades1['trade_price'].resample('Min').last()\n",
    "minute_data['high'] = daytrades1['trade_price'].resample('Min').max()\n",
    "minute_data['low'] = daytrades1['trade_price'].resample('Min').min()\n",
    "minute_data['volume'] = daytrades1['trade_qty'].resample('Min').sum()"
   ]
  },
  {
   "cell_type": "code",
   "execution_count": 18,
   "metadata": {},
   "outputs": [],
   "source": [
    "for index , row in minute_data.iterrows():\n",
    "    if np.isnan(minute_data.loc[index, 'open']):\n",
    "        minute_data.loc[index, 'open'] =  minute_data.loc[index - 1, 'open']\n",
    "        minute_data.loc[index, 'close'] =  minute_data.loc[index - 1, 'close']\n",
    "        minute_data.loc[index, 'high'] =  minute_data.loc[index - 1, 'high']\n",
    "        minute_data.loc[index, 'low'] =  minute_data.loc[index - 1, 'low']\n",
    "        minute_data.loc[index, 'volume'] =  0.0"
   ]
  },
  {
   "cell_type": "code",
   "execution_count": 19,
   "metadata": {},
   "outputs": [],
   "source": [
    "# calculate the cumulative pct by day\n",
    "minute_data[ 'accum_volume' ] = minute_data.groupby( [ minute_data.index.date ] ).cumsum()[ 'volume' ] \n",
    "minute_data[ 'accum_pct' ] = minute_data.groupby( [ minute_data.index.date ] )[ 'accum_volume' ].transform( lambda x: x / x.iloc[ -1 ] )"
   ]
  },
  {
   "cell_type": "code",
   "execution_count": 20,
   "metadata": {},
   "outputs": [],
   "source": [
    "# add a minute bin\n",
    "# start of date, calc in minutes\n",
    "start_of_day = trade_start_hour1 * 60 \n",
    "# get the time for each bin in minutes and subtract 9:30\n",
    "minute_data[ 'minute_bars' ] = ( minute_data.index.hour * 60 ) + minute_data.index.minute - start_of_day"
   ]
  },
  {
   "cell_type": "code",
   "execution_count": 21,
   "metadata": {},
   "outputs": [],
   "source": [
    "# arrange our data\n",
    "minute_bars = minute_data[ 'minute_bars' ]\n",
    "X = pd.DataFrame( { 'bin': minute_bars, \n",
    "                    'bin2' : minute_bars**2, \n",
    "                    'bin3' : minute_bars**3, \n",
    "                    'bin4' : minute_bars**4, \n",
    "                    'bin5' : minute_bars**5 } )\n",
    "y = minute_data[ 'accum_pct' ]"
   ]
  },
  {
   "cell_type": "code",
   "execution_count": 22,
   "metadata": {},
   "outputs": [
    {
     "data": {
      "text/plain": [
       "0.9707055209745946"
      ]
     },
     "execution_count": 22,
     "metadata": {},
     "output_type": "execute_result"
    }
   ],
   "source": [
    "# now do the regression\n",
    "lm = linear_model.LinearRegression()\n",
    "model = lm.fit( X, y )\n",
    "predictions = lm.predict( X )\n",
    "# Rsquared\n",
    "lm.score( X, y )"
   ]
  },
  {
   "cell_type": "code",
   "execution_count": 23,
   "metadata": {},
   "outputs": [
    {
     "data": {
      "text/plain": [
       "0.9568765770456185"
      ]
     },
     "execution_count": 23,
     "metadata": {},
     "output_type": "execute_result"
    }
   ],
   "source": [
    "# now do the regression with no intercept\n",
    "lm2 = linear_model.LinearRegression( fit_intercept = False )\n",
    "model = lm2.fit( X, y )\n",
    "predictions = lm2.predict( X )\n",
    "\n",
    "# Rsquared\n",
    "lm2.score( X, y )"
   ]
  },
  {
   "cell_type": "code",
   "execution_count": 24,
   "metadata": {},
   "outputs": [
    {
     "data": {
      "image/png": "[encoded data removed]",
      "text/plain": [
       "<Figure size 1152x648 with 1 Axes>"
      ]
     },
     "metadata": {
      "needs_background": "light"
     },
     "output_type": "display_data"
    }
   ],
   "source": [
    "\n",
    "fig, ax1 = plt.subplots( figsize = ( 16, 9 ) )\n",
    "ax1.plot( minute_data[ 'accum_pct' ] , label = 'market accumulate volume%')\n",
    "tgtsSeries = pd.Series( predictions )\n",
    "tgtsSeries.index = minute_data.index\n",
    "ax1.plot( tgtsSeries, label = 'predicted accumulate volume%')\n",
    "plt.legend()\n",
    "plt.show()"
   ]
  },
  {
   "cell_type": "code",
   "execution_count": 25,
   "metadata": {},
   "outputs": [
    {
     "data": {
      "text/plain": [
       "<matplotlib.axes._subplots.AxesSubplot at 0xb20d164e0>"
      ]
     },
     "execution_count": 25,
     "metadata": {},
     "output_type": "execute_result"
    },
    {
     "data": {
      "image/png": "[encoded data removed]",
      "text/plain": [
       "<Figure size 1152x648 with 1 Axes>"
      ]
     },
     "metadata": {
      "needs_background": "light"
     },
     "output_type": "display_data"
    }
   ],
   "source": [
    "minute_data['close'].plot(figsize=(16,9))"
   ]
  },
  {
   "cell_type": "markdown",
   "metadata": {},
   "source": [
    "### run a VWAP Algo with test data"
   ]
  },
  {
   "cell_type": "code",
   "execution_count": 26,
   "metadata": {},
   "outputs": [],
   "source": [
    "# returns next minute target\n",
    "# scale the last value to ensure it converges to 1 by the end and then shift the series by back by one\n",
    "def get_vwap_targets( order_size ):\n",
    "    bar_pcts = predictions\n",
    "    bar_pcts = bar_pcts / predictions[ -1]\n",
    "    bar_pcts = shift( bar_pcts, -1, cval=1 )\n",
    "    return np.minimum( ( bar_pcts * order_size ).astype( 'float' ), order_size )"
   ]
  },
  {
   "cell_type": "code",
   "execution_count": 27,
   "metadata": {},
   "outputs": [],
   "source": [
    "# generate target schedule - use bins 1 - 390 giving an automatic 1 minute \"look ahead\"\n",
    "# note that targets have been converted to shares from percent\n",
    "order_targets = get_vwap_targets( order_quantity )"
   ]
  },
  {
   "cell_type": "code",
   "execution_count": 32,
   "metadata": {},
   "outputs": [
    {
     "data": {
      "text/plain": [
       "238"
      ]
     },
     "execution_count": 32,
     "metadata": {},
     "output_type": "execute_result"
    }
   ],
   "source": [
    "len(order_targets)"
   ]
  },
  {
   "cell_type": "code",
   "execution_count": 33,
   "metadata": {},
   "outputs": [
    {
     "name": "stdout",
     "output_type": "stream",
     "text": [
      "start loop : 2019-05-07 21:36:15:712577\n",
      "end loop : 2019-05-07 21:36:15:807435\n",
      "Btc volume: 45.22726785000003\n",
      "order shares traded: 5.0\n",
      "average price: 5705.06089729995\n",
      "%trading_related_cost:0.17%\n",
      "average trade size: 0.06097560975609756\n"
     ]
    },
    {
     "data": {
      "image/png": "[encoded data removed]",
      "text/plain": [
       "<Figure size 1152x648 with 1 Axes>"
      ]
     },
     "metadata": {
      "needs_background": "light"
     },
     "output_type": "display_data"
    }
   ],
   "source": [
    "# initialize some other variables\n",
    "current_bar = 1\n",
    "current_target = 0\n",
    "quantity_filled = 0\n",
    "last_price = 0.0\n",
    "last_quantity = 0.0\n",
    "total_volume = 0.0\n",
    "vwap_numerator = 0.0\n",
    "trades_arr = []\n",
    "average_trades_price = 0\n",
    "n = 1\n",
    "trades_amount = 0\n",
    "quantity_remaining = order_quantity\n",
    "quantity_filled = 0\n",
    "trading_related_cost = 0\n",
    "# main event loop\n",
    "show_time( 'start loop' )\n",
    "for index, row in daytrades2.iterrows():\n",
    "    # figure out which minute we are in after the open\n",
    "    time_from_open = ( index - pd.Timedelta( hours = trade_start_hour2, minutes = start_minute2 ) )\n",
    "    minutes_from_open = ( time_from_open.hour * 60 ) + time_from_open.minute\n",
    "        \n",
    "    last_price = row[ 'trade_price' ]\n",
    "    last_quantity = row[ 'trade_qty' ]\n",
    "        \n",
    "    # collect volume\n",
    "    total_volume += last_quantity\n",
    "   \n",
    "    # are we in a new minute?\n",
    "    if ( minutes_from_open > current_bar ) and (minutes_from_open < len(order_targets)):\n",
    "        # we're in a new bar do new bar things here\n",
    "        current_bar = minutes_from_open\n",
    "        current_target = min( np.ceil( order_targets[ current_bar ] ), order_quantity )\n",
    "        # trade logic\n",
    "        quantity_behind = current_target - quantity_filled\n",
    "        if ( quantity_behind > 0 ): # we need to trade now\n",
    "            new_trade_price = last_price\n",
    "            new_trade_quantity = min(quantity_behind, last_quantity)\n",
    "            trades_arr.append( ( new_trade_price, new_trade_quantity, current_bar, index ) )\n",
    "            \n",
    "            # update quantity remaining\n",
    "            quantity_remaining = min( 0, quantity_remaining - new_trade_quantity )\n",
    "            quantity_filled += new_trade_quantity\n",
    "            arrival_price = trades_arr[0][0]\n",
    "            trading_related_cost += new_trade_quantity * (new_trade_price - arrival_price)\n",
    "        \n",
    "# looping done\n",
    "show_time( 'end loop' )\n",
    "#Now, let's look at some stats\n",
    "        \n",
    "trades_df = pd.DataFrame( trades_arr, columns=[ 'trade_price', 'trade_qty', 'bar', 'time' ] )\n",
    "trades_df.index = pd.to_datetime( trades_df[ 'time' ] )\n",
    "trades_df = trades_df.drop( columns = ['time'] )\n",
    "print( 'Btc volume: ' + str( total_volume ) )\n",
    "print( 'order shares traded: ' + str( quantity_filled ) )\n",
    "avg_price = (trades_df[ 'trade_price' ] * trades_df[ 'trade_qty' ]).sum() / trades_df[ 'trade_qty' ].sum()\n",
    "trading_related_cost_pct = round(trading_related_cost / (order_quantity * arrival_price) * 100, 2)\n",
    "print( 'average price: ' + str( avg_price ) )\n",
    "print('%trading_related_cost:' + str(trading_related_cost_pct) + '%')\n",
    "print( 'average trade size: ' + str( trades_df[ 'trade_qty' ].mean() ) )\n",
    "fig, ax1 = plt.subplots( figsize = ( 16, 9 ) )\n",
    "ax1.plot( daytrades2[ 'trade_price' ], label = ' Btc market price' )\n",
    "ax1.plot( trades_df[ 'trade_price' ], label = 'our Trades' )\n",
    "plt.title( 'Our trades vs. the day' )\n",
    "plt.legend()\n",
    "plt.show()\n",
    "\n"
   ]
  },
  {
   "cell_type": "code",
   "execution_count": null,
   "metadata": {},
   "outputs": [],
   "source": [
    "trading_fee_pct = 0.2\n",
    "trading_cost_pct = trading_fee_pct + trading_related_cost_pct"
   ]
  },
  {
   "cell_type": "markdown",
   "metadata": {},
   "source": [
    "## Moving Average Margin Trade Strategy"
   ]
  },
  {
   "cell_type": "markdown",
   "metadata": {},
   "source": [
    "### calculate EMA"
   ]
  },
  {
   "cell_type": "code",
   "execution_count": null,
   "metadata": {},
   "outputs": [],
   "source": [
    "\n",
    "ema = []\n",
    "for j in range(1, 20):\n",
    "    ema.append(MarketChart['close'].ewm(span = 10 * j).mean())\n"
   ]
  },
  {
   "cell_type": "code",
   "execution_count": null,
   "metadata": {},
   "outputs": [],
   "source": [
    "MarketChart['close'].plot(figsize=(16,9), label = 'market close price')\n",
    "plt.plot(MarketChart.index, ema[0], label = 'EMA10')\n",
    "plt.legend()\n",
    "plt.show()"
   ]
  },
  {
   "cell_type": "markdown",
   "metadata": {},
   "source": [
    "### calculate the difference pecentage between close and ema"
   ]
  },
  {
   "cell_type": "code",
   "execution_count": null,
   "metadata": {},
   "outputs": [],
   "source": [
    "\n",
    "\n",
    "diff_pct_close_vs_ema = []\n",
    "diff_pct_close_vs_ema_mean = []\n",
    "diff_pct_close_vs_ema_std = []\n",
    "diff_pct_close_vs_ema_negative_abnormal = []\n",
    "diff_pct_close_vs_ema_positive_abnormal = []\n",
    "diff_pct_close_vs_ema_max = []\n",
    "diff_pct_close_vs_ema_min = []\n",
    "for j in range(18):\n",
    "    diff_pct_close_vs_ema.append((MarketChart['close'] - ema[j])/ ema[j])\n",
    "    diff_pct_close_vs_ema_mean.append(diff_pct_close_vs_ema[j].mean())\n",
    "    diff_pct_close_vs_ema_std.append(diff_pct_close_vs_ema[j].std())\n",
    "    diff_pct_close_vs_ema_negative_abnormal.append(diff_pct_close_vs_ema_mean[j] - 3 * diff_pct_close_vs_ema_std[j])\n",
    "    diff_pct_close_vs_ema_positive_abnormal.append(diff_pct_close_vs_ema_mean[j] + 3 * diff_pct_close_vs_ema_std[j])\n",
    "    diff_pct_close_vs_ema_max.append(diff_pct_close_vs_ema[j].max())\n",
    "    diff_pct_close_vs_ema_min.append(diff_pct_close_vs_ema[j].min())\n",
    "diff_pct_close_vs_ema[18].hist(bins=20,figsize=(16,9))\n",
    "plt.vlines(diff_pct_close_vs_ema_negative_abnormal[18], 0, 5000, colors = \"green\", linestyles = \"dashed\")\n",
    "plt.vlines(diff_pct_close_vs_ema_positive_abnormal[18], 0, 5000, colors = \"red\", linestyles = \"dashed\")\n",
    "plt.show()\n",
    "print('j={0} diff_pct_close_vs_ema_negative_abnormal: {1:.3f} diff_pct_close_vs_ema_min: {2:.3f} diff_pct_close_vs_ema_max:{3:.3f} diff_pct_close_vs_ema_positive_abnormal: {4:.3f}'.format(18, diff_pct_close_vs_ema_negative_abnormal[18], diff_pct_close_vs_ema_min[18], diff_pct_close_vs_ema_max[18], diff_pct_close_vs_ema_positive_abnormal[18]))"
   ]
  },
  {
   "cell_type": "code",
   "execution_count": null,
   "metadata": {},
   "outputs": [],
   "source": [
    "MarketChart['close'].plot(figsize=(16,9), label = 'market close price')\n",
    "plt.plot(MarketChart.index, ema[18], label = 'EMA190')\n",
    "plt.legend()\n",
    "plt.show()"
   ]
  },
  {
   "cell_type": "markdown",
   "metadata": {},
   "source": [
    "### select j and span"
   ]
  },
  {
   "cell_type": "code",
   "execution_count": null,
   "metadata": {},
   "outputs": [],
   "source": [
    "## calculate market 5 minute return\n",
    "start = MarketChart_datetime[0]\n",
    "end = MarketChart_datetime[- 1]\n",
    "days = (end - start).days\n",
    "performance = {'j':[], 'strategy_annual_return':[], 'strategy_annual_std':[], 'strategy_annual_sharpe':[], 'win_rate':[], 'final_pnl':[]}\n",
    "principle_dict = {'j':[], 'index':[], 'principle':[]}\n",
    "sig_buy_list = []\n",
    "sig_sell_list = []\n",
    "signal_list = []\n",
    "strategy_return_list = []\n",
    "strategy_capital_line = []\n",
    "strategy_std = []\n",
    "strategy_sharpe = []\n",
    "trade_price_dict ={'j':[], 'index':[], 'trade_price':[]}\n",
    "for j in range(18):\n",
    "    ## setup signal\n",
    "    sig_buy = ma.ceil(diff_pct_close_vs_ema_negative_abnormal[j] * 1000) / 1000\n",
    "    sig_buy_list.append(sig_buy)\n",
    "    sig_sell = ma.floor(diff_pct_close_vs_ema_positive_abnormal[j] * 1000) / 1000\n",
    "    sig_sell_list.append(sig_sell)\n",
    "    index_stock_price = 1\n",
    "    n_stock_price = len(MarketChart)\n",
    "    sig = np.zeros(n_stock_price, dtype = np.int)\n",
    "   \n",
    "    for index_stock_price in range(n_stock_price):\n",
    "        if diff_pct_close_vs_ema[j][index_stock_price - 1] <  sig_buy:\n",
    "            sig[index_stock_price] = 1\n",
    "        elif diff_pct_close_vs_ema[j][index_stock_price - 1] >= sig_sell:\n",
    "            sig[index_stock_price] = - 1\n",
    "        else:\n",
    "            if sig[index_stock_price - 1] == 1:\n",
    "                sig[index_stock_price] = 1\n",
    "            elif sig[index_stock_price - 1] == 0:\n",
    "                sig[index_stock_price] = 0\n",
    "            elif sig[index_stock_price - 1] == - 1:\n",
    "                sig[index_stock_price] = - 1\n",
    "    signal = pd.Series(sig, index = MarketChart.index)\n",
    "    signal_list.append(signal)\n",
    "    \n",
    "    \n",
    "    # now let's accumulate some P&L\n",
    "    position = 0\n",
    "    principle = order_quantity * MarketChart.iloc[0, 0]\n",
    "    \n",
    "    #leverage = 1\n",
    "    pnl = 0\n",
    "    previous_signal = 0\n",
    "    start_price = 0\n",
    "    negative_pnl = 0\n",
    "    positive_pnl = 0\n",
    "    for index, row in MarketChart.iterrows():\n",
    "        current_signal = signal.loc[index]\n",
    "        if current_signal != previous_signal: # we need to do a trade\n",
    "            # first check if we have an open position\n",
    "            if position != 0: \n",
    "                # first we need to close the position and calculate P&L\n",
    "                trade_price_dict['j'].append(j)\n",
    "                trade_price_dict['index'].append(index)\n",
    "                trade_price_dict['trade_price'].append(row['open'] * (1 - trading_cost_pct / 100))\n",
    "                current_pnl = position * (row['open'] * (1 - trading_cost_pct / 100) - start_price)\n",
    "                if position < 0:\n",
    "                    principle = start_principle + current_pnl\n",
    "                else:\n",
    "                    principle = trade_size * row['open'] * (1 - trading_cost_pct / 100)\n",
    "                principle_dict['j'].append(j)\n",
    "                principle_dict['index'].append(index)\n",
    "                principle_dict['principle'].append(principle)\n",
    "                if current_pnl < 0:\n",
    "                    negative_pnl += 1\n",
    "                else:\n",
    "                    positive_pnl += 1\n",
    "                pnl += current_pnl\n",
    "            \n",
    "            # now open a new position\n",
    "           \n",
    "            trade_size = principle * (1 - trading_cost_pct / 100) / row['open'] \n",
    "            position = trade_size * current_signal # buy if signal is positive, sell if signal is negative\n",
    "            start_price = row['open'] * (1+ trading_cost_pct / 100)\n",
    "            start_principle = principle * (1 - trading_cost_pct / 100)\n",
    "            principle_dict['j'].append(j)\n",
    "            principle_dict['index'].append(index)\n",
    "            principle_dict['principle'].append(start_principle)\n",
    "            trade_price_dict['j'].append(j)\n",
    "            trade_price_dict['index'].append(index)\n",
    "            trade_price_dict['trade_price'].append(start_price)\n",
    "            previous_signal = current_signal\n",
    "        else:\n",
    "            if position > 0:\n",
    "                principle = trade_size * row['close']\n",
    "                principle_dict['j'].append(j)\n",
    "                principle_dict['index'].append(index)\n",
    "                principle_dict['principle'].append(principle)\n",
    "            elif position < 0:\n",
    "                current_pnl = position * (row['close'] -  start_price)\n",
    "                principle = start_principle + current_pnl\n",
    "                principle_dict['j'].append(j)\n",
    "                principle_dict['index'].append(index)\n",
    "                principle_dict['principle'].append(principle)\n",
    "            else:\n",
    "                principle_dict['j'].append(j)\n",
    "                principle_dict['index'].append(index)\n",
    "                principle_dict['principle'].append(principle)\n",
    "\n",
    "    win_rate = positive_pnl / (positive_pnl + negative_pnl) * 100\n",
    "    performance['j'].append(j) \n",
    "    performance['win_rate'].append(win_rate)\n",
    "    \n",
    "    ## calculate strategy 5 minute return\n",
    "    principle_df = pd.DataFrame(principle_dict)\n",
    "    strategy_return = (principle_df[principle_df['j'] == j]['principle'] - principle_df[principle_df['j'] == j]['principle'].shift(1)) /  principle_df[principle_df['j'] == j]['principle'].shift(1)\n",
    "    strategy_return1 = strategy_return.dropna()\n",
    "    strategy_return2 = list(strategy_return1)\n",
    "    strategy_return_list.append(strategy_return1)\n",
    "    \n",
    "    # calculate strategy annual return\n",
    "    strategy_accumulate_return= np.cumprod(1 + np.array(strategy_return2)).tolist()\n",
    "    strategy_capital_line.append(strategy_accumulate_return)\n",
    "    strategy_annual_return = ma.pow(strategy_accumulate_return[-1] / strategy_accumulate_return[0], 365/days ) -1\n",
    "    performance['strategy_annual_return'].append(strategy_annual_return)\n",
    "    \n",
    "    # calculate stragegy 5 minute standard deviation\n",
    "    strategy_std.append(stat.stdev(strategy_return_list[j]))\n",
    "    \n",
    "    #  calculate strategy annual standard deviation\n",
    "    performance['strategy_annual_std'].append(strategy_std[j] * ma.sqrt(365 * 24 * 12))\n",
    "\n",
    "    # calculate strategy sharpe ratio\n",
    "    performance['strategy_annual_sharpe'].append((performance['strategy_annual_return'][j] - 0.02) / performance['strategy_annual_std'][j])\n",
    "    \n",
    "    performance['final_pnl'].append(pnl)\n"
   ]
  },
  {
   "cell_type": "code",
   "execution_count": null,
   "metadata": {},
   "outputs": [],
   "source": [
    "## when Sharpe  is the max\n",
    "performance_df = pd.DataFrame(performance)\n",
    "best_j = performance_df.index.values[performance_df['strategy_annual_sharpe'] == performance_df['strategy_annual_sharpe'].max()]\n"
   ]
  },
  {
   "cell_type": "code",
   "execution_count": null,
   "metadata": {},
   "outputs": [],
   "source": []
  },
  {
   "cell_type": "code",
   "execution_count": null,
   "metadata": {},
   "outputs": [],
   "source": [
    "diff_pct_close_vs_ema[best_j[0]].hist(bins=20,figsize=(16,9))\n",
    "plt.vlines(diff_pct_close_vs_ema_negative_abnormal[best_j[0]], 0, 5000, colors = \"green\", linestyles = \"dashed\")\n",
    "plt.vlines(diff_pct_close_vs_ema_positive_abnormal[best_j[0]], 0, 5000, colors = \"red\", linestyles = \"dashed\")\n",
    "plt.show()\n",
    "print('j={0} diff_pct_close_vs_ema_negative_abnormal: {1:.3f} diff_pct_close_vs_ema_min: {2:.3f} diff_pct_close_vs_ema_max:{3:.3f} diff_pct_close_vs_ema_positive_abnormal: {4:.3f}'.format(best_j[0], diff_pct_close_vs_ema_negative_abnormal[best_j[0]], diff_pct_close_vs_ema_min[best_j[0]], diff_pct_close_vs_ema_max[best_j[0]], diff_pct_close_vs_ema_positive_abnormal[best_j[0]]))"
   ]
  },
  {
   "cell_type": "code",
   "execution_count": null,
   "metadata": {},
   "outputs": [],
   "source": [
    "# Present relationship between %deviation and price\n",
    "register_matplotlib_converters()\n",
    "\n",
    "plt.plot(diff_pct_close_vs_ema[best_j[0]], MarketChart['close'], \"b-\")\n",
    "plt.xlabel('close vs ema{0:d} %'.format(110))\n",
    "plt.ylabel('BTC Price')\n",
    "plt.vlines(sig_buy_list[best_j[0]], 4100, 5600, colors = \"green\", linestyles = \"dashed\")\n",
    "plt.vlines(sig_sell_list[best_j[0]], 4100, 5600, colors = \"red\", linestyles = \"dashed\")\n",
    "plt.show()"
   ]
  },
  {
   "cell_type": "code",
   "execution_count": null,
   "metadata": {},
   "outputs": [],
   "source": [
    "performance_df.iloc[best_j[0]]"
   ]
  },
  {
   "cell_type": "code",
   "execution_count": null,
   "metadata": {},
   "outputs": [],
   "source": [
    "MarketChart_return = (MarketChart - MarketChart.shift(1))/MarketChart.shift(1)\n",
    "MarketChart_return= MarketChart_return.dropna()\n",
    "MarketChart_return2 = MarketChart_return['close']\n",
    "MarketChart_std = MarketChart_return2.std()\n",
    "MarketChart_annual_std = MarketChart_std * ma.sqrt(365 * 24 * 12)\n",
    "MarketChart_datetime = MarketChart.index.to_pydatetime()\n",
    "\n",
    "MarketChart_return3 = list(MarketChart_return2)\n",
    "MarketChart_capital_line = np.cumprod(1 + np.array(MarketChart_return2))\n",
    "MarketChart_capital_line_list = MarketChart_capital_line.tolist()\n",
    "MarketChart_annual_return = ma.pow(MarketChart_capital_line_list[-1] / MarketChart_capital_line_list[0], 365/days ) -1\n",
    "MarketChart_annual_sharpe = (MarketChart_annual_return - 0.02) / MarketChart_annual_std"
   ]
  },
  {
   "cell_type": "code",
   "execution_count": null,
   "metadata": {},
   "outputs": [],
   "source": [
    "## select min period of trading\n",
    "signal_best = pd.Series(signal_list[best_j[0]])"
   ]
  },
  {
   "cell_type": "code",
   "execution_count": null,
   "metadata": {},
   "outputs": [],
   "source": [
    "signal_best.plot(figsize=(16,9))"
   ]
  },
  {
   "cell_type": "code",
   "execution_count": null,
   "metadata": {},
   "outputs": [],
   "source": [
    "trade_price_df = pd.DataFrame(trade_price_dict)"
   ]
  },
  {
   "cell_type": "code",
   "execution_count": null,
   "metadata": {},
   "outputs": [],
   "source": [
    "trade_price_df_best = trade_price_df[trade_price_df['j']== best_j[0]]"
   ]
  },
  {
   "cell_type": "code",
   "execution_count": null,
   "metadata": {},
   "outputs": [],
   "source": [
    "trade_price_df_best.set_index(keys = 'index', inplace = True)"
   ]
  },
  {
   "cell_type": "code",
   "execution_count": null,
   "metadata": {},
   "outputs": [],
   "source": [
    "MarketChart['close'].plot(figsize=(16,9), label = 'market close price')\n",
    "trade_price_df_best['trade_price'].plot(figsize=(16,9), label = 'trade price')\n",
    "span = 10 * (1 + best_j[0])\n",
    "label = \"EMA\" + str(span)\n",
    "plt.plot(MarketChart.index, ema[best_j[0]], label = label)\n",
    "plt.legend()\n",
    "plt.show()"
   ]
  },
  {
   "cell_type": "code",
   "execution_count": null,
   "metadata": {},
   "outputs": [],
   "source": [
    "MarketChart_capital_line_df = pd.DataFrame(MarketChart_capital_line)\n",
    "MarketChart_capital_line_df.index = MarketChart_return2.index\n",
    "strategy_capital_line_best = pd.DataFrame(strategy_capital_line[best_j[0]])\n",
    "principle_df_best1 = principle_df_best.shift(1)\n",
    "principle_df_best1 = principle_df_best1.dropna()\n",
    "strategy_capital_line_best.index = principle_df_best1.index\n",
    "MarketChart_capital_line_and_strategy_capital_line_best = pd.merge(MarketChart_capital_line_df, strategy_capital_line_best, left_index = True, right_index = True)\n",
    "MarketChart_capital_line_and_strategy_capital_line_best.columns = ['Market accumulate return', 'Strategy accumulate return']\n",
    "\n",
    "MarketChart_capital_line_and_strategy_capital_line_best.plot(figsize=(16,9))\n",
    "plt.legend()\n",
    "plt.show()"
   ]
  },
  {
   "cell_type": "code",
   "execution_count": null,
   "metadata": {},
   "outputs": [],
   "source": [
    "performance_btc = ['Btc', MarketChart_annual_return, MarketChart_annual_std, MarketChart_annual_sharpe ]\n",
    "performance_strategy = ['EMA Strategy Margin Trade', performance_df.loc[best_j[0], 'strategy_annual_return'], performance_df.loc[best_j[0], 'strategy_annual_std'], performance_df.loc[best_j[0], 'strategy_annual_sharpe']]\n",
    "\n",
    "MarketChart_and_strategy_return_and_risk = pd.DataFrame([performance_btc, performance_strategy])\n",
    "MarketChart_and_strategy_return_and_risk.columns = ['project', 'annual_return', 'annual_std', 'annual_sharpe']"
   ]
  },
  {
   "cell_type": "code",
   "execution_count": null,
   "metadata": {},
   "outputs": [],
   "source": [
    "MarketChart_and_strategy_return_and_risk"
   ]
  },
  {
   "cell_type": "code",
   "execution_count": null,
   "metadata": {},
   "outputs": [],
   "source": [
    "size = MarketChart_and_strategy_return_and_risk['annual_sharpe'].rank()\n",
    "n = 400\n",
    "color = {0: 'red', 1:'blue'}\n",
    "plt.scatter(MarketChart_and_strategy_return_and_risk['annual_return'], MarketChart_and_strategy_return_and_risk['annual_std'], color =[color[i] for i in MarketChart_and_strategy_return_and_risk.index], s = MarketChart_and_strategy_return_and_risk['annual_sharpe'])\n",
    "plt.xlabel('annual_return')\n",
    "plt.ylabel('annual_std')\n",
    "plt.title(\"Sharpe of Bitcoin EMA Strategy Margin Trade is Bitcoin price's 55 times\")\n",
    "plt.show()"
   ]
  }
 ],
 "metadata": {
  "kernelspec": {
   "display_name": "Python 3",
   "language": "python",
   "name": "python3"
  },
  "language_info": {
   "codemirror_mode": {
    "name": "ipython",
    "version": 3
   },
   "file_extension": ".py",
   "mimetype": "text/x-python",
   "name": "python",
   "nbconvert_exporter": "python",
   "pygments_lexer": "ipython3",
   "version": "3.7.1"
  }
 },
 "nbformat": 4,
 "nbformat_minor": 2
}
