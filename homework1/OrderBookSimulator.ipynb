{
 "cells": [
  {
   "cell_type": "markdown",
   "metadata": {},
   "source": [
    "# Order Book Simulator v1"
   ]
  },
  {
   "cell_type": "code",
   "execution_count": 1,
   "metadata": {},
   "outputs": [],
   "source": [
    "%matplotlib inline\n",
    "import numpy as np\n",
    "import pandas as pd\n",
    "import matplotlib\n",
    "import matplotlib.pyplot as plt\n",
    "from collections import OrderedDict\n",
    "matplotlib.rcParams['figure.figsize'] = (14, 6)"
   ]
  },
  {
   "cell_type": "code",
   "execution_count": 2,
   "metadata": {},
   "outputs": [],
   "source": [
    "%run orderbook.py"
   ]
  },
  {
   "cell_type": "code",
   "execution_count": 3,
   "metadata": {},
   "outputs": [
    {
     "data": {
      "text/html": [
       "<div>\n",
       "<style scoped>\n",
       "    .dataframe tbody tr th:only-of-type {\n",
       "        vertical-align: middle;\n",
       "    }\n",
       "\n",
       "    .dataframe tbody tr th {\n",
       "        vertical-align: top;\n",
       "    }\n",
       "\n",
       "    .dataframe thead th {\n",
       "        text-align: right;\n",
       "    }\n",
       "</style>\n",
       "<table border=\"1\" class=\"dataframe\">\n",
       "  <thead>\n",
       "    <tr style=\"text-align: right;\">\n",
       "      <th></th>\n",
       "      <th>BUY_QTY</th>\n",
       "      <th>BUY_PX</th>\n",
       "      <th>SELL_PX</th>\n",
       "      <th>SELL_QTY</th>\n",
       "    </tr>\n",
       "  </thead>\n",
       "  <tbody>\n",
       "    <tr>\n",
       "      <th>0</th>\n",
       "      <td>1000.0</td>\n",
       "      <td>99.5</td>\n",
       "      <td>100.02</td>\n",
       "      <td>2500</td>\n",
       "    </tr>\n",
       "    <tr>\n",
       "      <th>1</th>\n",
       "      <td>900.0</td>\n",
       "      <td>99.0</td>\n",
       "      <td>100.50</td>\n",
       "      <td>1900</td>\n",
       "    </tr>\n",
       "    <tr>\n",
       "      <th>2</th>\n",
       "      <td>NaN</td>\n",
       "      <td>NaN</td>\n",
       "      <td>101.01</td>\n",
       "      <td>200</td>\n",
       "    </tr>\n",
       "  </tbody>\n",
       "</table>\n",
       "</div>"
      ],
      "text/plain": [
       "   BUY_QTY  BUY_PX  SELL_PX  SELL_QTY\n",
       "0   1000.0    99.5   100.02      2500\n",
       "1    900.0    99.0   100.50      1900\n",
       "2      NaN     NaN   101.01       200"
      ]
     },
     "metadata": {},
     "output_type": "display_data"
    }
   ],
   "source": [
    "dummy_book()\n",
    "show_book()"
   ]
  },
  {
   "cell_type": "markdown",
   "metadata": {},
   "source": [
    "## a.randomly decide a new buy order or sell order"
   ]
  },
  {
   "cell_type": "code",
   "execution_count": 4,
   "metadata": {
    "collapsed": true
   },
   "outputs": [],
   "source": [
    "def random_price(side, bbo)\n",
    "    if side == 's':\n",
    "        price = bbo[1][0] + round(np.random.random(), 2)\n",
    "    else:\n",
    "        price = bbo[0][0] + round(np.random.random(), 2)\n",
    "    return price  \n",
    "def new_bbo_df(n)\n",
    "    bbo_df = np.DataFrame(columns = ['bid', 'offer')], index = list(range(n)))\n",
    "    dummy_book()\n",
    "    for i in range(n):\n",
    "        bbo = get_BBO()\n",
    "        side = np.random.choice('s', 'b')\n",
    "        price = random_price(side, bbo)\n",
    "        qty = np.random.randint(1,1000)\n",
    "        new_order(side, price, qty)\n",
    "        new_bbo = get_BBO()\n",
    "        bbo_df.bid[i] = new_bbo[0][0]\n",
    "        bbo_df.offer[i] = new_bbo[1][0]\n",
    "    return bbo_df\n",
    "def plot_bbo(bbo_df)\n",
    "    bbo_df.plot(figsize = (16, 9))\n",
    "\n",
    "n = 200\n",
    "new_bbo_df(n)\n",
    "plot_bbo\n",
    "#print('ramdon_int %r, side %s' % (ramdon_int, side))"
   ]
  },
  {
   "cell_type": "code",
   "execution_count": 37,
   "metadata": {},
   "outputs": [],
   "source": [
    "BBO_df = pd.DataFrame(BBO, columns=['bid_price', 'bid_quantity', 'offer_price', 'offer_quantity'])"
   ]
  },
  {
   "cell_type": "code",
   "execution_count": 38,
   "metadata": {},
   "outputs": [
    {
     "data": {
      "text/plain": [
       "Text(0,0.5,'Best bid price')"
      ]
     },
     "execution_count": 38,
     "metadata": {},
     "output_type": "execute_result"
    },
    {
     "data": {
      "image/png": "[encoded data removed]",
      "text/plain": [
       "<Figure size 1008x432 with 1 Axes>"
      ]
     },
     "metadata": {},
     "output_type": "display_data"
    }
   ],
   "source": [
    "BBO_df['bid_price'].plot()\n",
    "plt.xlabel(\"frequency\")\n",
    "plt.ylabel('Best bid price')"
   ]
  },
  {
   "cell_type": "code",
   "execution_count": 39,
   "metadata": {},
   "outputs": [
    {
     "data": {
      "text/plain": [
       "Text(0,0.5,'Best offer price')"
      ]
     },
     "execution_count": 39,
     "metadata": {},
     "output_type": "execute_result"
    },
    {
     "data": {
      "image/png": "[encoded data removed]",
      "text/plain": [
       "<Figure size 1008x432 with 1 Axes>"
      ]
     },
     "metadata": {},
     "output_type": "display_data"
    }
   ],
   "source": [
    "BBO_df['offer_price'].plot()\n",
    "plt.xlabel(\"frequency\")\n",
    "plt.ylabel('Best offer price')"
   ]
  },
  {
   "cell_type": "code",
   "execution_count": null,
   "metadata": {
    "collapsed": true
   },
   "outputs": [],
   "source": []
  }
 ],
 "metadata": {
  "kernelspec": {
   "display_name": "Python 3",
   "language": "python",
   "name": "python3"
  },
  "language_info": {
   "codemirror_mode": {
    "name": "ipython",
    "version": 3
   },
   "file_extension": ".py",
   "mimetype": "text/x-python",
   "name": "python",
   "nbconvert_exporter": "python",
   "pygments_lexer": "ipython3",
   "version": "3.7.1"
  }
 },
 "nbformat": 4,
 "nbformat_minor": 2
}
