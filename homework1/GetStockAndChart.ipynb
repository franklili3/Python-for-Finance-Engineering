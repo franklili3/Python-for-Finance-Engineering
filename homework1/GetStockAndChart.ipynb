{
 "cells": [
  {
   "cell_type": "markdown",
   "metadata": {
    "collapsed": true
   },
   "source": [
    "## define the function"
   ]
  },
  {
   "cell_type": "code",
   "execution_count": 1,
   "metadata": {
    "collapsed": true
   },
   "outputs": [],
   "source": [
    "# let's get some 1 minute bar data using alphavantage.co\n",
    "# register for an APIKEY at alphavantage.co\n",
    "# NOTE: you must set outputsize = full in your url otherwise you get truncated data\n",
    "# SOURCE: https://www.alphavantage.co/\n",
    "\n",
    "import pandas as pd\n",
    "import io\n",
    "import requests\n",
    "\n",
    "# TODO: replace with your own API key\n",
    "apikey = \"G9X6PNM9DW17K47X\"\n",
    "\n",
    "# get daily stock prices\n",
    "def getDailyStockPrices(symbol):\n",
    "    url = 'https://www.alphavantage.co/query?function=TIME_SERIES_DAILY_ADJUSTED&outputsize=full&symbol='+symbol+'&apikey='+apikey+'&datatype=csv'\n",
    "    s = requests.get(url).content\n",
    "    symbol_df = pd.read_csv(io.StringIO(s.decode('utf-8')))\n",
    "    symbol_df = symbol_df.sort_values('timestamp', ascending=True)\n",
    "    converted_timestamp = pd.to_datetime(symbol_df['timestamp'], infer_datetime_format=True)\n",
    "    symbol_df.index = converted_timestamp\n",
    "    symbol_df = symbol_df.drop(columns = ['timestamp'])\n",
    "    return symbol_df\n",
    "\n",
    "# get minute stock prices\n",
    "def getMinuteStockPrices(symbol):\n",
    "    url = 'https://www.alphavantage.co/query?function=TIME_SERIES_INTRADAY&interval=1min&outputsize=full&symbol='+symbol+'&apikey='+apikey+'&datatype=csv'\n",
    "    s = requests.get(url).content\n",
    "    symbol_df = pd.read_csv(io.StringIO(s.decode('utf-8')))\n",
    "    symbol_df = symbol_df.sort_values('timestamp', ascending=True)\n",
    "    converted_timestamp = pd.to_datetime(symbol_df['timestamp'], infer_datetime_format=True)\n",
    "    symbol_df.index = converted_timestamp\n",
    "    symbol_df = symbol_df.drop(['timestamp'], axis= 1)\n",
    "    return symbol_df\n",
    "\n",
    "# get minute stock prices\n",
    "def getLatestStockPrice(symbol):\n",
    "    url = 'https://www.alphavantage.co/query?function=GLOBAL_QUOTE&symbol=' + symbol + '&apikey=' + apikey + '&datatype=csv'\n",
    "    s = requests.get(url).content\n",
    "    symbol_df = pd.read_csv(io.StringIO(s.decode('utf-8')))\n",
    "    return symbol_df['price'].values[0]\n"
   ]
  },
  {
   "cell_type": "markdown",
   "metadata": {},
   "source": [
    "## download data of stock"
   ]
  },
  {
   "cell_type": "code",
   "execution_count": 2,
   "metadata": {},
   "outputs": [
    {
     "name": "stdout",
     "output_type": "stream",
     "text": [
      "<class 'pandas.core.frame.DataFrame'>\n"
     ]
    }
   ],
   "source": [
    "symbol = 'MSFT'\n",
    "history_data_MSFT_1min = getMinuteStockPrices(symbol)\n",
    "print(type(history_data_MSFT_1min))"
   ]
  },
  {
   "cell_type": "markdown",
   "metadata": {},
   "source": [
    "## data processing"
   ]
  },
  {
   "cell_type": "code",
   "execution_count": 4,
   "metadata": {},
   "outputs": [
    {
     "data": {
      "text/html": [
       "<div>\n",
       "<style scoped>\n",
       "    .dataframe tbody tr th:only-of-type {\n",
       "        vertical-align: middle;\n",
       "    }\n",
       "\n",
       "    .dataframe tbody tr th {\n",
       "        vertical-align: top;\n",
       "    }\n",
       "\n",
       "    .dataframe thead th {\n",
       "        text-align: right;\n",
       "    }\n",
       "</style>\n",
       "<table border=\"1\" class=\"dataframe\">\n",
       "  <thead>\n",
       "    <tr style=\"text-align: right;\">\n",
       "      <th></th>\n",
       "      <th>open</th>\n",
       "      <th>high</th>\n",
       "      <th>low</th>\n",
       "      <th>close</th>\n",
       "      <th>volume</th>\n",
       "    </tr>\n",
       "    <tr>\n",
       "      <th>timestamp</th>\n",
       "      <th></th>\n",
       "      <th></th>\n",
       "      <th></th>\n",
       "      <th></th>\n",
       "      <th></th>\n",
       "    </tr>\n",
       "  </thead>\n",
       "  <tbody>\n",
       "    <tr>\n",
       "      <th>2019-03-25 09:31:00</th>\n",
       "      <td>116.560</td>\n",
       "      <td>116.67</td>\n",
       "      <td>116.340</td>\n",
       "      <td>116.60</td>\n",
       "      <td>858114</td>\n",
       "    </tr>\n",
       "    <tr>\n",
       "      <th>2019-03-25 09:32:00</th>\n",
       "      <td>116.590</td>\n",
       "      <td>116.70</td>\n",
       "      <td>116.330</td>\n",
       "      <td>116.35</td>\n",
       "      <td>154066</td>\n",
       "    </tr>\n",
       "    <tr>\n",
       "      <th>2019-03-25 09:33:00</th>\n",
       "      <td>116.345</td>\n",
       "      <td>116.78</td>\n",
       "      <td>116.345</td>\n",
       "      <td>116.74</td>\n",
       "      <td>114600</td>\n",
       "    </tr>\n",
       "  </tbody>\n",
       "</table>\n",
       "</div>"
      ],
      "text/plain": [
       "                        open    high      low   close  volume\n",
       "timestamp                                                    \n",
       "2019-03-25 09:31:00  116.560  116.67  116.340  116.60  858114\n",
       "2019-03-25 09:32:00  116.590  116.70  116.330  116.35  154066\n",
       "2019-03-25 09:33:00  116.345  116.78  116.345  116.74  114600"
      ]
     },
     "execution_count": 4,
     "metadata": {},
     "output_type": "execute_result"
    }
   ],
   "source": [
    "chart_date = '2019-03-25'\n",
    "history_data_MSFT_1min_chart_date = history_data_MSFT_1min[chart_date]\n",
    "history_data_MSFT_1min_chart_date.head(3)"
   ]
  },
  {
   "cell_type": "markdown",
   "metadata": {},
   "source": [
    "## draw picture of price and volume of the stock"
   ]
  },
  {
   "cell_type": "code",
   "execution_count": 14,
   "metadata": {},
   "outputs": [
    {
     "data": {
      "text/plain": [
       "Text(0.5, 1.0, \"Microsoft's stock minute price\")"
      ]
     },
     "execution_count": 14,
     "metadata": {},
     "output_type": "execute_result"
    },
    {
     "data": {
      "image/png": "[encoded data removed]",
      "text/plain": [
       "<Figure size 432x288 with 1 Axes>"
      ]
     },
     "metadata": {
      "needs_background": "light"
     },
     "output_type": "display_data"
    }
   ],
   "source": [
    "import matplotlib.pyplot as plt\n",
    "history_data_MSFT_1min_chart_date.plot(y = ['open', 'high', 'low', 'close'], kind='line')\n",
    "plt.ylabel('price')\n",
    "plt.xlabel(chart_date)\n",
    "plt.title(\"Microsoft's stock minute price\")\n",
    "#plt.show()"
   ]
  },
  {
   "cell_type": "code",
   "execution_count": 15,
   "metadata": {},
   "outputs": [
    {
     "data": {
      "text/plain": [
       "Text(0.5, 1.0, \"Microsoft's stock minute volume\")"
      ]
     },
     "execution_count": 15,
     "metadata": {},
     "output_type": "execute_result"
    },
    {
     "data": {
      "image/png": "[encoded data removed]",
      "text/plain": [
       "<Figure size 432x288 with 1 Axes>"
      ]
     },
     "metadata": {
      "needs_background": "light"
     },
     "output_type": "display_data"
    }
   ],
   "source": [
    "history_data_MSFT_1min_chart_date.plot(y = 'volume', kind='line')\n",
    "plt.ylabel('volume')\n",
    "plt.xlabel(chart_date)\n",
    "plt.title(\"Microsoft's stock minute volume\")\n",
    "#plt.show()"
   ]
  },
  {
   "cell_type": "markdown",
   "metadata": {},
   "source": [
    "##  calculate and display summary descriptive statistics"
   ]
  },
  {
   "cell_type": "code",
   "execution_count": 18,
   "metadata": {},
   "outputs": [
    {
     "data": {
      "text/html": [
       "<div>\n",
       "<style scoped>\n",
       "    .dataframe tbody tr th:only-of-type {\n",
       "        vertical-align: middle;\n",
       "    }\n",
       "\n",
       "    .dataframe tbody tr th {\n",
       "        vertical-align: top;\n",
       "    }\n",
       "\n",
       "    .dataframe thead th {\n",
       "        text-align: right;\n",
       "    }\n",
       "</style>\n",
       "<table border=\"1\" class=\"dataframe\">\n",
       "  <thead>\n",
       "    <tr style=\"text-align: right;\">\n",
       "      <th></th>\n",
       "      <th>open</th>\n",
       "      <th>high</th>\n",
       "      <th>low</th>\n",
       "      <th>close</th>\n",
       "      <th>volume</th>\n",
       "    </tr>\n",
       "  </thead>\n",
       "  <tbody>\n",
       "    <tr>\n",
       "      <th>count</th>\n",
       "      <td>390.000000</td>\n",
       "      <td>390.000000</td>\n",
       "      <td>390.000000</td>\n",
       "      <td>390.000000</td>\n",
       "      <td>390.000000</td>\n",
       "    </tr>\n",
       "    <tr>\n",
       "      <th>mean</th>\n",
       "      <td>117.373173</td>\n",
       "      <td>117.420926</td>\n",
       "      <td>117.325727</td>\n",
       "      <td>117.375692</td>\n",
       "      <td>59243.943590</td>\n",
       "    </tr>\n",
       "    <tr>\n",
       "      <th>std</th>\n",
       "      <td>0.299807</td>\n",
       "      <td>0.290314</td>\n",
       "      <td>0.306615</td>\n",
       "      <td>0.296506</td>\n",
       "      <td>61455.798081</td>\n",
       "    </tr>\n",
       "    <tr>\n",
       "      <th>min</th>\n",
       "      <td>116.345000</td>\n",
       "      <td>116.670000</td>\n",
       "      <td>116.330000</td>\n",
       "      <td>116.350000</td>\n",
       "      <td>13668.000000</td>\n",
       "    </tr>\n",
       "    <tr>\n",
       "      <th>25%</th>\n",
       "      <td>117.130000</td>\n",
       "      <td>117.180000</td>\n",
       "      <td>117.072500</td>\n",
       "      <td>117.130000</td>\n",
       "      <td>31810.500000</td>\n",
       "    </tr>\n",
       "    <tr>\n",
       "      <th>50%</th>\n",
       "      <td>117.382500</td>\n",
       "      <td>117.420000</td>\n",
       "      <td>117.350000</td>\n",
       "      <td>117.385000</td>\n",
       "      <td>46904.500000</td>\n",
       "    </tr>\n",
       "    <tr>\n",
       "      <th>75%</th>\n",
       "      <td>117.600000</td>\n",
       "      <td>117.645025</td>\n",
       "      <td>117.550000</td>\n",
       "      <td>117.608750</td>\n",
       "      <td>68694.250000</td>\n",
       "    </tr>\n",
       "    <tr>\n",
       "      <th>max</th>\n",
       "      <td>118.000000</td>\n",
       "      <td>118.010000</td>\n",
       "      <td>117.950000</td>\n",
       "      <td>118.000000</td>\n",
       "      <td>858114.000000</td>\n",
       "    </tr>\n",
       "  </tbody>\n",
       "</table>\n",
       "</div>"
      ],
      "text/plain": [
       "             open        high         low       close         volume\n",
       "count  390.000000  390.000000  390.000000  390.000000     390.000000\n",
       "mean   117.373173  117.420926  117.325727  117.375692   59243.943590\n",
       "std      0.299807    0.290314    0.306615    0.296506   61455.798081\n",
       "min    116.345000  116.670000  116.330000  116.350000   13668.000000\n",
       "25%    117.130000  117.180000  117.072500  117.130000   31810.500000\n",
       "50%    117.382500  117.420000  117.350000  117.385000   46904.500000\n",
       "75%    117.600000  117.645025  117.550000  117.608750   68694.250000\n",
       "max    118.000000  118.010000  117.950000  118.000000  858114.000000"
      ]
     },
     "execution_count": 18,
     "metadata": {},
     "output_type": "execute_result"
    }
   ],
   "source": [
    "import numpy as np\n",
    "history_data_MSFT_1min_chart_date_describe = history_data_MSFT_1min_chart_date.describe()\n",
    "history_data_MSFT_1min_chart_date_describe"
   ]
  },
  {
   "cell_type": "code",
   "execution_count": 21,
   "metadata": {},
   "outputs": [
    {
     "name": "stdout",
     "output_type": "stream",
     "text": [
      "Totle volume of Microsoft's stock for 2019-03-25 is 23105138.000000\n",
      "Volume Weighted Average Price of Microsoft's stock for 2019-03-25 is 117.356062\n"
     ]
    }
   ],
   "source": [
    "history_data_MSFT_1min_totle_volume_chart_date = np.sum(history_data_MSFT_1min_chart_date['volume'])\n",
    "history_data_MSFT_1min_totle_amount_chart_date = np.sum(history_data_MSFT_1min_chart_date['volume'] * history_data_MSFT_1min_chart_date['close'])\n",
    "history_data_MSFT_1min_vwap_chart_date = history_data_MSFT_1min_totle_amount_chart_date / history_data_MSFT_1min_totle_volume_chart_date\n",
    "print(\"Totle volume of Microsoft's stock for \"+chart_date+\" is %hf\" % history_data_MSFT_1min_totle_volume_chart_date)\n",
    "print(\"Volume Weighted Average Price of Microsoft's stock for \"+chart_date+\" is %hf\" % history_data_MSFT_1min_vwap_chart_date)"
   ]
  },
  {
   "cell_type": "code",
   "execution_count": null,
   "metadata": {
    "collapsed": true
   },
   "outputs": [],
   "source": []
  }
 ],
 "metadata": {
  "kernelspec": {
   "display_name": "Python 3",
   "language": "python",
   "name": "python3"
  },
  "language_info": {
   "codemirror_mode": {
    "name": "ipython",
    "version": 3
   },
   "file_extension": ".py",
   "mimetype": "text/x-python",
   "name": "python",
   "nbconvert_exporter": "python",
   "pygments_lexer": "ipython3",
   "version": "3.6.2"
  }
 },
 "nbformat": 4,
 "nbformat_minor": 1
}
