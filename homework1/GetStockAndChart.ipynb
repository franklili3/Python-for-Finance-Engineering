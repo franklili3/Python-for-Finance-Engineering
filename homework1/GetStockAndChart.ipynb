{
 "cells": [
  {
   "cell_type": "markdown",
   "metadata": {
    "collapsed": true
   },
   "source": [
    "## define the function"
   ]
  },
  {
   "cell_type": "code",
   "execution_count": 1,
   "metadata": {},
   "outputs": [],
   "source": [
    "# let's get some 1 minute bar data using alphavantage.co\n",
    "# register for an APIKEY at alphavantage.co\n",
    "# NOTE: you must set outputsize = full in your url otherwise you get truncated data\n",
    "# SOURCE: https://www.alphavantage.co/\n",
    "\n",
    "import pandas as pd\n",
    "import io\n",
    "import requests\n",
    "\n",
    "# TODO: replace with your own API key\n",
    "apikey = \"G9X6PNM9DW17K47X\"\n",
    "\n",
    "# get daily stock prices\n",
    "def getDailyStockPrices(symbol):\n",
    "    url = 'https://www.alphavantage.co/query?function=TIME_SERIES_DAILY_ADJUSTED&outputsize=full&symbol='+symbol+'&apikey='+apikey+'&datatype=csv'\n",
    "    s = requests.get(url).content\n",
    "    symbol_df = pd.read_csv(io.StringIO(s.decode('utf-8')))\n",
    "    symbol_df = symbol_df.sort_values('timestamp', ascending=True)\n",
    "    converted_timestamp = pd.to_datetime(symbol_df['timestamp'], infer_datetime_format=True)\n",
    "    symbol_df.index = converted_timestamp\n",
    "    symbol_df = symbol_df.drop(columns = ['timestamp'])\n",
    "    return symbol_df\n",
    "\n",
    "# get minute stock prices\n",
    "def getMinuteStockPrices(symbol):\n",
    "    url = 'https://www.alphavantage.co/query?function=TIME_SERIES_INTRADAY&interval=1min&outputsize=full&symbol='+symbol+'&apikey='+apikey+'&datatype=csv'\n",
    "    s = requests.get(url).content\n",
    "    symbol_df = pd.read_csv(io.StringIO(s.decode('utf-8')))\n",
    "    symbol_df = symbol_df.sort_values('timestamp', ascending=True)\n",
    "    converted_timestamp = pd.to_datetime(symbol_df['timestamp'], infer_datetime_format=True)\n",
    "    symbol_df.index = converted_timestamp\n",
    "    symbol_df = symbol_df.drop(['timestamp'], axis= 1)\n",
    "    return symbol_df\n",
    "\n",
    "# get minute stock prices\n",
    "def getLatestStockPrice(symbol):\n",
    "    url = 'https://www.alphavantage.co/query?function=GLOBAL_QUOTE&symbol=' + symbol + '&apikey=' + apikey + '&datatype=csv'\n",
    "    s = requests.get(url).content\n",
    "    symbol_df = pd.read_csv(io.StringIO(s.decode('utf-8')))\n",
    "    return symbol_df['price'].values[0]\n"
   ]
  },
  {
   "cell_type": "markdown",
   "metadata": {},
   "source": [
    "## download data of stock"
   ]
  },
  {
   "cell_type": "code",
   "execution_count": 2,
   "metadata": {},
   "outputs": [
    {
     "name": "stdout",
     "output_type": "stream",
     "text": [
      "<class 'pandas.core.frame.DataFrame'>\n"
     ]
    }
   ],
   "source": [
    "symbol = 'MSFT'\n",
    "history_data_MSFT_1min = getMinuteStockPrices(symbol)\n",
    "print(type(history_data_MSFT_1min))"
   ]
  },
  {
   "cell_type": "markdown",
   "metadata": {},
   "source": [
    "## data processing"
   ]
  },
  {
   "cell_type": "code",
   "execution_count": 3,
   "metadata": {},
   "outputs": [
    {
     "data": {
      "text/html": [
       "<div>\n",
       "<style scoped>\n",
       "    .dataframe tbody tr th:only-of-type {\n",
       "        vertical-align: middle;\n",
       "    }\n",
       "\n",
       "    .dataframe tbody tr th {\n",
       "        vertical-align: top;\n",
       "    }\n",
       "\n",
       "    .dataframe thead th {\n",
       "        text-align: right;\n",
       "    }\n",
       "</style>\n",
       "<table border=\"1\" class=\"dataframe\">\n",
       "  <thead>\n",
       "    <tr style=\"text-align: right;\">\n",
       "      <th></th>\n",
       "      <th>open</th>\n",
       "      <th>high</th>\n",
       "      <th>low</th>\n",
       "      <th>close</th>\n",
       "      <th>volume</th>\n",
       "    </tr>\n",
       "    <tr>\n",
       "      <th>timestamp</th>\n",
       "      <th></th>\n",
       "      <th></th>\n",
       "      <th></th>\n",
       "      <th></th>\n",
       "      <th></th>\n",
       "    </tr>\n",
       "  </thead>\n",
       "  <tbody>\n",
       "    <tr>\n",
       "      <th>2019-04-09 09:31:00</th>\n",
       "      <td>118.58</td>\n",
       "      <td>119.0400</td>\n",
       "      <td>118.580</td>\n",
       "      <td>119.04</td>\n",
       "      <td>705819</td>\n",
       "    </tr>\n",
       "    <tr>\n",
       "      <th>2019-04-09 09:32:00</th>\n",
       "      <td>119.09</td>\n",
       "      <td>119.0983</td>\n",
       "      <td>118.960</td>\n",
       "      <td>119.02</td>\n",
       "      <td>76682</td>\n",
       "    </tr>\n",
       "    <tr>\n",
       "      <th>2019-04-09 09:33:00</th>\n",
       "      <td>118.99</td>\n",
       "      <td>119.0700</td>\n",
       "      <td>118.875</td>\n",
       "      <td>119.06</td>\n",
       "      <td>124931</td>\n",
       "    </tr>\n",
       "  </tbody>\n",
       "</table>\n",
       "</div>"
      ],
      "text/plain": [
       "                       open      high      low   close  volume\n",
       "timestamp                                                     \n",
       "2019-04-09 09:31:00  118.58  119.0400  118.580  119.04  705819\n",
       "2019-04-09 09:32:00  119.09  119.0983  118.960  119.02   76682\n",
       "2019-04-09 09:33:00  118.99  119.0700  118.875  119.06  124931"
      ]
     },
     "execution_count": 3,
     "metadata": {},
     "output_type": "execute_result"
    }
   ],
   "source": [
    "chart_date = '2019-04-09'\n",
    "history_data_MSFT_1min_chart_date = history_data_MSFT_1min[chart_date]\n",
    "history_data_MSFT_1min_chart_date.head(3)"
   ]
  },
  {
   "cell_type": "markdown",
   "metadata": {},
   "source": [
    "## draw picture of price and volume of the stock"
   ]
  },
  {
   "cell_type": "code",
   "execution_count": 9,
   "metadata": {},
   "outputs": [
    {
     "data": {
      "image/png": "[encoded data removed]",
      "text/plain": [
       "<Figure size 720x720 with 2 Axes>"
      ]
     },
     "metadata": {
      "needs_background": "light"
     },
     "output_type": "display_data"
    }
   ],
   "source": [
    "import matplotlib.pyplot as plt\n",
    "history_data_MSFT_1min_chart_date[[ 'close', 'volume']].plot(subplots =True, figsize = (10, 10))\n",
    "plt.show()"
   ]
  },
  {
   "cell_type": "markdown",
   "metadata": {},
   "source": [
    "##  calculate and display summary descriptive statistics"
   ]
  },
  {
   "cell_type": "code",
   "execution_count": 11,
   "metadata": {},
   "outputs": [
    {
     "data": {
      "text/html": [
       "<div>\n",
       "<style scoped>\n",
       "    .dataframe tbody tr th:only-of-type {\n",
       "        vertical-align: middle;\n",
       "    }\n",
       "\n",
       "    .dataframe tbody tr th {\n",
       "        vertical-align: top;\n",
       "    }\n",
       "\n",
       "    .dataframe thead th {\n",
       "        text-align: right;\n",
       "    }\n",
       "</style>\n",
       "<table border=\"1\" class=\"dataframe\">\n",
       "  <thead>\n",
       "    <tr style=\"text-align: right;\">\n",
       "      <th></th>\n",
       "      <th>open</th>\n",
       "      <th>high</th>\n",
       "      <th>low</th>\n",
       "      <th>close</th>\n",
       "      <th>volume</th>\n",
       "    </tr>\n",
       "  </thead>\n",
       "  <tbody>\n",
       "    <tr>\n",
       "      <th>count</th>\n",
       "      <td>390.000000</td>\n",
       "      <td>390.000000</td>\n",
       "      <td>390.000000</td>\n",
       "      <td>390.000000</td>\n",
       "      <td>390.000000</td>\n",
       "    </tr>\n",
       "    <tr>\n",
       "      <th>mean</th>\n",
       "      <td>119.176571</td>\n",
       "      <td>119.201441</td>\n",
       "      <td>119.154996</td>\n",
       "      <td>119.178383</td>\n",
       "      <td>37213.220513</td>\n",
       "    </tr>\n",
       "    <tr>\n",
       "      <th>std</th>\n",
       "      <td>0.114327</td>\n",
       "      <td>0.108334</td>\n",
       "      <td>0.116248</td>\n",
       "      <td>0.109774</td>\n",
       "      <td>58133.701801</td>\n",
       "    </tr>\n",
       "    <tr>\n",
       "      <th>min</th>\n",
       "      <td>118.580000</td>\n",
       "      <td>118.940000</td>\n",
       "      <td>118.580000</td>\n",
       "      <td>118.820000</td>\n",
       "      <td>5633.000000</td>\n",
       "    </tr>\n",
       "    <tr>\n",
       "      <th>25%</th>\n",
       "      <td>119.100000</td>\n",
       "      <td>119.120000</td>\n",
       "      <td>119.080000</td>\n",
       "      <td>119.100000</td>\n",
       "      <td>17603.500000</td>\n",
       "    </tr>\n",
       "    <tr>\n",
       "      <th>50%</th>\n",
       "      <td>119.160000</td>\n",
       "      <td>119.180000</td>\n",
       "      <td>119.140000</td>\n",
       "      <td>119.160000</td>\n",
       "      <td>25515.500000</td>\n",
       "    </tr>\n",
       "    <tr>\n",
       "      <th>75%</th>\n",
       "      <td>119.250000</td>\n",
       "      <td>119.270600</td>\n",
       "      <td>119.220000</td>\n",
       "      <td>119.250000</td>\n",
       "      <td>40728.000000</td>\n",
       "    </tr>\n",
       "    <tr>\n",
       "      <th>max</th>\n",
       "      <td>119.520000</td>\n",
       "      <td>119.540000</td>\n",
       "      <td>119.470000</td>\n",
       "      <td>119.492700</td>\n",
       "      <td>816874.000000</td>\n",
       "    </tr>\n",
       "  </tbody>\n",
       "</table>\n",
       "</div>"
      ],
      "text/plain": [
       "             open        high         low       close         volume\n",
       "count  390.000000  390.000000  390.000000  390.000000     390.000000\n",
       "mean   119.176571  119.201441  119.154996  119.178383   37213.220513\n",
       "std      0.114327    0.108334    0.116248    0.109774   58133.701801\n",
       "min    118.580000  118.940000  118.580000  118.820000    5633.000000\n",
       "25%    119.100000  119.120000  119.080000  119.100000   17603.500000\n",
       "50%    119.160000  119.180000  119.140000  119.160000   25515.500000\n",
       "75%    119.250000  119.270600  119.220000  119.250000   40728.000000\n",
       "max    119.520000  119.540000  119.470000  119.492700  816874.000000"
      ]
     },
     "execution_count": 11,
     "metadata": {},
     "output_type": "execute_result"
    }
   ],
   "source": [
    "import numpy as np\n",
    "history_data_MSFT_1min_chart_date_describe = history_data_MSFT_1min_chart_date.describe()\n",
    "history_data_MSFT_1min_chart_date_describe"
   ]
  },
  {
   "cell_type": "code",
   "execution_count": 12,
   "metadata": {},
   "outputs": [
    {
     "name": "stdout",
     "output_type": "stream",
     "text": [
      "Totle volume of Microsoft's stock for 2019-04-09 is 14513156\n",
      "Volume Weighted Average Price of Microsoft's stock for 2019-04-09 is 119.171054\n"
     ]
    }
   ],
   "source": [
    "history_data_MSFT_1min_totle_volume_chart_date = np.sum(history_data_MSFT_1min_chart_date['volume'])\n",
    "history_data_MSFT_1min_totle_amount_chart_date = np.sum(history_data_MSFT_1min_chart_date['volume'] * history_data_MSFT_1min_chart_date['close'])\n",
    "history_data_MSFT_1min_vwap_chart_date = history_data_MSFT_1min_totle_amount_chart_date / history_data_MSFT_1min_totle_volume_chart_date\n",
    "print(\"Totle volume of Microsoft's stock for \"+chart_date+\" is %hd\" % history_data_MSFT_1min_totle_volume_chart_date)\n",
    "print(\"Volume Weighted Average Price of Microsoft's stock for \"+chart_date+\" is %hf\" % history_data_MSFT_1min_vwap_chart_date)"
   ]
  },
  {
   "cell_type": "code",
   "execution_count": null,
   "metadata": {
    "collapsed": true
   },
   "outputs": [],
   "source": []
  }
 ],
 "metadata": {
  "kernelspec": {
   "display_name": "Python 3",
   "language": "python",
   "name": "python3"
  },
  "language_info": {
   "codemirror_mode": {
    "name": "ipython",
    "version": 3
   },
   "file_extension": ".py",
   "mimetype": "text/x-python",
   "name": "python",
   "nbconvert_exporter": "python",
   "pygments_lexer": "ipython3",
   "version": "3.7.1"
  }
 },
 "nbformat": 4,
 "nbformat_minor": 1
}
