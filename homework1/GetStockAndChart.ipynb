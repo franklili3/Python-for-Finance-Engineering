{
 "cells": [
  {
   "cell_type": "markdown",
   "metadata": {
    "collapsed": true
   },
   "source": [
    "## define the function"
   ]
  },
  {
   "cell_type": "code",
   "execution_count": 1,
   "metadata": {
    "collapsed": true
   },
   "outputs": [],
   "source": [
    "# let's get some 1 minute bar data using alphavantage.co\n",
    "# register for an APIKEY at alphavantage.co\n",
    "# NOTE: you must set outputsize = full in your url otherwise you get truncated data\n",
    "# SOURCE: https://www.alphavantage.co/\n",
    "\n",
    "import pandas as pd\n",
    "import io\n",
    "import requests\n",
    "\n",
    "# TODO: replace with your own API key\n",
    "apikey = \"G9X6PNM9DW17K47X\"\n",
    "\n",
    "# get daily stock prices\n",
    "def getDailyStockPrices(symbol):\n",
    "    url = 'https://www.alphavantage.co/query?function=TIME_SERIES_DAILY_ADJUSTED&outputsize=full&symbol='+symbol+'&apikey='+apikey+'&datatype=csv'\n",
    "    s = requests.get(url).content\n",
    "    symbol_df = pd.read_csv(io.StringIO(s.decode('utf-8')))\n",
    "    symbol_df = symbol_df.sort_values('timestamp', ascending=True)\n",
    "    converted_timestamp = pd.to_datetime(symbol_df['timestamp'], infer_datetime_format=True)\n",
    "    symbol_df.index = converted_timestamp\n",
    "    symbol_df = symbol_df.drop(columns = ['timestamp'])\n",
    "    return symbol_df\n",
    "\n",
    "# get minute stock prices\n",
    "def getMinuteStockPrices(symbol):\n",
    "    url = 'https://www.alphavantage.co/query?function=TIME_SERIES_INTRADAY&interval=1min&outputsize=full&symbol='+symbol+'&apikey='+apikey+'&datatype=csv'\n",
    "    s = requests.get(url).content\n",
    "    symbol_df = pd.read_csv(io.StringIO(s.decode('utf-8')))\n",
    "    symbol_df = symbol_df.sort_values('timestamp', ascending=True)\n",
    "    converted_timestamp = pd.to_datetime(symbol_df['timestamp'], infer_datetime_format=True)\n",
    "    symbol_df.index = converted_timestamp\n",
    "    symbol_df = symbol_df.drop(['timestamp'], axis= 1)\n",
    "    return symbol_df\n",
    "\n",
    "# get minute stock prices\n",
    "def getLatestStockPrice(symbol):\n",
    "    url = 'https://www.alphavantage.co/query?function=GLOBAL_QUOTE&symbol=' + symbol + '&apikey=' + apikey + '&datatype=csv'\n",
    "    s = requests.get(url).content\n",
    "    symbol_df = pd.read_csv(io.StringIO(s.decode('utf-8')))\n",
    "    return symbol_df['price'].values[0]\n"
   ]
  },
  {
   "cell_type": "markdown",
   "metadata": {},
   "source": [
    "## download data of stock"
   ]
  },
  {
   "cell_type": "code",
   "execution_count": 2,
   "metadata": {},
   "outputs": [
    {
     "name": "stdout",
     "output_type": "stream",
     "text": [
      "<class 'pandas.core.frame.DataFrame'>\n"
     ]
    }
   ],
   "source": [
    "symbol = 'MSFT'\n",
    "history_data_MSFT_1min = getMinuteStockPrices(symbol)\n",
    "print(type(history_data_MSFT_1min))"
   ]
  },
  {
   "cell_type": "code",
   "execution_count": 3,
   "metadata": {},
   "outputs": [
    {
     "name": "stdout",
     "output_type": "stream",
     "text": [
      "open         116.07\n",
      "high         116.43\n",
      "low          116.05\n",
      "close        116.43\n",
      "volume    662475.00\n",
      "Name: 2019-03-18 09:31:00, dtype: float64\n"
     ]
    }
   ],
   "source": [
    "print(history_data_MSFT_1min.iloc[0,])"
   ]
  },
  {
   "cell_type": "markdown",
   "metadata": {},
   "source": [
    "## data processing"
   ]
  },
  {
   "cell_type": "code",
   "execution_count": 4,
   "metadata": {
    "collapsed": true
   },
   "outputs": [],
   "source": [
    "chart_date = '2019-03-18'\n",
    "history_data_MSFT_1min_open = pd.Series(history_data_MSFT_1min['open'], index=history_data_MSFT_1min.index)\n",
    "history_data_MSFT_1min_high = pd.Series(history_data_MSFT_1min['high'], index=history_data_MSFT_1min.index)\n",
    "history_data_MSFT_1min_low = pd.Series(history_data_MSFT_1min['low'], index=history_data_MSFT_1min.index)\n",
    "history_data_MSFT_1min_close = pd.Series(history_data_MSFT_1min['close'], index=history_data_MSFT_1min.index)\n",
    "history_data_MSFT_1min_volume = pd.Series(history_data_MSFT_1min['volume'], index=history_data_MSFT_1min.index)\n",
    "history_data_MSFT_1min_open.rename = 'open'\n",
    "history_data_MSFT_1min_high.rename = 'high'\n",
    "history_data_MSFT_1min_low.rename = 'low'\n",
    "history_data_MSFT_1min_close.rename = 'close'\n",
    "history_data_MSFT_1min_volume.rename = 'volume'\n",
    "history_data_MSFT_1min_open_chart_date = history_data_MSFT_1min_open[chart_date]\n",
    "history_data_MSFT_1min_high_chart_date = history_data_MSFT_1min_high[chart_date]\n",
    "history_data_MSFT_1min_low_chart_date = history_data_MSFT_1min_low[chart_date]\n",
    "history_data_MSFT_1min_close_chart_date = history_data_MSFT_1min_close[chart_date]\n",
    "history_data_MSFT_1min_volume_chart_date = history_data_MSFT_1min_volume[chart_date]"
   ]
  },
  {
   "cell_type": "markdown",
   "metadata": {},
   "source": [
    "## draw picture of price and volume of the stock"
   ]
  },
  {
   "cell_type": "code",
   "execution_count": 58,
   "metadata": {},
   "outputs": [
    {
     "data": {
      "text/plain": [
       "<matplotlib.axes._subplots.AxesSubplot at 0x10f133cc0>"
      ]
     },
     "execution_count": 58,
     "metadata": {},
     "output_type": "execute_result"
    }
   ],
   "source": [
    "import matplotlib.pyplot as plt\n",
    "history_data_MSFT_1min_close_chart_date.plot(kind='line')\n",
    "####"
   ]
  },
  {
   "cell_type": "code",
   "execution_count": null,
   "metadata": {
    "collapsed": true
   },
   "outputs": [],
   "source": []
  }
 ],
 "metadata": {
  "kernelspec": {
   "display_name": "Python 3",
   "language": "python",
   "name": "python3"
  },
  "language_info": {
   "codemirror_mode": {
    "name": "ipython",
    "version": 3
   },
   "file_extension": ".py",
   "mimetype": "text/x-python",
   "name": "python",
   "nbconvert_exporter": "python",
   "pygments_lexer": "ipython3",
   "version": "3.6.8"
  }
 },
 "nbformat": 4,
 "nbformat_minor": 1
}
